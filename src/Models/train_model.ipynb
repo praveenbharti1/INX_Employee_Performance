{
 "cells": [
  {
   "cell_type": "markdown",
   "id": "38e07d43-bcbd-4222-a379-1e045a277396",
   "metadata": {},
   "source": [
    "# <center> INX FUTURE INC EMPLOYEE PERFORMANCE ANALYSIS"
   ]
  },
  {
   "cell_type": "markdown",
   "id": "43818026-b42c-4c39-8ff5-e25ad52b468a",
   "metadata": {},
   "source": [
    "## <center> BUISNESS CASE:BASED ON GIVEN FEATURE OF DATASET WE NEED TO PREDICT THE PERFOMANCE RATING OF EMPLOYEE"
   ]
  },
  {
   "cell_type": "markdown",
   "id": "b90faf5d-1997-429c-8a31-42e1b83739cb",
   "metadata": {},
   "source": [
    "***Importing the necessary libraries***"
   ]
  },
  {
   "cell_type": "code",
   "execution_count": 1,
   "id": "eaed0bad-ba27-4e80-bcde-6d1631fa20fd",
   "metadata": {
    "tags": []
   },
   "outputs": [],
   "source": [
    "import pandas as pd\n",
    "import numpy as np\n",
    "from tqdm import tqdm\n",
    "\n",
    "import warnings\n",
    "warnings.filterwarnings('ignore')"
   ]
  },
  {
   "cell_type": "code",
   "execution_count": 2,
   "id": "881846ad-40b9-4b96-ada1-273dfed9beb5",
   "metadata": {
    "tags": []
   },
   "outputs": [],
   "source": [
    "# reading the processed data csv\n",
    "data = pd.read_csv('../../data/processed.csv')"
   ]
  },
  {
   "cell_type": "code",
   "execution_count": 3,
   "id": "18184f81-aeb5-47fa-a202-47d78e643840",
   "metadata": {
    "tags": []
   },
   "outputs": [
    {
     "data": {
      "text/html": [
       "<div>\n",
       "<style scoped>\n",
       "    .dataframe tbody tr th:only-of-type {\n",
       "        vertical-align: middle;\n",
       "    }\n",
       "\n",
       "    .dataframe tbody tr th {\n",
       "        vertical-align: top;\n",
       "    }\n",
       "\n",
       "    .dataframe thead th {\n",
       "        text-align: right;\n",
       "    }\n",
       "</style>\n",
       "<table border=\"1\" class=\"dataframe\">\n",
       "  <thead>\n",
       "    <tr style=\"text-align: right;\">\n",
       "      <th></th>\n",
       "      <th>PC1</th>\n",
       "      <th>PC2</th>\n",
       "      <th>PC3</th>\n",
       "      <th>PC4</th>\n",
       "      <th>PC5</th>\n",
       "      <th>PC6</th>\n",
       "      <th>PC7</th>\n",
       "      <th>PC8</th>\n",
       "      <th>PC9</th>\n",
       "      <th>PC10</th>\n",
       "      <th>...</th>\n",
       "      <th>PC14</th>\n",
       "      <th>PC15</th>\n",
       "      <th>PC16</th>\n",
       "      <th>PC17</th>\n",
       "      <th>PC18</th>\n",
       "      <th>PC19</th>\n",
       "      <th>PC20</th>\n",
       "      <th>PC21</th>\n",
       "      <th>PC22</th>\n",
       "      <th>PerformanceRating</th>\n",
       "    </tr>\n",
       "  </thead>\n",
       "  <tbody>\n",
       "    <tr>\n",
       "      <th>0</th>\n",
       "      <td>0.404724</td>\n",
       "      <td>-1.566799</td>\n",
       "      <td>0.062776</td>\n",
       "      <td>-0.624920</td>\n",
       "      <td>0.341379</td>\n",
       "      <td>0.984227</td>\n",
       "      <td>0.171404</td>\n",
       "      <td>-0.022634</td>\n",
       "      <td>-0.351211</td>\n",
       "      <td>-2.460052</td>\n",
       "      <td>...</td>\n",
       "      <td>-0.537098</td>\n",
       "      <td>-0.191197</td>\n",
       "      <td>0.798081</td>\n",
       "      <td>-0.306391</td>\n",
       "      <td>-0.163976</td>\n",
       "      <td>-0.309941</td>\n",
       "      <td>-0.521089</td>\n",
       "      <td>1.158880</td>\n",
       "      <td>-0.117845</td>\n",
       "      <td>3</td>\n",
       "    </tr>\n",
       "    <tr>\n",
       "      <th>1</th>\n",
       "      <td>1.321330</td>\n",
       "      <td>-0.261231</td>\n",
       "      <td>1.226169</td>\n",
       "      <td>-0.480346</td>\n",
       "      <td>-0.416642</td>\n",
       "      <td>0.251381</td>\n",
       "      <td>-0.215952</td>\n",
       "      <td>-0.328429</td>\n",
       "      <td>-1.016511</td>\n",
       "      <td>-1.136806</td>\n",
       "      <td>...</td>\n",
       "      <td>-0.355752</td>\n",
       "      <td>0.878877</td>\n",
       "      <td>1.545028</td>\n",
       "      <td>-1.064916</td>\n",
       "      <td>-0.269057</td>\n",
       "      <td>-1.267522</td>\n",
       "      <td>-0.385328</td>\n",
       "      <td>0.488948</td>\n",
       "      <td>0.915439</td>\n",
       "      <td>3</td>\n",
       "    </tr>\n",
       "    <tr>\n",
       "      <th>2</th>\n",
       "      <td>3.455277</td>\n",
       "      <td>-1.107383</td>\n",
       "      <td>1.103412</td>\n",
       "      <td>0.460038</td>\n",
       "      <td>0.928282</td>\n",
       "      <td>0.829020</td>\n",
       "      <td>0.007258</td>\n",
       "      <td>0.425231</td>\n",
       "      <td>-1.211491</td>\n",
       "      <td>1.019294</td>\n",
       "      <td>...</td>\n",
       "      <td>0.075772</td>\n",
       "      <td>0.962154</td>\n",
       "      <td>0.798312</td>\n",
       "      <td>0.551033</td>\n",
       "      <td>-0.987944</td>\n",
       "      <td>-0.501521</td>\n",
       "      <td>-2.206193</td>\n",
       "      <td>0.945774</td>\n",
       "      <td>-0.338291</td>\n",
       "      <td>4</td>\n",
       "    </tr>\n",
       "    <tr>\n",
       "      <th>3</th>\n",
       "      <td>4.282261</td>\n",
       "      <td>0.327870</td>\n",
       "      <td>-0.050691</td>\n",
       "      <td>0.376033</td>\n",
       "      <td>0.914926</td>\n",
       "      <td>-0.127428</td>\n",
       "      <td>0.014658</td>\n",
       "      <td>0.390216</td>\n",
       "      <td>0.048888</td>\n",
       "      <td>0.560772</td>\n",
       "      <td>...</td>\n",
       "      <td>0.029186</td>\n",
       "      <td>-0.243086</td>\n",
       "      <td>-0.504021</td>\n",
       "      <td>0.546722</td>\n",
       "      <td>-0.985781</td>\n",
       "      <td>0.483801</td>\n",
       "      <td>1.668945</td>\n",
       "      <td>-1.161007</td>\n",
       "      <td>-1.429217</td>\n",
       "      <td>3</td>\n",
       "    </tr>\n",
       "    <tr>\n",
       "      <th>4</th>\n",
       "      <td>-0.130212</td>\n",
       "      <td>1.769232</td>\n",
       "      <td>2.960434</td>\n",
       "      <td>-0.198642</td>\n",
       "      <td>0.072143</td>\n",
       "      <td>-2.093763</td>\n",
       "      <td>-1.491856</td>\n",
       "      <td>-0.080168</td>\n",
       "      <td>-0.933596</td>\n",
       "      <td>-1.103752</td>\n",
       "      <td>...</td>\n",
       "      <td>-0.249758</td>\n",
       "      <td>0.213086</td>\n",
       "      <td>1.004729</td>\n",
       "      <td>-1.191812</td>\n",
       "      <td>-0.348876</td>\n",
       "      <td>-0.207522</td>\n",
       "      <td>-0.753639</td>\n",
       "      <td>-1.160292</td>\n",
       "      <td>0.950850</td>\n",
       "      <td>3</td>\n",
       "    </tr>\n",
       "  </tbody>\n",
       "</table>\n",
       "<p>5 rows × 23 columns</p>\n",
       "</div>"
      ],
      "text/plain": [
       "        PC1       PC2       PC3       PC4       PC5       PC6       PC7  \\\n",
       "0  0.404724 -1.566799  0.062776 -0.624920  0.341379  0.984227  0.171404   \n",
       "1  1.321330 -0.261231  1.226169 -0.480346 -0.416642  0.251381 -0.215952   \n",
       "2  3.455277 -1.107383  1.103412  0.460038  0.928282  0.829020  0.007258   \n",
       "3  4.282261  0.327870 -0.050691  0.376033  0.914926 -0.127428  0.014658   \n",
       "4 -0.130212  1.769232  2.960434 -0.198642  0.072143 -2.093763 -1.491856   \n",
       "\n",
       "        PC8       PC9      PC10  ...      PC14      PC15      PC16      PC17  \\\n",
       "0 -0.022634 -0.351211 -2.460052  ... -0.537098 -0.191197  0.798081 -0.306391   \n",
       "1 -0.328429 -1.016511 -1.136806  ... -0.355752  0.878877  1.545028 -1.064916   \n",
       "2  0.425231 -1.211491  1.019294  ...  0.075772  0.962154  0.798312  0.551033   \n",
       "3  0.390216  0.048888  0.560772  ...  0.029186 -0.243086 -0.504021  0.546722   \n",
       "4 -0.080168 -0.933596 -1.103752  ... -0.249758  0.213086  1.004729 -1.191812   \n",
       "\n",
       "       PC18      PC19      PC20      PC21      PC22  PerformanceRating  \n",
       "0 -0.163976 -0.309941 -0.521089  1.158880 -0.117845                  3  \n",
       "1 -0.269057 -1.267522 -0.385328  0.488948  0.915439                  3  \n",
       "2 -0.987944 -0.501521 -2.206193  0.945774 -0.338291                  4  \n",
       "3 -0.985781  0.483801  1.668945 -1.161007 -1.429217                  3  \n",
       "4 -0.348876 -0.207522 -0.753639 -1.160292  0.950850                  3  \n",
       "\n",
       "[5 rows x 23 columns]"
      ]
     },
     "execution_count": 3,
     "metadata": {},
     "output_type": "execute_result"
    }
   ],
   "source": [
    "# checking the first five row\n",
    "data.head()"
   ]
  },
  {
   "cell_type": "markdown",
   "id": "21a3735d-1580-46e1-919e-3a6874f9236e",
   "metadata": {},
   "source": [
    "### Splitting the independent and dependent data"
   ]
  },
  {
   "cell_type": "code",
   "execution_count": 4,
   "id": "faf55982-3f0e-46bc-83bd-f0e8fc3e2207",
   "metadata": {
    "tags": []
   },
   "outputs": [],
   "source": [
    "X = data.iloc[:,:-1]\n",
    "y = data.PerformanceRating"
   ]
  },
  {
   "cell_type": "code",
   "execution_count": 5,
   "id": "d00a2421-86c4-44eb-86b3-d554c90bea74",
   "metadata": {
    "tags": []
   },
   "outputs": [
    {
     "data": {
      "text/html": [
       "<div>\n",
       "<style scoped>\n",
       "    .dataframe tbody tr th:only-of-type {\n",
       "        vertical-align: middle;\n",
       "    }\n",
       "\n",
       "    .dataframe tbody tr th {\n",
       "        vertical-align: top;\n",
       "    }\n",
       "\n",
       "    .dataframe thead th {\n",
       "        text-align: right;\n",
       "    }\n",
       "</style>\n",
       "<table border=\"1\" class=\"dataframe\">\n",
       "  <thead>\n",
       "    <tr style=\"text-align: right;\">\n",
       "      <th></th>\n",
       "      <th>PC1</th>\n",
       "      <th>PC2</th>\n",
       "      <th>PC3</th>\n",
       "      <th>PC4</th>\n",
       "      <th>PC5</th>\n",
       "      <th>PC6</th>\n",
       "      <th>PC7</th>\n",
       "      <th>PC8</th>\n",
       "      <th>PC9</th>\n",
       "      <th>PC10</th>\n",
       "      <th>...</th>\n",
       "      <th>PC13</th>\n",
       "      <th>PC14</th>\n",
       "      <th>PC15</th>\n",
       "      <th>PC16</th>\n",
       "      <th>PC17</th>\n",
       "      <th>PC18</th>\n",
       "      <th>PC19</th>\n",
       "      <th>PC20</th>\n",
       "      <th>PC21</th>\n",
       "      <th>PC22</th>\n",
       "    </tr>\n",
       "  </thead>\n",
       "  <tbody>\n",
       "    <tr>\n",
       "      <th>0</th>\n",
       "      <td>0.404724</td>\n",
       "      <td>-1.566799</td>\n",
       "      <td>0.062776</td>\n",
       "      <td>-0.624920</td>\n",
       "      <td>0.341379</td>\n",
       "      <td>0.984227</td>\n",
       "      <td>0.171404</td>\n",
       "      <td>-0.022634</td>\n",
       "      <td>-0.351211</td>\n",
       "      <td>-2.460052</td>\n",
       "      <td>...</td>\n",
       "      <td>0.171402</td>\n",
       "      <td>-0.537098</td>\n",
       "      <td>-0.191197</td>\n",
       "      <td>0.798081</td>\n",
       "      <td>-0.306391</td>\n",
       "      <td>-0.163976</td>\n",
       "      <td>-0.309941</td>\n",
       "      <td>-0.521089</td>\n",
       "      <td>1.158880</td>\n",
       "      <td>-0.117845</td>\n",
       "    </tr>\n",
       "    <tr>\n",
       "      <th>1</th>\n",
       "      <td>1.321330</td>\n",
       "      <td>-0.261231</td>\n",
       "      <td>1.226169</td>\n",
       "      <td>-0.480346</td>\n",
       "      <td>-0.416642</td>\n",
       "      <td>0.251381</td>\n",
       "      <td>-0.215952</td>\n",
       "      <td>-0.328429</td>\n",
       "      <td>-1.016511</td>\n",
       "      <td>-1.136806</td>\n",
       "      <td>...</td>\n",
       "      <td>-0.071941</td>\n",
       "      <td>-0.355752</td>\n",
       "      <td>0.878877</td>\n",
       "      <td>1.545028</td>\n",
       "      <td>-1.064916</td>\n",
       "      <td>-0.269057</td>\n",
       "      <td>-1.267522</td>\n",
       "      <td>-0.385328</td>\n",
       "      <td>0.488948</td>\n",
       "      <td>0.915439</td>\n",
       "    </tr>\n",
       "    <tr>\n",
       "      <th>2</th>\n",
       "      <td>3.455277</td>\n",
       "      <td>-1.107383</td>\n",
       "      <td>1.103412</td>\n",
       "      <td>0.460038</td>\n",
       "      <td>0.928282</td>\n",
       "      <td>0.829020</td>\n",
       "      <td>0.007258</td>\n",
       "      <td>0.425231</td>\n",
       "      <td>-1.211491</td>\n",
       "      <td>1.019294</td>\n",
       "      <td>...</td>\n",
       "      <td>1.564136</td>\n",
       "      <td>0.075772</td>\n",
       "      <td>0.962154</td>\n",
       "      <td>0.798312</td>\n",
       "      <td>0.551033</td>\n",
       "      <td>-0.987944</td>\n",
       "      <td>-0.501521</td>\n",
       "      <td>-2.206193</td>\n",
       "      <td>0.945774</td>\n",
       "      <td>-0.338291</td>\n",
       "    </tr>\n",
       "    <tr>\n",
       "      <th>3</th>\n",
       "      <td>4.282261</td>\n",
       "      <td>0.327870</td>\n",
       "      <td>-0.050691</td>\n",
       "      <td>0.376033</td>\n",
       "      <td>0.914926</td>\n",
       "      <td>-0.127428</td>\n",
       "      <td>0.014658</td>\n",
       "      <td>0.390216</td>\n",
       "      <td>0.048888</td>\n",
       "      <td>0.560772</td>\n",
       "      <td>...</td>\n",
       "      <td>-0.345806</td>\n",
       "      <td>0.029186</td>\n",
       "      <td>-0.243086</td>\n",
       "      <td>-0.504021</td>\n",
       "      <td>0.546722</td>\n",
       "      <td>-0.985781</td>\n",
       "      <td>0.483801</td>\n",
       "      <td>1.668945</td>\n",
       "      <td>-1.161007</td>\n",
       "      <td>-1.429217</td>\n",
       "    </tr>\n",
       "    <tr>\n",
       "      <th>4</th>\n",
       "      <td>-0.130212</td>\n",
       "      <td>1.769232</td>\n",
       "      <td>2.960434</td>\n",
       "      <td>-0.198642</td>\n",
       "      <td>0.072143</td>\n",
       "      <td>-2.093763</td>\n",
       "      <td>-1.491856</td>\n",
       "      <td>-0.080168</td>\n",
       "      <td>-0.933596</td>\n",
       "      <td>-1.103752</td>\n",
       "      <td>...</td>\n",
       "      <td>0.225960</td>\n",
       "      <td>-0.249758</td>\n",
       "      <td>0.213086</td>\n",
       "      <td>1.004729</td>\n",
       "      <td>-1.191812</td>\n",
       "      <td>-0.348876</td>\n",
       "      <td>-0.207522</td>\n",
       "      <td>-0.753639</td>\n",
       "      <td>-1.160292</td>\n",
       "      <td>0.950850</td>\n",
       "    </tr>\n",
       "    <tr>\n",
       "      <th>...</th>\n",
       "      <td>...</td>\n",
       "      <td>...</td>\n",
       "      <td>...</td>\n",
       "      <td>...</td>\n",
       "      <td>...</td>\n",
       "      <td>...</td>\n",
       "      <td>...</td>\n",
       "      <td>...</td>\n",
       "      <td>...</td>\n",
       "      <td>...</td>\n",
       "      <td>...</td>\n",
       "      <td>...</td>\n",
       "      <td>...</td>\n",
       "      <td>...</td>\n",
       "      <td>...</td>\n",
       "      <td>...</td>\n",
       "      <td>...</td>\n",
       "      <td>...</td>\n",
       "      <td>...</td>\n",
       "      <td>...</td>\n",
       "      <td>...</td>\n",
       "    </tr>\n",
       "    <tr>\n",
       "      <th>1195</th>\n",
       "      <td>-0.829629</td>\n",
       "      <td>-1.481192</td>\n",
       "      <td>-0.282000</td>\n",
       "      <td>-1.342671</td>\n",
       "      <td>0.399700</td>\n",
       "      <td>2.202587</td>\n",
       "      <td>-0.730946</td>\n",
       "      <td>-0.388194</td>\n",
       "      <td>2.150698</td>\n",
       "      <td>0.329710</td>\n",
       "      <td>...</td>\n",
       "      <td>-0.089659</td>\n",
       "      <td>0.421134</td>\n",
       "      <td>0.088099</td>\n",
       "      <td>-0.204950</td>\n",
       "      <td>0.528068</td>\n",
       "      <td>0.160276</td>\n",
       "      <td>0.264070</td>\n",
       "      <td>0.092738</td>\n",
       "      <td>0.862103</td>\n",
       "      <td>-0.661257</td>\n",
       "    </tr>\n",
       "    <tr>\n",
       "      <th>1196</th>\n",
       "      <td>-2.448642</td>\n",
       "      <td>0.388947</td>\n",
       "      <td>0.113846</td>\n",
       "      <td>-1.645620</td>\n",
       "      <td>1.590839</td>\n",
       "      <td>0.397114</td>\n",
       "      <td>0.586942</td>\n",
       "      <td>-0.921674</td>\n",
       "      <td>-0.058193</td>\n",
       "      <td>-0.863360</td>\n",
       "      <td>...</td>\n",
       "      <td>-0.576404</td>\n",
       "      <td>-0.647716</td>\n",
       "      <td>-0.039123</td>\n",
       "      <td>1.675223</td>\n",
       "      <td>0.718394</td>\n",
       "      <td>1.640619</td>\n",
       "      <td>0.481563</td>\n",
       "      <td>0.237540</td>\n",
       "      <td>-0.370665</td>\n",
       "      <td>0.951718</td>\n",
       "    </tr>\n",
       "    <tr>\n",
       "      <th>1197</th>\n",
       "      <td>2.155389</td>\n",
       "      <td>-0.313296</td>\n",
       "      <td>-1.188419</td>\n",
       "      <td>0.157223</td>\n",
       "      <td>0.327357</td>\n",
       "      <td>1.801355</td>\n",
       "      <td>-2.312534</td>\n",
       "      <td>-0.972433</td>\n",
       "      <td>1.168511</td>\n",
       "      <td>-1.095900</td>\n",
       "      <td>...</td>\n",
       "      <td>-2.135515</td>\n",
       "      <td>-1.356616</td>\n",
       "      <td>0.080881</td>\n",
       "      <td>0.860440</td>\n",
       "      <td>0.006061</td>\n",
       "      <td>1.235612</td>\n",
       "      <td>0.072662</td>\n",
       "      <td>-1.061093</td>\n",
       "      <td>0.022116</td>\n",
       "      <td>2.037015</td>\n",
       "    </tr>\n",
       "    <tr>\n",
       "      <th>1198</th>\n",
       "      <td>1.267451</td>\n",
       "      <td>0.300784</td>\n",
       "      <td>-2.404937</td>\n",
       "      <td>0.466083</td>\n",
       "      <td>-1.841104</td>\n",
       "      <td>-0.043451</td>\n",
       "      <td>1.935274</td>\n",
       "      <td>0.002555</td>\n",
       "      <td>-0.461878</td>\n",
       "      <td>0.916050</td>\n",
       "      <td>...</td>\n",
       "      <td>-1.144435</td>\n",
       "      <td>0.289015</td>\n",
       "      <td>-0.857004</td>\n",
       "      <td>1.868095</td>\n",
       "      <td>-0.509620</td>\n",
       "      <td>-0.388898</td>\n",
       "      <td>-0.339399</td>\n",
       "      <td>0.521157</td>\n",
       "      <td>-0.726510</td>\n",
       "      <td>-0.077506</td>\n",
       "    </tr>\n",
       "    <tr>\n",
       "      <th>1199</th>\n",
       "      <td>-2.274711</td>\n",
       "      <td>-0.684694</td>\n",
       "      <td>2.044606</td>\n",
       "      <td>1.219024</td>\n",
       "      <td>-0.870918</td>\n",
       "      <td>-1.462595</td>\n",
       "      <td>1.039985</td>\n",
       "      <td>-0.857266</td>\n",
       "      <td>-0.220228</td>\n",
       "      <td>0.178473</td>\n",
       "      <td>...</td>\n",
       "      <td>0.128358</td>\n",
       "      <td>1.419368</td>\n",
       "      <td>0.210371</td>\n",
       "      <td>0.403874</td>\n",
       "      <td>-0.499021</td>\n",
       "      <td>1.498649</td>\n",
       "      <td>2.616216</td>\n",
       "      <td>0.117492</td>\n",
       "      <td>0.076370</td>\n",
       "      <td>-0.934113</td>\n",
       "    </tr>\n",
       "  </tbody>\n",
       "</table>\n",
       "<p>1200 rows × 22 columns</p>\n",
       "</div>"
      ],
      "text/plain": [
       "           PC1       PC2       PC3       PC4       PC5       PC6       PC7  \\\n",
       "0     0.404724 -1.566799  0.062776 -0.624920  0.341379  0.984227  0.171404   \n",
       "1     1.321330 -0.261231  1.226169 -0.480346 -0.416642  0.251381 -0.215952   \n",
       "2     3.455277 -1.107383  1.103412  0.460038  0.928282  0.829020  0.007258   \n",
       "3     4.282261  0.327870 -0.050691  0.376033  0.914926 -0.127428  0.014658   \n",
       "4    -0.130212  1.769232  2.960434 -0.198642  0.072143 -2.093763 -1.491856   \n",
       "...        ...       ...       ...       ...       ...       ...       ...   \n",
       "1195 -0.829629 -1.481192 -0.282000 -1.342671  0.399700  2.202587 -0.730946   \n",
       "1196 -2.448642  0.388947  0.113846 -1.645620  1.590839  0.397114  0.586942   \n",
       "1197  2.155389 -0.313296 -1.188419  0.157223  0.327357  1.801355 -2.312534   \n",
       "1198  1.267451  0.300784 -2.404937  0.466083 -1.841104 -0.043451  1.935274   \n",
       "1199 -2.274711 -0.684694  2.044606  1.219024 -0.870918 -1.462595  1.039985   \n",
       "\n",
       "           PC8       PC9      PC10  ...      PC13      PC14      PC15  \\\n",
       "0    -0.022634 -0.351211 -2.460052  ...  0.171402 -0.537098 -0.191197   \n",
       "1    -0.328429 -1.016511 -1.136806  ... -0.071941 -0.355752  0.878877   \n",
       "2     0.425231 -1.211491  1.019294  ...  1.564136  0.075772  0.962154   \n",
       "3     0.390216  0.048888  0.560772  ... -0.345806  0.029186 -0.243086   \n",
       "4    -0.080168 -0.933596 -1.103752  ...  0.225960 -0.249758  0.213086   \n",
       "...        ...       ...       ...  ...       ...       ...       ...   \n",
       "1195 -0.388194  2.150698  0.329710  ... -0.089659  0.421134  0.088099   \n",
       "1196 -0.921674 -0.058193 -0.863360  ... -0.576404 -0.647716 -0.039123   \n",
       "1197 -0.972433  1.168511 -1.095900  ... -2.135515 -1.356616  0.080881   \n",
       "1198  0.002555 -0.461878  0.916050  ... -1.144435  0.289015 -0.857004   \n",
       "1199 -0.857266 -0.220228  0.178473  ...  0.128358  1.419368  0.210371   \n",
       "\n",
       "          PC16      PC17      PC18      PC19      PC20      PC21      PC22  \n",
       "0     0.798081 -0.306391 -0.163976 -0.309941 -0.521089  1.158880 -0.117845  \n",
       "1     1.545028 -1.064916 -0.269057 -1.267522 -0.385328  0.488948  0.915439  \n",
       "2     0.798312  0.551033 -0.987944 -0.501521 -2.206193  0.945774 -0.338291  \n",
       "3    -0.504021  0.546722 -0.985781  0.483801  1.668945 -1.161007 -1.429217  \n",
       "4     1.004729 -1.191812 -0.348876 -0.207522 -0.753639 -1.160292  0.950850  \n",
       "...        ...       ...       ...       ...       ...       ...       ...  \n",
       "1195 -0.204950  0.528068  0.160276  0.264070  0.092738  0.862103 -0.661257  \n",
       "1196  1.675223  0.718394  1.640619  0.481563  0.237540 -0.370665  0.951718  \n",
       "1197  0.860440  0.006061  1.235612  0.072662 -1.061093  0.022116  2.037015  \n",
       "1198  1.868095 -0.509620 -0.388898 -0.339399  0.521157 -0.726510 -0.077506  \n",
       "1199  0.403874 -0.499021  1.498649  2.616216  0.117492  0.076370 -0.934113  \n",
       "\n",
       "[1200 rows x 22 columns]"
      ]
     },
     "execution_count": 5,
     "metadata": {},
     "output_type": "execute_result"
    }
   ],
   "source": [
    "X"
   ]
  },
  {
   "cell_type": "markdown",
   "id": "0e4393ea-29bf-422d-b840-23be0143821c",
   "metadata": {},
   "source": [
    "### Balancing the dataset"
   ]
  },
  {
   "cell_type": "markdown",
   "id": "e624b6ff-f45b-455f-858f-b5535aefded8",
   "metadata": {},
   "source": [
    "SMOTE (Synthetic Minority Over-sampling Technique)\n",
    "\n",
    "In many classification problems, the number of instances in each class is not balanced. This can lead to a model that is biased towards the majority class, and it may perform poorly on the minority class.\n",
    "\n",
    "SMOTE works by generating synthetic samples for the minority class. It does this by interpolating between existing minority class instances. The algorithm selects a minority class instance and its k-nearest neighbors. It then generates synthetic instances along the line segments connecting those neighbors."
   ]
  },
  {
   "cell_type": "code",
   "execution_count": 6,
   "id": "8acfa691-cbcd-4ff7-a3b8-f44b64cd67ad",
   "metadata": {
    "tags": []
   },
   "outputs": [
    {
     "name": "stdout",
     "output_type": "stream",
     "text": [
      "unbalanced data   :   Counter({3: 874, 2: 194, 4: 132})\n",
      "balanced data:    : Counter({3: 874, 4: 874, 2: 874})\n"
     ]
    }
   ],
   "source": [
    "from collections import Counter\n",
    "from imblearn.over_sampling import SMOTE #SMOTE(synthetic minority oversampling techinque)\n",
    "sm = SMOTE() # obeject creation\n",
    "print(\"unbalanced data   :  \",Counter(y))\n",
    "X_sm,y_sm = sm.fit_resample(X,y)\n",
    "print(\"balanced data:    :\",Counter(y_sm))"
   ]
  },
  {
   "cell_type": "markdown",
   "id": "6f96aec6-1f6e-4731-9385-833fba585974",
   "metadata": {},
   "source": [
    "## <span style=\"background-color: #DBFB10; padding: 5px;\">Train test split"
   ]
  },
  {
   "cell_type": "code",
   "execution_count": 7,
   "id": "9ba9ebe5-c9f7-4c96-ba3e-d938bbb05ff2",
   "metadata": {
    "tags": []
   },
   "outputs": [],
   "source": [
    "# importing train test split for traning and testing the data\n",
    "from sklearn.model_selection import train_test_split\n",
    "X_train, X_test, y_train, y_test = train_test_split(X_sm, y_sm, test_size=0.2,random_state=56)"
   ]
  },
  {
   "cell_type": "code",
   "execution_count": 8,
   "id": "ccc6e9be-d782-4d11-a0b9-24314cc3a119",
   "metadata": {
    "tags": []
   },
   "outputs": [
    {
     "data": {
      "text/plain": [
       "((2097, 22), (2097,), (525, 22), (525,))"
      ]
     },
     "execution_count": 8,
     "metadata": {},
     "output_type": "execute_result"
    }
   ],
   "source": [
    "# Shape of the training and testing dataset\n",
    "X_train.shape, y_train.shape, X_test.shape,y_test.shape"
   ]
  },
  {
   "cell_type": "markdown",
   "id": "8d78787f-4d8b-450d-b3d4-573d5aaa04c7",
   "metadata": {},
   "source": [
    "------------------------------------------------------------------------"
   ]
  },
  {
   "cell_type": "markdown",
   "id": "507a01d3-216f-4f4c-9667-571d25bf648c",
   "metadata": {},
   "source": [
    "# <span style=\"background-color: #DBFB10; padding: 5px;\"> Model Training\n",
    "\n",
    "-  During training, the model learns the relationships between the features and the target variable. This involves iteratively adjusting its internal parameters to minimize the prediction error or maximize a chosen objective function.\n",
    "\n",
    "- The optimization process typically involves techniques like gradient descent, which adjusts the model's parameters to minimize a loss function that quantifies the difference between predicted and actual values."
   ]
  },
  {
   "cell_type": "markdown",
   "id": "75d55163-bcec-40cc-b951-fd06c5e8b84e",
   "metadata": {},
   "source": [
    "## <span style=\"background-color: #D32D41; padding: 5px;\">1. LOGISTIC REGRESSION"
   ]
  },
  {
   "cell_type": "code",
   "execution_count": 9,
   "id": "06bbfb2a-b6b4-4c0e-81b3-36c726bdc2e8",
   "metadata": {
    "tags": []
   },
   "outputs": [],
   "source": [
    "# Importing the Important libraries\n",
    "from sklearn.linear_model import LogisticRegression\n",
    "logistic_reg = LogisticRegression() # saving the model into the object variable"
   ]
  },
  {
   "cell_type": "code",
   "execution_count": 10,
   "id": "338d1fd2-ad98-4424-be2f-1bd5b2493b7b",
   "metadata": {
    "tags": []
   },
   "outputs": [
    {
     "data": {
      "text/html": [
       "<style>#sk-container-id-1 {color: black;}#sk-container-id-1 pre{padding: 0;}#sk-container-id-1 div.sk-toggleable {background-color: white;}#sk-container-id-1 label.sk-toggleable__label {cursor: pointer;display: block;width: 100%;margin-bottom: 0;padding: 0.3em;box-sizing: border-box;text-align: center;}#sk-container-id-1 label.sk-toggleable__label-arrow:before {content: \"▸\";float: left;margin-right: 0.25em;color: #696969;}#sk-container-id-1 label.sk-toggleable__label-arrow:hover:before {color: black;}#sk-container-id-1 div.sk-estimator:hover label.sk-toggleable__label-arrow:before {color: black;}#sk-container-id-1 div.sk-toggleable__content {max-height: 0;max-width: 0;overflow: hidden;text-align: left;background-color: #f0f8ff;}#sk-container-id-1 div.sk-toggleable__content pre {margin: 0.2em;color: black;border-radius: 0.25em;background-color: #f0f8ff;}#sk-container-id-1 input.sk-toggleable__control:checked~div.sk-toggleable__content {max-height: 200px;max-width: 100%;overflow: auto;}#sk-container-id-1 input.sk-toggleable__control:checked~label.sk-toggleable__label-arrow:before {content: \"▾\";}#sk-container-id-1 div.sk-estimator input.sk-toggleable__control:checked~label.sk-toggleable__label {background-color: #d4ebff;}#sk-container-id-1 div.sk-label input.sk-toggleable__control:checked~label.sk-toggleable__label {background-color: #d4ebff;}#sk-container-id-1 input.sk-hidden--visually {border: 0;clip: rect(1px 1px 1px 1px);clip: rect(1px, 1px, 1px, 1px);height: 1px;margin: -1px;overflow: hidden;padding: 0;position: absolute;width: 1px;}#sk-container-id-1 div.sk-estimator {font-family: monospace;background-color: #f0f8ff;border: 1px dotted black;border-radius: 0.25em;box-sizing: border-box;margin-bottom: 0.5em;}#sk-container-id-1 div.sk-estimator:hover {background-color: #d4ebff;}#sk-container-id-1 div.sk-parallel-item::after {content: \"\";width: 100%;border-bottom: 1px solid gray;flex-grow: 1;}#sk-container-id-1 div.sk-label:hover label.sk-toggleable__label {background-color: #d4ebff;}#sk-container-id-1 div.sk-serial::before {content: \"\";position: absolute;border-left: 1px solid gray;box-sizing: border-box;top: 0;bottom: 0;left: 50%;z-index: 0;}#sk-container-id-1 div.sk-serial {display: flex;flex-direction: column;align-items: center;background-color: white;padding-right: 0.2em;padding-left: 0.2em;position: relative;}#sk-container-id-1 div.sk-item {position: relative;z-index: 1;}#sk-container-id-1 div.sk-parallel {display: flex;align-items: stretch;justify-content: center;background-color: white;position: relative;}#sk-container-id-1 div.sk-item::before, #sk-container-id-1 div.sk-parallel-item::before {content: \"\";position: absolute;border-left: 1px solid gray;box-sizing: border-box;top: 0;bottom: 0;left: 50%;z-index: -1;}#sk-container-id-1 div.sk-parallel-item {display: flex;flex-direction: column;z-index: 1;position: relative;background-color: white;}#sk-container-id-1 div.sk-parallel-item:first-child::after {align-self: flex-end;width: 50%;}#sk-container-id-1 div.sk-parallel-item:last-child::after {align-self: flex-start;width: 50%;}#sk-container-id-1 div.sk-parallel-item:only-child::after {width: 0;}#sk-container-id-1 div.sk-dashed-wrapped {border: 1px dashed gray;margin: 0 0.4em 0.5em 0.4em;box-sizing: border-box;padding-bottom: 0.4em;background-color: white;}#sk-container-id-1 div.sk-label label {font-family: monospace;font-weight: bold;display: inline-block;line-height: 1.2em;}#sk-container-id-1 div.sk-label-container {text-align: center;}#sk-container-id-1 div.sk-container {/* jupyter's `normalize.less` sets `[hidden] { display: none; }` but bootstrap.min.css set `[hidden] { display: none !important; }` so we also need the `!important` here to be able to override the default hidden behavior on the sphinx rendered scikit-learn.org. See: https://github.com/scikit-learn/scikit-learn/issues/21755 */display: inline-block !important;position: relative;}#sk-container-id-1 div.sk-text-repr-fallback {display: none;}</style><div id=\"sk-container-id-1\" class=\"sk-top-container\"><div class=\"sk-text-repr-fallback\"><pre>LogisticRegression()</pre><b>In a Jupyter environment, please rerun this cell to show the HTML representation or trust the notebook. <br />On GitHub, the HTML representation is unable to render, please try loading this page with nbviewer.org.</b></div><div class=\"sk-container\" hidden><div class=\"sk-item\"><div class=\"sk-estimator sk-toggleable\"><input class=\"sk-toggleable__control sk-hidden--visually\" id=\"sk-estimator-id-1\" type=\"checkbox\" checked><label for=\"sk-estimator-id-1\" class=\"sk-toggleable__label sk-toggleable__label-arrow\">LogisticRegression</label><div class=\"sk-toggleable__content\"><pre>LogisticRegression()</pre></div></div></div></div></div>"
      ],
      "text/plain": [
       "LogisticRegression()"
      ]
     },
     "execution_count": 10,
     "metadata": {},
     "output_type": "execute_result"
    }
   ],
   "source": [
    "logistic_reg.fit(X_train, y_train) # training out model with the help of training data"
   ]
  },
  {
   "cell_type": "code",
   "execution_count": 11,
   "id": "514ceb8c-1da6-4be0-9606-24604019d403",
   "metadata": {
    "tags": []
   },
   "outputs": [],
   "source": [
    "logistic_reg_prediction = logistic_reg.predict(X_test) # predicting our model with the help of testing data"
   ]
  },
  {
   "cell_type": "markdown",
   "id": "2066337c-9fe4-41c3-85d4-6ac1eb0a5fba",
   "metadata": {},
   "source": [
    "### Model Evaluation"
   ]
  },
  {
   "cell_type": "code",
   "execution_count": 12,
   "id": "481e21e4-6ddf-489a-b0af-777da46db89b",
   "metadata": {
    "tags": []
   },
   "outputs": [
    {
     "data": {
      "text/plain": [
       "0.8228571428571428"
      ]
     },
     "execution_count": 12,
     "metadata": {},
     "output_type": "execute_result"
    }
   ],
   "source": [
    "# Imporing the libraries \n",
    "from sklearn.metrics import accuracy_score, classification_report, confusion_matrix, f1_score\n",
    "logistic_reg_acc_Score  = accuracy_score(y_test, logistic_reg_prediction) # checking the accuracy score of the model\n",
    "logistic_reg_acc_Score"
   ]
  },
  {
   "cell_type": "code",
   "execution_count": 13,
   "id": "24e93485-a01c-4c7c-837b-26807a4e57ad",
   "metadata": {
    "tags": []
   },
   "outputs": [
    {
     "data": {
      "text/plain": [
       "0.8340486409155937"
      ]
     },
     "execution_count": 13,
     "metadata": {},
     "output_type": "execute_result"
    }
   ],
   "source": [
    "# check for the training score of the model \n",
    "logistic_reg_training_score = logistic_reg.score(X_train, y_train) \n",
    "logistic_reg_training_score"
   ]
  },
  {
   "cell_type": "code",
   "execution_count": 14,
   "id": "49d50468-48ba-44f6-b55e-db1400d4b040",
   "metadata": {
    "tags": []
   },
   "outputs": [
    {
     "data": {
      "text/plain": [
       "<sklearn.metrics._plot.confusion_matrix.ConfusionMatrixDisplay at 0x1b0d6bc2020>"
      ]
     },
     "execution_count": 14,
     "metadata": {},
     "output_type": "execute_result"
    },
    {
     "data": {
      "image/png": "[encoded data removed]",
      "text/plain": [
       "<Figure size 640x480 with 2 Axes>"
      ]
     },
     "metadata": {},
     "output_type": "display_data"
    }
   ],
   "source": [
    "# Importing the libraries for displaying the confusion matrix\n",
    "from sklearn.metrics import ConfusionMatrixDisplay\n",
    "Logistic_Regression_Confusion_Matrix = ConfusionMatrixDisplay.from_estimator(logistic_reg, X_test, y_test)\n",
    "Logistic_Regression_Confusion_Matrix"
   ]
  },
  {
   "cell_type": "code",
   "execution_count": 15,
   "id": "4b0a8ec1-5374-4fa2-b8b8-8b89d0ae5e9e",
   "metadata": {
    "tags": []
   },
   "outputs": [
    {
     "name": "stdout",
     "output_type": "stream",
     "text": [
      "              precision    recall  f1-score   support\n",
      "\n",
      "           2       0.80      0.87      0.84       174\n",
      "           3       0.84      0.71      0.77       184\n",
      "           4       0.82      0.90      0.86       167\n",
      "\n",
      "    accuracy                           0.82       525\n",
      "   macro avg       0.82      0.83      0.82       525\n",
      "weighted avg       0.82      0.82      0.82       525\n",
      "\n"
     ]
    }
   ],
   "source": [
    "# displaying the classification report of the Linear model \n",
    "print(classification_report(y_test, logistic_reg_prediction))"
   ]
  },
  {
   "cell_type": "markdown",
   "id": "f35fce85-26ad-4cb0-a66d-9f412d5bc792",
   "metadata": {},
   "source": [
    "# <span style=\"background-color: #D32D41; padding: 5px;\">2. K-Nearest Neighbor Classifier"
   ]
  },
  {
   "cell_type": "code",
   "execution_count": 16,
   "id": "1280891f-7a57-46ff-beb8-30b2ed7b1f9e",
   "metadata": {
    "tags": []
   },
   "outputs": [],
   "source": [
    "# Importing the libraries\n",
    "from sklearn.neighbors import KNeighborsClassifier\n",
    "k_neigh_classifier = KNeighborsClassifier() # saving the model in object variable"
   ]
  },
  {
   "cell_type": "code",
   "execution_count": 17,
   "id": "bb451732-7619-4b07-95c2-08fcee28d7be",
   "metadata": {
    "tags": []
   },
   "outputs": [
    {
     "data": {
      "text/html": [
       "<style>#sk-container-id-2 {color: black;}#sk-container-id-2 pre{padding: 0;}#sk-container-id-2 div.sk-toggleable {background-color: white;}#sk-container-id-2 label.sk-toggleable__label {cursor: pointer;display: block;width: 100%;margin-bottom: 0;padding: 0.3em;box-sizing: border-box;text-align: center;}#sk-container-id-2 label.sk-toggleable__label-arrow:before {content: \"▸\";float: left;margin-right: 0.25em;color: #696969;}#sk-container-id-2 label.sk-toggleable__label-arrow:hover:before {color: black;}#sk-container-id-2 div.sk-estimator:hover label.sk-toggleable__label-arrow:before {color: black;}#sk-container-id-2 div.sk-toggleable__content {max-height: 0;max-width: 0;overflow: hidden;text-align: left;background-color: #f0f8ff;}#sk-container-id-2 div.sk-toggleable__content pre {margin: 0.2em;color: black;border-radius: 0.25em;background-color: #f0f8ff;}#sk-container-id-2 input.sk-toggleable__control:checked~div.sk-toggleable__content {max-height: 200px;max-width: 100%;overflow: auto;}#sk-container-id-2 input.sk-toggleable__control:checked~label.sk-toggleable__label-arrow:before {content: \"▾\";}#sk-container-id-2 div.sk-estimator input.sk-toggleable__control:checked~label.sk-toggleable__label {background-color: #d4ebff;}#sk-container-id-2 div.sk-label input.sk-toggleable__control:checked~label.sk-toggleable__label {background-color: #d4ebff;}#sk-container-id-2 input.sk-hidden--visually {border: 0;clip: rect(1px 1px 1px 1px);clip: rect(1px, 1px, 1px, 1px);height: 1px;margin: -1px;overflow: hidden;padding: 0;position: absolute;width: 1px;}#sk-container-id-2 div.sk-estimator {font-family: monospace;background-color: #f0f8ff;border: 1px dotted black;border-radius: 0.25em;box-sizing: border-box;margin-bottom: 0.5em;}#sk-container-id-2 div.sk-estimator:hover {background-color: #d4ebff;}#sk-container-id-2 div.sk-parallel-item::after {content: \"\";width: 100%;border-bottom: 1px solid gray;flex-grow: 1;}#sk-container-id-2 div.sk-label:hover label.sk-toggleable__label {background-color: #d4ebff;}#sk-container-id-2 div.sk-serial::before {content: \"\";position: absolute;border-left: 1px solid gray;box-sizing: border-box;top: 0;bottom: 0;left: 50%;z-index: 0;}#sk-container-id-2 div.sk-serial {display: flex;flex-direction: column;align-items: center;background-color: white;padding-right: 0.2em;padding-left: 0.2em;position: relative;}#sk-container-id-2 div.sk-item {position: relative;z-index: 1;}#sk-container-id-2 div.sk-parallel {display: flex;align-items: stretch;justify-content: center;background-color: white;position: relative;}#sk-container-id-2 div.sk-item::before, #sk-container-id-2 div.sk-parallel-item::before {content: \"\";position: absolute;border-left: 1px solid gray;box-sizing: border-box;top: 0;bottom: 0;left: 50%;z-index: -1;}#sk-container-id-2 div.sk-parallel-item {display: flex;flex-direction: column;z-index: 1;position: relative;background-color: white;}#sk-container-id-2 div.sk-parallel-item:first-child::after {align-self: flex-end;width: 50%;}#sk-container-id-2 div.sk-parallel-item:last-child::after {align-self: flex-start;width: 50%;}#sk-container-id-2 div.sk-parallel-item:only-child::after {width: 0;}#sk-container-id-2 div.sk-dashed-wrapped {border: 1px dashed gray;margin: 0 0.4em 0.5em 0.4em;box-sizing: border-box;padding-bottom: 0.4em;background-color: white;}#sk-container-id-2 div.sk-label label {font-family: monospace;font-weight: bold;display: inline-block;line-height: 1.2em;}#sk-container-id-2 div.sk-label-container {text-align: center;}#sk-container-id-2 div.sk-container {/* jupyter's `normalize.less` sets `[hidden] { display: none; }` but bootstrap.min.css set `[hidden] { display: none !important; }` so we also need the `!important` here to be able to override the default hidden behavior on the sphinx rendered scikit-learn.org. See: https://github.com/scikit-learn/scikit-learn/issues/21755 */display: inline-block !important;position: relative;}#sk-container-id-2 div.sk-text-repr-fallback {display: none;}</style><div id=\"sk-container-id-2\" class=\"sk-top-container\"><div class=\"sk-text-repr-fallback\"><pre>KNeighborsClassifier()</pre><b>In a Jupyter environment, please rerun this cell to show the HTML representation or trust the notebook. <br />On GitHub, the HTML representation is unable to render, please try loading this page with nbviewer.org.</b></div><div class=\"sk-container\" hidden><div class=\"sk-item\"><div class=\"sk-estimator sk-toggleable\"><input class=\"sk-toggleable__control sk-hidden--visually\" id=\"sk-estimator-id-2\" type=\"checkbox\" checked><label for=\"sk-estimator-id-2\" class=\"sk-toggleable__label sk-toggleable__label-arrow\">KNeighborsClassifier</label><div class=\"sk-toggleable__content\"><pre>KNeighborsClassifier()</pre></div></div></div></div></div>"
      ],
      "text/plain": [
       "KNeighborsClassifier()"
      ]
     },
     "execution_count": 17,
     "metadata": {},
     "output_type": "execute_result"
    }
   ],
   "source": [
    "k_neigh_classifier.fit(X_train, y_train) # training the model with the training data"
   ]
  },
  {
   "cell_type": "code",
   "execution_count": 18,
   "id": "5f2b0a04-bdfd-4a53-9411-f7117950ac8c",
   "metadata": {
    "tags": []
   },
   "outputs": [
    {
     "data": {
      "text/plain": [
       "array([4, 2, 2, 4, 4, 4, 2, 2, 2, 4, 2, 2, 4, 4, 4, 4, 4, 2, 2, 2, 2, 4,\n",
       "       4, 3, 4, 2, 3, 2, 4, 4, 4, 4, 3, 2, 2, 2, 4, 2, 3, 2, 4, 2, 4, 4,\n",
       "       4, 2, 3, 2, 2, 2, 4, 2, 4, 2, 4, 3, 4, 3, 4, 4, 4, 3, 3, 4, 2, 4,\n",
       "       4, 2, 2, 2, 2, 4, 2, 2, 2, 4, 3, 2, 3, 4, 3, 2, 4, 2, 2, 3, 4, 3,\n",
       "       4, 2, 3, 4, 2, 3, 2, 2, 3, 4, 2, 2, 2, 2, 2, 4, 4, 4, 2, 4, 2, 2,\n",
       "       4, 2, 4, 4, 3, 2, 4, 4, 2, 2, 4, 2, 2, 4, 2, 4, 2, 2, 2, 4, 2, 2,\n",
       "       2, 4, 2, 4, 4, 4, 4, 4, 3, 4, 2, 2, 2, 4, 4, 3, 2, 3, 4, 4, 4, 3,\n",
       "       2, 2, 4, 2, 4, 3, 4, 3, 4, 4, 2, 2, 4, 4, 2, 4, 4, 4, 2, 4, 2, 4,\n",
       "       4, 2, 4, 2, 4, 3, 4, 3, 2, 2, 3, 2, 2, 2, 3, 2, 4, 3, 2, 2, 3, 4,\n",
       "       2, 2, 2, 4, 4, 4, 2, 3, 2, 2, 2, 3, 3, 4, 4, 2, 4, 2, 2, 2, 2, 4,\n",
       "       3, 4, 2, 2, 3, 4, 3, 2, 3, 4, 3, 2, 4, 2, 3, 4, 2, 4, 4, 2, 2, 4,\n",
       "       2, 2, 4, 3, 2, 4, 4, 2, 2, 4, 2, 2, 3, 2, 4, 2, 2, 4, 3, 4, 2, 3,\n",
       "       2, 2, 2, 2, 4, 2, 4, 2, 4, 4, 4, 4, 4, 2, 2, 2, 2, 2, 2, 4, 2, 4,\n",
       "       2, 3, 4, 4, 4, 2, 3, 3, 2, 2, 4, 3, 2, 2, 3, 4, 2, 2, 2, 4, 2, 3,\n",
       "       2, 4, 4, 4, 4, 4, 2, 2, 3, 3, 4, 2, 4, 3, 2, 2, 2, 4, 3, 4, 2, 4,\n",
       "       4, 2, 2, 2, 3, 4, 3, 4, 2, 4, 4, 2, 2, 4, 2, 3, 3, 2, 4, 2, 4, 4,\n",
       "       3, 3, 2, 2, 3, 2, 2, 4, 4, 4, 2, 2, 4, 4, 2, 4, 4, 3, 2, 2, 2, 4,\n",
       "       4, 2, 4, 2, 2, 3, 4, 4, 4, 2, 2, 4, 4, 2, 2, 3, 2, 2, 4, 4, 4, 4,\n",
       "       3, 2, 3, 2, 4, 3, 4, 4, 2, 4, 4, 3, 4, 4, 4, 2, 4, 4, 2, 3, 2, 2,\n",
       "       4, 4, 4, 3, 2, 4, 3, 4, 2, 3, 4, 2, 4, 4, 2, 3, 4, 2, 2, 2, 4, 2,\n",
       "       2, 3, 4, 4, 2, 2, 2, 4, 4, 4, 2, 4, 2, 4, 2, 3, 2, 2, 3, 4, 3, 2,\n",
       "       4, 2, 4, 4, 4, 4, 2, 2, 3, 2, 4, 2, 2, 4, 2, 2, 4, 2, 2, 2, 4, 2,\n",
       "       3, 4, 2, 3, 3, 2, 3, 2, 3, 4, 2, 2, 3, 2, 4, 4, 3, 2, 4, 4, 4, 3,\n",
       "       4, 4, 2, 4, 2, 4, 4, 2, 4, 4, 4, 4, 2, 2, 3, 4, 4, 2, 4],\n",
       "      dtype=int64)"
      ]
     },
     "execution_count": 18,
     "metadata": {},
     "output_type": "execute_result"
    }
   ],
   "source": [
    "k_neigh_class_predict = k_neigh_classifier.predict(X_test.values) # predicting the the model with the testing data\n",
    "k_neigh_class_predict                                             # Here values is used due to the bug in the code while predicting the values "
   ]
  },
  {
   "cell_type": "markdown",
   "id": "9f9ff45b-7024-4c9b-bc15-6fa6f5189664",
   "metadata": {},
   "source": [
    "### Model Evaluation"
   ]
  },
  {
   "cell_type": "code",
   "execution_count": 19,
   "id": "f753edde-1ba6-416d-ae00-2784a455a76c",
   "metadata": {
    "tags": []
   },
   "outputs": [
    {
     "data": {
      "text/plain": [
       "0.8038095238095239"
      ]
     },
     "execution_count": 19,
     "metadata": {},
     "output_type": "execute_result"
    }
   ],
   "source": [
    "# importing the libraries for model evaluation\n",
    "from sklearn.metrics import accuracy_score, classification_report, confusion_matrix\n",
    "k_neigh_classifier_acc_Score  = accuracy_score(y_test, k_neigh_class_predict) # check for the accuracy score of the model\n",
    "k_neigh_classifier_acc_Score"
   ]
  },
  {
   "cell_type": "code",
   "execution_count": 20,
   "id": "341ec07c-ddd3-4fa7-af05-f59d99cb88b3",
   "metadata": {
    "tags": []
   },
   "outputs": [
    {
     "data": {
      "text/plain": [
       "0.871244635193133"
      ]
     },
     "execution_count": 20,
     "metadata": {},
     "output_type": "execute_result"
    }
   ],
   "source": [
    "k_neigh_classifier_training_score = k_neigh_classifier.score(X_train.values, y_train.values) # training score of the model\n",
    "k_neigh_classifier_training_score"
   ]
  },
  {
   "cell_type": "code",
   "execution_count": 21,
   "id": "643f8ecc-9cea-4c47-8484-a3a881c9c257",
   "metadata": {
    "tags": []
   },
   "outputs": [
    {
     "data": {
      "text/plain": [
       "<sklearn.metrics._plot.confusion_matrix.ConfusionMatrixDisplay at 0x1b0d6c187f0>"
      ]
     },
     "execution_count": 21,
     "metadata": {},
     "output_type": "execute_result"
    },
    {
     "data": {
      "image/png": "[encoded data removed]",
      "text/plain": [
       "<Figure size 640x480 with 2 Axes>"
      ]
     },
     "metadata": {},
     "output_type": "display_data"
    }
   ],
   "source": [
    "# Impoting the necessary libraries for displaying confusion matrix\n",
    "from sklearn.metrics import ConfusionMatrixDisplay\n",
    "Logistic_Regression_Confusion_Matrix = ConfusionMatrixDisplay.from_estimator(k_neigh_classifier, X_test.values, y_test.values)\n",
    "Logistic_Regression_Confusion_Matrix"
   ]
  },
  {
   "cell_type": "code",
   "execution_count": 22,
   "id": "30415c80-65c0-4a5c-92ac-0b15b56e92e1",
   "metadata": {
    "tags": []
   },
   "outputs": [
    {
     "name": "stdout",
     "output_type": "stream",
     "text": [
      "              precision    recall  f1-score   support\n",
      "\n",
      "           2       0.76      0.99      0.86       174\n",
      "           3       0.98      0.46      0.62       184\n",
      "           4       0.78      0.99      0.87       167\n",
      "\n",
      "    accuracy                           0.80       525\n",
      "   macro avg       0.84      0.81      0.79       525\n",
      "weighted avg       0.84      0.80      0.78       525\n",
      "\n"
     ]
    }
   ],
   "source": [
    "print(classification_report(y_test,k_neigh_class_predict))"
   ]
  },
  {
   "cell_type": "markdown",
   "id": "71ccc558-6048-4189-ad8a-6cf89432a992",
   "metadata": {},
   "source": [
    "# <span style=\"background-color: #D32D41; padding: 5px;\">3. Support Vector Classification"
   ]
  },
  {
   "cell_type": "code",
   "execution_count": 23,
   "id": "4c96a173-7a49-4581-87bf-227b2d795e04",
   "metadata": {
    "tags": []
   },
   "outputs": [],
   "source": [
    "# Importing the necessary libraires\n",
    "from sklearn.svm import SVC\n",
    "svm_classifier = SVC()"
   ]
  },
  {
   "cell_type": "code",
   "execution_count": 24,
   "id": "3e727b2f-2f68-4045-ad86-8aa92102a6bf",
   "metadata": {
    "tags": []
   },
   "outputs": [
    {
     "data": {
      "text/html": [
       "<style>#sk-container-id-3 {color: black;}#sk-container-id-3 pre{padding: 0;}#sk-container-id-3 div.sk-toggleable {background-color: white;}#sk-container-id-3 label.sk-toggleable__label {cursor: pointer;display: block;width: 100%;margin-bottom: 0;padding: 0.3em;box-sizing: border-box;text-align: center;}#sk-container-id-3 label.sk-toggleable__label-arrow:before {content: \"▸\";float: left;margin-right: 0.25em;color: #696969;}#sk-container-id-3 label.sk-toggleable__label-arrow:hover:before {color: black;}#sk-container-id-3 div.sk-estimator:hover label.sk-toggleable__label-arrow:before {color: black;}#sk-container-id-3 div.sk-toggleable__content {max-height: 0;max-width: 0;overflow: hidden;text-align: left;background-color: #f0f8ff;}#sk-container-id-3 div.sk-toggleable__content pre {margin: 0.2em;color: black;border-radius: 0.25em;background-color: #f0f8ff;}#sk-container-id-3 input.sk-toggleable__control:checked~div.sk-toggleable__content {max-height: 200px;max-width: 100%;overflow: auto;}#sk-container-id-3 input.sk-toggleable__control:checked~label.sk-toggleable__label-arrow:before {content: \"▾\";}#sk-container-id-3 div.sk-estimator input.sk-toggleable__control:checked~label.sk-toggleable__label {background-color: #d4ebff;}#sk-container-id-3 div.sk-label input.sk-toggleable__control:checked~label.sk-toggleable__label {background-color: #d4ebff;}#sk-container-id-3 input.sk-hidden--visually {border: 0;clip: rect(1px 1px 1px 1px);clip: rect(1px, 1px, 1px, 1px);height: 1px;margin: -1px;overflow: hidden;padding: 0;position: absolute;width: 1px;}#sk-container-id-3 div.sk-estimator {font-family: monospace;background-color: #f0f8ff;border: 1px dotted black;border-radius: 0.25em;box-sizing: border-box;margin-bottom: 0.5em;}#sk-container-id-3 div.sk-estimator:hover {background-color: #d4ebff;}#sk-container-id-3 div.sk-parallel-item::after {content: \"\";width: 100%;border-bottom: 1px solid gray;flex-grow: 1;}#sk-container-id-3 div.sk-label:hover label.sk-toggleable__label {background-color: #d4ebff;}#sk-container-id-3 div.sk-serial::before {content: \"\";position: absolute;border-left: 1px solid gray;box-sizing: border-box;top: 0;bottom: 0;left: 50%;z-index: 0;}#sk-container-id-3 div.sk-serial {display: flex;flex-direction: column;align-items: center;background-color: white;padding-right: 0.2em;padding-left: 0.2em;position: relative;}#sk-container-id-3 div.sk-item {position: relative;z-index: 1;}#sk-container-id-3 div.sk-parallel {display: flex;align-items: stretch;justify-content: center;background-color: white;position: relative;}#sk-container-id-3 div.sk-item::before, #sk-container-id-3 div.sk-parallel-item::before {content: \"\";position: absolute;border-left: 1px solid gray;box-sizing: border-box;top: 0;bottom: 0;left: 50%;z-index: -1;}#sk-container-id-3 div.sk-parallel-item {display: flex;flex-direction: column;z-index: 1;position: relative;background-color: white;}#sk-container-id-3 div.sk-parallel-item:first-child::after {align-self: flex-end;width: 50%;}#sk-container-id-3 div.sk-parallel-item:last-child::after {align-self: flex-start;width: 50%;}#sk-container-id-3 div.sk-parallel-item:only-child::after {width: 0;}#sk-container-id-3 div.sk-dashed-wrapped {border: 1px dashed gray;margin: 0 0.4em 0.5em 0.4em;box-sizing: border-box;padding-bottom: 0.4em;background-color: white;}#sk-container-id-3 div.sk-label label {font-family: monospace;font-weight: bold;display: inline-block;line-height: 1.2em;}#sk-container-id-3 div.sk-label-container {text-align: center;}#sk-container-id-3 div.sk-container {/* jupyter's `normalize.less` sets `[hidden] { display: none; }` but bootstrap.min.css set `[hidden] { display: none !important; }` so we also need the `!important` here to be able to override the default hidden behavior on the sphinx rendered scikit-learn.org. See: https://github.com/scikit-learn/scikit-learn/issues/21755 */display: inline-block !important;position: relative;}#sk-container-id-3 div.sk-text-repr-fallback {display: none;}</style><div id=\"sk-container-id-3\" class=\"sk-top-container\"><div class=\"sk-text-repr-fallback\"><pre>SVC()</pre><b>In a Jupyter environment, please rerun this cell to show the HTML representation or trust the notebook. <br />On GitHub, the HTML representation is unable to render, please try loading this page with nbviewer.org.</b></div><div class=\"sk-container\" hidden><div class=\"sk-item\"><div class=\"sk-estimator sk-toggleable\"><input class=\"sk-toggleable__control sk-hidden--visually\" id=\"sk-estimator-id-3\" type=\"checkbox\" checked><label for=\"sk-estimator-id-3\" class=\"sk-toggleable__label sk-toggleable__label-arrow\">SVC</label><div class=\"sk-toggleable__content\"><pre>SVC()</pre></div></div></div></div></div>"
      ],
      "text/plain": [
       "SVC()"
      ]
     },
     "execution_count": 24,
     "metadata": {},
     "output_type": "execute_result"
    }
   ],
   "source": [
    "svm_classifier.fit(X_train, y_train) # training the model with training data"
   ]
  },
  {
   "cell_type": "code",
   "execution_count": 25,
   "id": "c38952b9-e426-468a-817e-fe249e8488e6",
   "metadata": {
    "tags": []
   },
   "outputs": [
    {
     "data": {
      "text/plain": [
       "array([3, 2, 2, 4, 4, 4, 2, 2, 2, 4, 2, 2, 4, 4, 4, 4, 4, 3, 3, 2, 2, 4,\n",
       "       4, 3, 4, 2, 3, 2, 4, 4, 4, 4, 3, 2, 2, 2, 4, 2, 3, 2, 4, 2, 4, 4,\n",
       "       4, 2, 3, 2, 2, 2, 3, 3, 4, 2, 3, 3, 4, 3, 4, 4, 4, 3, 3, 4, 3, 4,\n",
       "       4, 4, 3, 2, 2, 4, 2, 2, 2, 4, 3, 2, 3, 4, 3, 2, 4, 2, 3, 3, 4, 3,\n",
       "       4, 2, 3, 4, 2, 3, 3, 2, 3, 4, 2, 3, 2, 2, 2, 4, 4, 4, 2, 4, 3, 3,\n",
       "       4, 3, 4, 4, 3, 2, 4, 4, 2, 2, 4, 2, 2, 3, 2, 4, 2, 2, 2, 4, 3, 2,\n",
       "       2, 4, 2, 4, 4, 4, 3, 4, 3, 4, 3, 2, 2, 4, 4, 2, 2, 3, 4, 4, 4, 3,\n",
       "       2, 2, 4, 2, 4, 3, 3, 3, 4, 4, 2, 2, 4, 4, 2, 4, 4, 4, 2, 3, 2, 4,\n",
       "       3, 2, 4, 3, 4, 3, 4, 3, 2, 3, 3, 2, 2, 2, 3, 3, 4, 3, 2, 2, 3, 3,\n",
       "       2, 2, 2, 4, 3, 4, 3, 3, 2, 2, 2, 3, 3, 3, 4, 2, 4, 3, 2, 2, 2, 4,\n",
       "       3, 3, 2, 3, 3, 4, 3, 2, 3, 4, 3, 2, 4, 2, 3, 4, 2, 4, 4, 2, 2, 3,\n",
       "       2, 2, 4, 3, 2, 4, 4, 3, 3, 4, 2, 3, 3, 2, 3, 2, 2, 4, 3, 4, 3, 3,\n",
       "       2, 2, 2, 2, 3, 2, 3, 2, 4, 4, 4, 4, 4, 2, 2, 2, 3, 2, 3, 4, 3, 4,\n",
       "       3, 3, 4, 4, 3, 3, 3, 3, 2, 2, 4, 3, 2, 3, 3, 4, 2, 2, 3, 3, 3, 3,\n",
       "       2, 3, 4, 4, 4, 3, 2, 2, 3, 3, 4, 2, 4, 3, 2, 2, 2, 3, 3, 4, 2, 3,\n",
       "       4, 2, 2, 2, 3, 2, 3, 3, 2, 4, 3, 4, 2, 4, 2, 3, 3, 2, 4, 3, 4, 4,\n",
       "       3, 3, 2, 2, 3, 2, 3, 4, 4, 3, 2, 2, 4, 4, 2, 4, 4, 3, 2, 3, 2, 3,\n",
       "       4, 2, 4, 2, 2, 3, 4, 4, 4, 2, 3, 4, 4, 2, 2, 3, 2, 2, 4, 4, 4, 3,\n",
       "       3, 2, 3, 2, 4, 3, 4, 4, 2, 4, 4, 3, 4, 4, 4, 2, 2, 4, 2, 3, 2, 2,\n",
       "       4, 3, 3, 3, 3, 4, 3, 4, 3, 3, 4, 2, 4, 3, 2, 3, 4, 2, 2, 2, 3, 2,\n",
       "       3, 3, 4, 4, 2, 3, 2, 2, 3, 4, 2, 4, 2, 4, 2, 3, 2, 2, 3, 4, 3, 2,\n",
       "       4, 2, 4, 4, 4, 4, 2, 2, 3, 2, 4, 2, 2, 4, 2, 2, 3, 2, 3, 2, 3, 2,\n",
       "       3, 4, 2, 3, 3, 2, 3, 2, 3, 4, 3, 2, 3, 2, 4, 4, 3, 2, 4, 3, 4, 3,\n",
       "       3, 4, 2, 4, 2, 4, 4, 2, 4, 4, 4, 4, 2, 2, 3, 4, 4, 2, 4],\n",
       "      dtype=int64)"
      ]
     },
     "execution_count": 25,
     "metadata": {},
     "output_type": "execute_result"
    }
   ],
   "source": [
    "svm_classifier_predict = svm_classifier.predict(X_test) # predicitng the values with testing data\n",
    "svm_classifier_predict"
   ]
  },
  {
   "cell_type": "markdown",
   "id": "863565c2-81d4-42a5-b9bf-68f03a1afdf7",
   "metadata": {},
   "source": [
    "### Model Evaluation"
   ]
  },
  {
   "cell_type": "code",
   "execution_count": 26,
   "id": "79fe8f2e-1aad-4c2f-bc96-681eef91776f",
   "metadata": {
    "tags": []
   },
   "outputs": [
    {
     "data": {
      "text/plain": [
       "0.9371428571428572"
      ]
     },
     "execution_count": 26,
     "metadata": {},
     "output_type": "execute_result"
    }
   ],
   "source": [
    "# importing the necessary library for model evaluation \n",
    "from sklearn.metrics import accuracy_score, classification_report, confusion_matrix\n",
    "svm_classifier_acc_score = accuracy_score(y_test, svm_classifier_predict)\n",
    "svm_classifier_acc_score"
   ]
  },
  {
   "cell_type": "code",
   "execution_count": 27,
   "id": "098fce60-c827-48a8-8b2d-d1bb0b9e98d9",
   "metadata": {
    "tags": []
   },
   "outputs": [
    {
     "data": {
      "text/plain": [
       "0.9752026704816404"
      ]
     },
     "execution_count": 27,
     "metadata": {},
     "output_type": "execute_result"
    }
   ],
   "source": [
    "# check for the training score of the model\n",
    "svm_classifier_training_score = svm_classifier.score(X_train, y_train)\n",
    "svm_classifier_training_score"
   ]
  },
  {
   "cell_type": "code",
   "execution_count": 28,
   "id": "c04d808c-c60c-4711-abb4-b174be18ee96",
   "metadata": {
    "tags": []
   },
   "outputs": [
    {
     "data": {
      "text/plain": [
       "<sklearn.metrics._plot.confusion_matrix.ConfusionMatrixDisplay at 0x1b0dcd717e0>"
      ]
     },
     "execution_count": 28,
     "metadata": {},
     "output_type": "execute_result"
    },
    {
     "data": {
      "image/png": "[encoded data removed]",
      "text/plain": [
       "<Figure size 640x480 with 2 Axes>"
      ]
     },
     "metadata": {},
     "output_type": "display_data"
    }
   ],
   "source": [
    "# imporing the necessaru libraires for displaing the confusion matrix\n",
    "from sklearn.metrics import ConfusionMatrixDisplay\n",
    "svm_classifier_Confusion_Matrix = ConfusionMatrixDisplay.from_estimator(svm_classifier, X_test, y_test)\n",
    "svm_classifier_Confusion_Matrix"
   ]
  },
  {
   "cell_type": "code",
   "execution_count": 29,
   "id": "5e02cc27-a28f-4798-b527-1bb45c3bb8d5",
   "metadata": {
    "tags": []
   },
   "outputs": [
    {
     "name": "stdout",
     "output_type": "stream",
     "text": [
      "              precision    recall  f1-score   support\n",
      "\n",
      "           2       0.76      0.99      0.86       174\n",
      "           3       0.98      0.46      0.62       184\n",
      "           4       0.78      0.99      0.87       167\n",
      "\n",
      "    accuracy                           0.80       525\n",
      "   macro avg       0.84      0.81      0.79       525\n",
      "weighted avg       0.84      0.80      0.78       525\n",
      "\n"
     ]
    }
   ],
   "source": [
    "# showing the classification report of the model\n",
    "print(classification_report(y_test,k_neigh_class_predict))"
   ]
  },
  {
   "cell_type": "markdown",
   "id": "c6ff7c84-cea4-4869-8ba8-576f7f58e12f",
   "metadata": {},
   "source": [
    "# <span style=\"background-color: #D32D41; padding: 5px;\">4. Decision Tree Classifier"
   ]
  },
  {
   "cell_type": "code",
   "execution_count": 30,
   "id": "f8160e30-d47f-4582-97b9-543704324f58",
   "metadata": {
    "tags": []
   },
   "outputs": [],
   "source": [
    "# Importing the necessary libraries\n",
    "from sklearn.tree import DecisionTreeClassifier\n",
    "dec_tree_classifier = DecisionTreeClassifier() # saving the model into the object variable"
   ]
  },
  {
   "cell_type": "code",
   "execution_count": 31,
   "id": "924a944c-c5ec-4f73-8051-552e0dc1a17d",
   "metadata": {
    "tags": []
   },
   "outputs": [
    {
     "data": {
      "text/html": [
       "<style>#sk-container-id-4 {color: black;}#sk-container-id-4 pre{padding: 0;}#sk-container-id-4 div.sk-toggleable {background-color: white;}#sk-container-id-4 label.sk-toggleable__label {cursor: pointer;display: block;width: 100%;margin-bottom: 0;padding: 0.3em;box-sizing: border-box;text-align: center;}#sk-container-id-4 label.sk-toggleable__label-arrow:before {content: \"▸\";float: left;margin-right: 0.25em;color: #696969;}#sk-container-id-4 label.sk-toggleable__label-arrow:hover:before {color: black;}#sk-container-id-4 div.sk-estimator:hover label.sk-toggleable__label-arrow:before {color: black;}#sk-container-id-4 div.sk-toggleable__content {max-height: 0;max-width: 0;overflow: hidden;text-align: left;background-color: #f0f8ff;}#sk-container-id-4 div.sk-toggleable__content pre {margin: 0.2em;color: black;border-radius: 0.25em;background-color: #f0f8ff;}#sk-container-id-4 input.sk-toggleable__control:checked~div.sk-toggleable__content {max-height: 200px;max-width: 100%;overflow: auto;}#sk-container-id-4 input.sk-toggleable__control:checked~label.sk-toggleable__label-arrow:before {content: \"▾\";}#sk-container-id-4 div.sk-estimator input.sk-toggleable__control:checked~label.sk-toggleable__label {background-color: #d4ebff;}#sk-container-id-4 div.sk-label input.sk-toggleable__control:checked~label.sk-toggleable__label {background-color: #d4ebff;}#sk-container-id-4 input.sk-hidden--visually {border: 0;clip: rect(1px 1px 1px 1px);clip: rect(1px, 1px, 1px, 1px);height: 1px;margin: -1px;overflow: hidden;padding: 0;position: absolute;width: 1px;}#sk-container-id-4 div.sk-estimator {font-family: monospace;background-color: #f0f8ff;border: 1px dotted black;border-radius: 0.25em;box-sizing: border-box;margin-bottom: 0.5em;}#sk-container-id-4 div.sk-estimator:hover {background-color: #d4ebff;}#sk-container-id-4 div.sk-parallel-item::after {content: \"\";width: 100%;border-bottom: 1px solid gray;flex-grow: 1;}#sk-container-id-4 div.sk-label:hover label.sk-toggleable__label {background-color: #d4ebff;}#sk-container-id-4 div.sk-serial::before {content: \"\";position: absolute;border-left: 1px solid gray;box-sizing: border-box;top: 0;bottom: 0;left: 50%;z-index: 0;}#sk-container-id-4 div.sk-serial {display: flex;flex-direction: column;align-items: center;background-color: white;padding-right: 0.2em;padding-left: 0.2em;position: relative;}#sk-container-id-4 div.sk-item {position: relative;z-index: 1;}#sk-container-id-4 div.sk-parallel {display: flex;align-items: stretch;justify-content: center;background-color: white;position: relative;}#sk-container-id-4 div.sk-item::before, #sk-container-id-4 div.sk-parallel-item::before {content: \"\";position: absolute;border-left: 1px solid gray;box-sizing: border-box;top: 0;bottom: 0;left: 50%;z-index: -1;}#sk-container-id-4 div.sk-parallel-item {display: flex;flex-direction: column;z-index: 1;position: relative;background-color: white;}#sk-container-id-4 div.sk-parallel-item:first-child::after {align-self: flex-end;width: 50%;}#sk-container-id-4 div.sk-parallel-item:last-child::after {align-self: flex-start;width: 50%;}#sk-container-id-4 div.sk-parallel-item:only-child::after {width: 0;}#sk-container-id-4 div.sk-dashed-wrapped {border: 1px dashed gray;margin: 0 0.4em 0.5em 0.4em;box-sizing: border-box;padding-bottom: 0.4em;background-color: white;}#sk-container-id-4 div.sk-label label {font-family: monospace;font-weight: bold;display: inline-block;line-height: 1.2em;}#sk-container-id-4 div.sk-label-container {text-align: center;}#sk-container-id-4 div.sk-container {/* jupyter's `normalize.less` sets `[hidden] { display: none; }` but bootstrap.min.css set `[hidden] { display: none !important; }` so we also need the `!important` here to be able to override the default hidden behavior on the sphinx rendered scikit-learn.org. See: https://github.com/scikit-learn/scikit-learn/issues/21755 */display: inline-block !important;position: relative;}#sk-container-id-4 div.sk-text-repr-fallback {display: none;}</style><div id=\"sk-container-id-4\" class=\"sk-top-container\"><div class=\"sk-text-repr-fallback\"><pre>DecisionTreeClassifier()</pre><b>In a Jupyter environment, please rerun this cell to show the HTML representation or trust the notebook. <br />On GitHub, the HTML representation is unable to render, please try loading this page with nbviewer.org.</b></div><div class=\"sk-container\" hidden><div class=\"sk-item\"><div class=\"sk-estimator sk-toggleable\"><input class=\"sk-toggleable__control sk-hidden--visually\" id=\"sk-estimator-id-4\" type=\"checkbox\" checked><label for=\"sk-estimator-id-4\" class=\"sk-toggleable__label sk-toggleable__label-arrow\">DecisionTreeClassifier</label><div class=\"sk-toggleable__content\"><pre>DecisionTreeClassifier()</pre></div></div></div></div></div>"
      ],
      "text/plain": [
       "DecisionTreeClassifier()"
      ]
     },
     "execution_count": 31,
     "metadata": {},
     "output_type": "execute_result"
    }
   ],
   "source": [
    "dec_tree_classifier.fit(X_train, y_train) # training the model with the help of training data"
   ]
  },
  {
   "cell_type": "code",
   "execution_count": 32,
   "id": "a9c7e5f3-9e49-402b-b445-a6c60539f22a",
   "metadata": {
    "tags": []
   },
   "outputs": [
    {
     "data": {
      "text/plain": [
       "array([3, 2, 2, 3, 4, 4, 2, 2, 2, 4, 2, 3, 4, 4, 4, 4, 4, 2, 2, 2, 2, 4,\n",
       "       3, 3, 3, 2, 2, 3, 4, 4, 4, 2, 3, 3, 3, 2, 4, 2, 3, 2, 4, 2, 4, 3,\n",
       "       4, 3, 3, 3, 2, 2, 2, 3, 4, 3, 3, 3, 4, 3, 4, 4, 4, 3, 2, 4, 4, 4,\n",
       "       3, 2, 2, 2, 2, 4, 2, 2, 2, 4, 3, 2, 3, 2, 3, 2, 4, 2, 3, 3, 4, 3,\n",
       "       4, 2, 2, 4, 2, 3, 2, 3, 3, 4, 2, 3, 2, 2, 2, 4, 4, 2, 2, 4, 2, 3,\n",
       "       4, 3, 4, 4, 3, 4, 4, 4, 2, 2, 4, 2, 3, 3, 2, 3, 2, 2, 2, 4, 3, 2,\n",
       "       3, 4, 2, 4, 4, 4, 2, 4, 2, 4, 3, 3, 3, 3, 4, 3, 2, 4, 4, 4, 4, 2,\n",
       "       2, 2, 3, 2, 4, 3, 3, 3, 4, 4, 2, 2, 4, 4, 2, 4, 4, 4, 2, 4, 2, 4,\n",
       "       4, 2, 4, 2, 4, 3, 4, 3, 4, 3, 3, 2, 2, 2, 3, 3, 4, 3, 2, 2, 3, 2,\n",
       "       2, 2, 2, 3, 3, 4, 2, 3, 3, 2, 2, 3, 3, 3, 4, 2, 4, 3, 2, 4, 2, 3,\n",
       "       3, 2, 2, 3, 2, 2, 3, 2, 4, 4, 3, 2, 4, 2, 3, 4, 2, 4, 4, 3, 2, 4,\n",
       "       2, 2, 4, 3, 2, 4, 4, 3, 3, 4, 2, 3, 3, 3, 3, 3, 2, 4, 3, 2, 3, 3,\n",
       "       2, 2, 2, 3, 3, 4, 3, 4, 3, 4, 4, 4, 4, 2, 2, 2, 3, 2, 3, 4, 3, 4,\n",
       "       2, 3, 4, 3, 3, 3, 2, 3, 2, 2, 4, 3, 2, 3, 3, 4, 2, 2, 4, 4, 3, 2,\n",
       "       3, 3, 4, 4, 4, 3, 2, 2, 2, 4, 4, 2, 4, 3, 2, 2, 2, 3, 2, 4, 2, 3,\n",
       "       4, 2, 3, 2, 2, 3, 3, 3, 2, 4, 3, 2, 2, 4, 3, 3, 3, 2, 3, 3, 4, 4,\n",
       "       3, 3, 3, 2, 3, 2, 4, 4, 4, 3, 3, 2, 4, 4, 2, 4, 4, 4, 2, 2, 2, 2,\n",
       "       4, 2, 4, 2, 2, 4, 4, 4, 2, 2, 3, 4, 4, 4, 3, 3, 2, 2, 4, 4, 4, 3,\n",
       "       3, 2, 3, 2, 4, 3, 4, 4, 2, 3, 4, 3, 4, 4, 4, 2, 2, 3, 2, 3, 2, 2,\n",
       "       4, 3, 3, 3, 3, 4, 3, 4, 3, 3, 4, 2, 4, 4, 2, 3, 2, 2, 2, 2, 3, 2,\n",
       "       2, 3, 4, 4, 2, 3, 3, 4, 3, 4, 2, 4, 2, 4, 2, 3, 4, 2, 2, 4, 3, 2,\n",
       "       4, 2, 4, 4, 4, 4, 2, 2, 3, 2, 3, 2, 2, 4, 3, 2, 3, 2, 4, 2, 3, 3,\n",
       "       4, 4, 2, 3, 3, 2, 3, 2, 3, 4, 2, 2, 2, 2, 3, 4, 3, 3, 3, 3, 4, 3,\n",
       "       2, 4, 2, 4, 3, 4, 4, 3, 4, 4, 4, 4, 2, 2, 3, 3, 4, 3, 4],\n",
       "      dtype=int64)"
      ]
     },
     "execution_count": 32,
     "metadata": {},
     "output_type": "execute_result"
    }
   ],
   "source": [
    "# predicting the model with the help of testing data\n",
    "dec_tree_classifier_prediction = dec_tree_classifier.predict(X_test)\n",
    "dec_tree_classifier_prediction"
   ]
  },
  {
   "cell_type": "markdown",
   "id": "8b3e4b15-a900-4c19-9388-8b116cebfc99",
   "metadata": {},
   "source": [
    "### Model Evaluation"
   ]
  },
  {
   "cell_type": "code",
   "execution_count": 33,
   "id": "aea697ec-2634-406d-b5ad-f5f5ee5ce453",
   "metadata": {
    "tags": []
   },
   "outputs": [
    {
     "data": {
      "text/plain": [
       "0.7923809523809524"
      ]
     },
     "execution_count": 33,
     "metadata": {},
     "output_type": "execute_result"
    }
   ],
   "source": [
    "# importing the necessary library for model evalution\n",
    "from sklearn.metrics import accuracy_score, confusion_matrix, classification_report\n",
    "\n",
    "# check for the model accuracy score\n",
    "dec_tree_classifier_acc_score = accuracy_score(y_test, dec_tree_classifier_prediction)\n",
    "dec_tree_classifier_acc_score"
   ]
  },
  {
   "cell_type": "code",
   "execution_count": 34,
   "id": "f4dad7d0-fd17-4d7e-b0ed-582b5f364ce4",
   "metadata": {
    "tags": []
   },
   "outputs": [
    {
     "data": {
      "text/plain": [
       "1.0"
      ]
     },
     "execution_count": 34,
     "metadata": {},
     "output_type": "execute_result"
    }
   ],
   "source": [
    "# check for the training score of the model\n",
    "dec_tree_classifier_training_score = dec_tree_classifier.score(X_train, y_train)\n",
    "dec_tree_classifier_training_score"
   ]
  },
  {
   "cell_type": "code",
   "execution_count": 35,
   "id": "51b29197-89cc-4883-9d07-ca09833bc735",
   "metadata": {
    "tags": []
   },
   "outputs": [
    {
     "data": {
      "text/plain": [
       "<sklearn.metrics._plot.confusion_matrix.ConfusionMatrixDisplay at 0x1b0dee50b80>"
      ]
     },
     "execution_count": 35,
     "metadata": {},
     "output_type": "execute_result"
    },
    {
     "data": {
      "image/png": "[encoded data removed]",
      "text/plain": [
       "<Figure size 640x480 with 2 Axes>"
      ]
     },
     "metadata": {},
     "output_type": "display_data"
    }
   ],
   "source": [
    "# importing the necessary library for displaying the confusion matrix\n",
    "from sklearn.metrics import ConfusionMatrixDisplay\n",
    "dec_tree_classifier_Confusion_Matrix = ConfusionMatrixDisplay.from_estimator(dec_tree_classifier, X_test, y_test)\n",
    "dec_tree_classifier_Confusion_Matrix"
   ]
  },
  {
   "cell_type": "code",
   "execution_count": 36,
   "id": "3ec64f13-4fca-4370-a567-e33dee11048a",
   "metadata": {
    "tags": []
   },
   "outputs": [
    {
     "name": "stdout",
     "output_type": "stream",
     "text": [
      "              precision    recall  f1-score   support\n",
      "\n",
      "           2       0.78      0.83      0.81       174\n",
      "           3       0.75      0.68      0.72       184\n",
      "           4       0.84      0.87      0.86       167\n",
      "\n",
      "    accuracy                           0.79       525\n",
      "   macro avg       0.79      0.80      0.79       525\n",
      "weighted avg       0.79      0.79      0.79       525\n",
      "\n"
     ]
    }
   ],
   "source": [
    "# Displaying the classification report of the model\n",
    "print(classification_report(y_test, dec_tree_classifier_prediction))"
   ]
  },
  {
   "cell_type": "markdown",
   "id": "951ef4b4-4c62-414b-9dce-2b1a1a6db328",
   "metadata": {},
   "source": [
    "# <span style=\"background-color: #D32D41; padding: 5px;\">5. Random Forest Classification"
   ]
  },
  {
   "cell_type": "code",
   "execution_count": 37,
   "id": "d7002504-458a-4ce1-9289-acd00c906cff",
   "metadata": {
    "tags": []
   },
   "outputs": [],
   "source": [
    "# importing the necessary library \n",
    "from sklearn.ensemble import RandomForestClassifier\n",
    "\n",
    "# saving the model into the object variable\n",
    "rand_for_class = RandomForestClassifier()"
   ]
  },
  {
   "cell_type": "code",
   "execution_count": 38,
   "id": "d7df8c60-6da9-47be-999e-fe4cf52cc613",
   "metadata": {
    "tags": []
   },
   "outputs": [
    {
     "data": {
      "text/html": [
       "<style>#sk-container-id-5 {color: black;}#sk-container-id-5 pre{padding: 0;}#sk-container-id-5 div.sk-toggleable {background-color: white;}#sk-container-id-5 label.sk-toggleable__label {cursor: pointer;display: block;width: 100%;margin-bottom: 0;padding: 0.3em;box-sizing: border-box;text-align: center;}#sk-container-id-5 label.sk-toggleable__label-arrow:before {content: \"▸\";float: left;margin-right: 0.25em;color: #696969;}#sk-container-id-5 label.sk-toggleable__label-arrow:hover:before {color: black;}#sk-container-id-5 div.sk-estimator:hover label.sk-toggleable__label-arrow:before {color: black;}#sk-container-id-5 div.sk-toggleable__content {max-height: 0;max-width: 0;overflow: hidden;text-align: left;background-color: #f0f8ff;}#sk-container-id-5 div.sk-toggleable__content pre {margin: 0.2em;color: black;border-radius: 0.25em;background-color: #f0f8ff;}#sk-container-id-5 input.sk-toggleable__control:checked~div.sk-toggleable__content {max-height: 200px;max-width: 100%;overflow: auto;}#sk-container-id-5 input.sk-toggleable__control:checked~label.sk-toggleable__label-arrow:before {content: \"▾\";}#sk-container-id-5 div.sk-estimator input.sk-toggleable__control:checked~label.sk-toggleable__label {background-color: #d4ebff;}#sk-container-id-5 div.sk-label input.sk-toggleable__control:checked~label.sk-toggleable__label {background-color: #d4ebff;}#sk-container-id-5 input.sk-hidden--visually {border: 0;clip: rect(1px 1px 1px 1px);clip: rect(1px, 1px, 1px, 1px);height: 1px;margin: -1px;overflow: hidden;padding: 0;position: absolute;width: 1px;}#sk-container-id-5 div.sk-estimator {font-family: monospace;background-color: #f0f8ff;border: 1px dotted black;border-radius: 0.25em;box-sizing: border-box;margin-bottom: 0.5em;}#sk-container-id-5 div.sk-estimator:hover {background-color: #d4ebff;}#sk-container-id-5 div.sk-parallel-item::after {content: \"\";width: 100%;border-bottom: 1px solid gray;flex-grow: 1;}#sk-container-id-5 div.sk-label:hover label.sk-toggleable__label {background-color: #d4ebff;}#sk-container-id-5 div.sk-serial::before {content: \"\";position: absolute;border-left: 1px solid gray;box-sizing: border-box;top: 0;bottom: 0;left: 50%;z-index: 0;}#sk-container-id-5 div.sk-serial {display: flex;flex-direction: column;align-items: center;background-color: white;padding-right: 0.2em;padding-left: 0.2em;position: relative;}#sk-container-id-5 div.sk-item {position: relative;z-index: 1;}#sk-container-id-5 div.sk-parallel {display: flex;align-items: stretch;justify-content: center;background-color: white;position: relative;}#sk-container-id-5 div.sk-item::before, #sk-container-id-5 div.sk-parallel-item::before {content: \"\";position: absolute;border-left: 1px solid gray;box-sizing: border-box;top: 0;bottom: 0;left: 50%;z-index: -1;}#sk-container-id-5 div.sk-parallel-item {display: flex;flex-direction: column;z-index: 1;position: relative;background-color: white;}#sk-container-id-5 div.sk-parallel-item:first-child::after {align-self: flex-end;width: 50%;}#sk-container-id-5 div.sk-parallel-item:last-child::after {align-self: flex-start;width: 50%;}#sk-container-id-5 div.sk-parallel-item:only-child::after {width: 0;}#sk-container-id-5 div.sk-dashed-wrapped {border: 1px dashed gray;margin: 0 0.4em 0.5em 0.4em;box-sizing: border-box;padding-bottom: 0.4em;background-color: white;}#sk-container-id-5 div.sk-label label {font-family: monospace;font-weight: bold;display: inline-block;line-height: 1.2em;}#sk-container-id-5 div.sk-label-container {text-align: center;}#sk-container-id-5 div.sk-container {/* jupyter's `normalize.less` sets `[hidden] { display: none; }` but bootstrap.min.css set `[hidden] { display: none !important; }` so we also need the `!important` here to be able to override the default hidden behavior on the sphinx rendered scikit-learn.org. See: https://github.com/scikit-learn/scikit-learn/issues/21755 */display: inline-block !important;position: relative;}#sk-container-id-5 div.sk-text-repr-fallback {display: none;}</style><div id=\"sk-container-id-5\" class=\"sk-top-container\"><div class=\"sk-text-repr-fallback\"><pre>RandomForestClassifier()</pre><b>In a Jupyter environment, please rerun this cell to show the HTML representation or trust the notebook. <br />On GitHub, the HTML representation is unable to render, please try loading this page with nbviewer.org.</b></div><div class=\"sk-container\" hidden><div class=\"sk-item\"><div class=\"sk-estimator sk-toggleable\"><input class=\"sk-toggleable__control sk-hidden--visually\" id=\"sk-estimator-id-5\" type=\"checkbox\" checked><label for=\"sk-estimator-id-5\" class=\"sk-toggleable__label sk-toggleable__label-arrow\">RandomForestClassifier</label><div class=\"sk-toggleable__content\"><pre>RandomForestClassifier()</pre></div></div></div></div></div>"
      ],
      "text/plain": [
       "RandomForestClassifier()"
      ]
     },
     "execution_count": 38,
     "metadata": {},
     "output_type": "execute_result"
    }
   ],
   "source": [
    "# training the model with the training model \n",
    "rand_for_class.fit(X_train, y_train)"
   ]
  },
  {
   "cell_type": "code",
   "execution_count": 39,
   "id": "10d9f09a-0264-4e89-80c5-b0cdbe506136",
   "metadata": {
    "tags": []
   },
   "outputs": [
    {
     "data": {
      "text/plain": [
       "array([3, 2, 2, 4, 4, 4, 2, 2, 3, 4, 2, 2, 4, 4, 4, 4, 4, 3, 2, 2, 2, 4,\n",
       "       4, 3, 4, 2, 3, 3, 4, 3, 4, 3, 3, 3, 2, 3, 4, 2, 3, 2, 4, 2, 4, 3,\n",
       "       4, 2, 3, 2, 2, 2, 3, 3, 4, 3, 3, 3, 4, 3, 4, 4, 4, 3, 3, 4, 3, 4,\n",
       "       4, 3, 3, 2, 2, 4, 2, 2, 2, 4, 3, 2, 3, 4, 3, 2, 4, 2, 3, 3, 4, 3,\n",
       "       4, 2, 3, 4, 2, 3, 2, 2, 3, 4, 2, 3, 2, 2, 2, 4, 4, 4, 2, 4, 2, 3,\n",
       "       4, 2, 4, 4, 3, 2, 4, 4, 2, 2, 4, 2, 2, 3, 2, 4, 2, 2, 2, 4, 3, 2,\n",
       "       2, 4, 2, 4, 4, 3, 3, 4, 3, 4, 3, 2, 2, 4, 4, 3, 2, 3, 4, 4, 4, 3,\n",
       "       2, 2, 4, 2, 4, 3, 3, 3, 4, 4, 2, 2, 4, 4, 2, 4, 4, 4, 2, 3, 2, 4,\n",
       "       3, 2, 4, 3, 3, 3, 4, 3, 2, 3, 3, 2, 2, 2, 3, 3, 4, 3, 2, 2, 3, 3,\n",
       "       2, 2, 2, 4, 3, 4, 3, 3, 2, 2, 2, 4, 3, 2, 4, 2, 4, 3, 2, 2, 2, 4,\n",
       "       3, 3, 2, 3, 3, 4, 3, 2, 3, 4, 3, 2, 3, 2, 3, 4, 2, 4, 4, 2, 2, 3,\n",
       "       2, 2, 4, 3, 2, 4, 4, 3, 3, 4, 2, 3, 3, 2, 3, 2, 2, 4, 3, 4, 3, 3,\n",
       "       2, 2, 2, 2, 3, 2, 3, 4, 4, 4, 4, 4, 4, 2, 2, 2, 2, 2, 3, 4, 2, 4,\n",
       "       3, 3, 4, 4, 3, 2, 3, 3, 2, 2, 4, 3, 2, 3, 3, 4, 2, 2, 2, 4, 3, 3,\n",
       "       2, 3, 4, 4, 4, 3, 2, 2, 3, 3, 4, 2, 4, 3, 2, 2, 2, 3, 3, 4, 2, 3,\n",
       "       4, 2, 2, 2, 3, 3, 3, 3, 2, 4, 3, 4, 2, 4, 2, 3, 3, 2, 4, 3, 4, 4,\n",
       "       3, 3, 2, 2, 3, 2, 3, 4, 4, 3, 2, 2, 4, 4, 2, 4, 4, 3, 2, 3, 2, 3,\n",
       "       4, 2, 4, 2, 2, 3, 4, 4, 3, 2, 3, 4, 4, 2, 3, 3, 2, 2, 4, 4, 4, 3,\n",
       "       3, 2, 3, 2, 4, 3, 4, 4, 2, 4, 4, 3, 4, 4, 4, 2, 2, 3, 2, 3, 2, 2,\n",
       "       4, 3, 4, 3, 3, 4, 3, 4, 3, 3, 4, 2, 3, 3, 2, 3, 4, 2, 2, 2, 3, 2,\n",
       "       3, 3, 4, 4, 2, 3, 2, 4, 3, 4, 2, 4, 2, 4, 2, 3, 2, 2, 3, 4, 3, 2,\n",
       "       4, 2, 4, 4, 4, 4, 2, 2, 3, 2, 4, 2, 2, 4, 2, 2, 3, 2, 3, 2, 3, 2,\n",
       "       3, 4, 2, 3, 3, 2, 3, 2, 3, 4, 2, 2, 3, 2, 4, 4, 3, 2, 4, 3, 4, 3,\n",
       "       2, 4, 2, 4, 3, 4, 4, 2, 4, 4, 4, 4, 2, 2, 3, 3, 4, 3, 4],\n",
       "      dtype=int64)"
      ]
     },
     "execution_count": 39,
     "metadata": {},
     "output_type": "execute_result"
    }
   ],
   "source": [
    "# predicting the model with the help of testing data \n",
    "rand_for_class_predict = rand_for_class.predict(X_test)\n",
    "rand_for_class_predict"
   ]
  },
  {
   "cell_type": "markdown",
   "id": "d79b2a20-e03b-4227-be20-fdddc32b9056",
   "metadata": {
    "tags": []
   },
   "source": [
    "### Model Evaluation"
   ]
  },
  {
   "cell_type": "code",
   "execution_count": 40,
   "id": "41c503b2-0947-4f17-b2ae-ca525f59b40c",
   "metadata": {
    "tags": []
   },
   "outputs": [
    {
     "data": {
      "text/plain": [
       "0.9447619047619048"
      ]
     },
     "execution_count": 40,
     "metadata": {},
     "output_type": "execute_result"
    }
   ],
   "source": [
    "# importing the necessary libraires for model evaluation\n",
    "from sklearn.metrics import accuracy_score, classification_report, confusion_matrix\n",
    "rand_for_class_acc_score = accuracy_score(y_test, rand_for_class_predict)\n",
    "rand_for_class_acc_score"
   ]
  },
  {
   "cell_type": "code",
   "execution_count": 41,
   "id": "1e4c3c16-550d-453f-a118-c1d7676aeea6",
   "metadata": {
    "tags": []
   },
   "outputs": [
    {
     "data": {
      "text/plain": [
       "1.0"
      ]
     },
     "execution_count": 41,
     "metadata": {},
     "output_type": "execute_result"
    }
   ],
   "source": [
    "# check for the accuaracy for the model\n",
    "rand_for_class_training_score = rand_for_class.score(X_train, y_train)\n",
    "rand_for_class_training_score"
   ]
  },
  {
   "cell_type": "code",
   "execution_count": 42,
   "id": "4ea8802e-8a3c-4e46-a11e-3a0272765ece",
   "metadata": {
    "tags": []
   },
   "outputs": [
    {
     "data": {
      "text/plain": [
       "<sklearn.metrics._plot.confusion_matrix.ConfusionMatrixDisplay at 0x1b0dcbdcf10>"
      ]
     },
     "execution_count": 42,
     "metadata": {},
     "output_type": "execute_result"
    },
    {
     "data": {
      "image/png": "[encoded data removed]",
      "text/plain": [
       "<Figure size 640x480 with 2 Axes>"
      ]
     },
     "metadata": {},
     "output_type": "display_data"
    }
   ],
   "source": [
    "# Importing the necessary library for displaying the confusion matrix\n",
    "from sklearn.metrics import ConfusionMatrixDisplay\n",
    "dec_tree_classifier_Confusion_Matrix = ConfusionMatrixDisplay.from_estimator(rand_for_class, X_test, y_test)\n",
    "dec_tree_classifier_Confusion_Matrix"
   ]
  },
  {
   "cell_type": "code",
   "execution_count": 43,
   "id": "2adef5b8-2791-40da-9f3a-2aea468ab692",
   "metadata": {
    "tags": []
   },
   "outputs": [
    {
     "name": "stdout",
     "output_type": "stream",
     "text": [
      "              precision    recall  f1-score   support\n",
      "\n",
      "           2       0.92      0.98      0.95       174\n",
      "           3       0.96      0.88      0.92       184\n",
      "           4       0.96      0.98      0.97       167\n",
      "\n",
      "    accuracy                           0.94       525\n",
      "   macro avg       0.95      0.95      0.95       525\n",
      "weighted avg       0.95      0.94      0.94       525\n",
      "\n"
     ]
    }
   ],
   "source": [
    "# displaying the classification report \n",
    "print(classification_report(y_test, rand_for_class_predict))"
   ]
  },
  {
   "cell_type": "markdown",
   "id": "7b056b91-c370-4a3d-9e39-7985e04fbbde",
   "metadata": {},
   "source": [
    "# <span style=\"background-color: #D32D41; padding: 5px;\">6. Extra Tree (Random Forests) Classifier"
   ]
  },
  {
   "cell_type": "code",
   "execution_count": 44,
   "id": "e95e5d79-e479-40c5-a9f0-1d44242bc04c",
   "metadata": {
    "tags": []
   },
   "outputs": [],
   "source": [
    "# Importing the necessary libraries \n",
    "from sklearn.tree import ExtraTreeClassifier\n",
    "\n",
    "# saving the model into the object variable\n",
    "extra_tree_classfier = ExtraTreeClassifier()"
   ]
  },
  {
   "cell_type": "code",
   "execution_count": 45,
   "id": "c2750f54-04a8-4ba0-b361-d0fce9506d5a",
   "metadata": {
    "tags": []
   },
   "outputs": [
    {
     "data": {
      "text/html": [
       "<style>#sk-container-id-6 {color: black;}#sk-container-id-6 pre{padding: 0;}#sk-container-id-6 div.sk-toggleable {background-color: white;}#sk-container-id-6 label.sk-toggleable__label {cursor: pointer;display: block;width: 100%;margin-bottom: 0;padding: 0.3em;box-sizing: border-box;text-align: center;}#sk-container-id-6 label.sk-toggleable__label-arrow:before {content: \"▸\";float: left;margin-right: 0.25em;color: #696969;}#sk-container-id-6 label.sk-toggleable__label-arrow:hover:before {color: black;}#sk-container-id-6 div.sk-estimator:hover label.sk-toggleable__label-arrow:before {color: black;}#sk-container-id-6 div.sk-toggleable__content {max-height: 0;max-width: 0;overflow: hidden;text-align: left;background-color: #f0f8ff;}#sk-container-id-6 div.sk-toggleable__content pre {margin: 0.2em;color: black;border-radius: 0.25em;background-color: #f0f8ff;}#sk-container-id-6 input.sk-toggleable__control:checked~div.sk-toggleable__content {max-height: 200px;max-width: 100%;overflow: auto;}#sk-container-id-6 input.sk-toggleable__control:checked~label.sk-toggleable__label-arrow:before {content: \"▾\";}#sk-container-id-6 div.sk-estimator input.sk-toggleable__control:checked~label.sk-toggleable__label {background-color: #d4ebff;}#sk-container-id-6 div.sk-label input.sk-toggleable__control:checked~label.sk-toggleable__label {background-color: #d4ebff;}#sk-container-id-6 input.sk-hidden--visually {border: 0;clip: rect(1px 1px 1px 1px);clip: rect(1px, 1px, 1px, 1px);height: 1px;margin: -1px;overflow: hidden;padding: 0;position: absolute;width: 1px;}#sk-container-id-6 div.sk-estimator {font-family: monospace;background-color: #f0f8ff;border: 1px dotted black;border-radius: 0.25em;box-sizing: border-box;margin-bottom: 0.5em;}#sk-container-id-6 div.sk-estimator:hover {background-color: #d4ebff;}#sk-container-id-6 div.sk-parallel-item::after {content: \"\";width: 100%;border-bottom: 1px solid gray;flex-grow: 1;}#sk-container-id-6 div.sk-label:hover label.sk-toggleable__label {background-color: #d4ebff;}#sk-container-id-6 div.sk-serial::before {content: \"\";position: absolute;border-left: 1px solid gray;box-sizing: border-box;top: 0;bottom: 0;left: 50%;z-index: 0;}#sk-container-id-6 div.sk-serial {display: flex;flex-direction: column;align-items: center;background-color: white;padding-right: 0.2em;padding-left: 0.2em;position: relative;}#sk-container-id-6 div.sk-item {position: relative;z-index: 1;}#sk-container-id-6 div.sk-parallel {display: flex;align-items: stretch;justify-content: center;background-color: white;position: relative;}#sk-container-id-6 div.sk-item::before, #sk-container-id-6 div.sk-parallel-item::before {content: \"\";position: absolute;border-left: 1px solid gray;box-sizing: border-box;top: 0;bottom: 0;left: 50%;z-index: -1;}#sk-container-id-6 div.sk-parallel-item {display: flex;flex-direction: column;z-index: 1;position: relative;background-color: white;}#sk-container-id-6 div.sk-parallel-item:first-child::after {align-self: flex-end;width: 50%;}#sk-container-id-6 div.sk-parallel-item:last-child::after {align-self: flex-start;width: 50%;}#sk-container-id-6 div.sk-parallel-item:only-child::after {width: 0;}#sk-container-id-6 div.sk-dashed-wrapped {border: 1px dashed gray;margin: 0 0.4em 0.5em 0.4em;box-sizing: border-box;padding-bottom: 0.4em;background-color: white;}#sk-container-id-6 div.sk-label label {font-family: monospace;font-weight: bold;display: inline-block;line-height: 1.2em;}#sk-container-id-6 div.sk-label-container {text-align: center;}#sk-container-id-6 div.sk-container {/* jupyter's `normalize.less` sets `[hidden] { display: none; }` but bootstrap.min.css set `[hidden] { display: none !important; }` so we also need the `!important` here to be able to override the default hidden behavior on the sphinx rendered scikit-learn.org. See: https://github.com/scikit-learn/scikit-learn/issues/21755 */display: inline-block !important;position: relative;}#sk-container-id-6 div.sk-text-repr-fallback {display: none;}</style><div id=\"sk-container-id-6\" class=\"sk-top-container\"><div class=\"sk-text-repr-fallback\"><pre>ExtraTreeClassifier()</pre><b>In a Jupyter environment, please rerun this cell to show the HTML representation or trust the notebook. <br />On GitHub, the HTML representation is unable to render, please try loading this page with nbviewer.org.</b></div><div class=\"sk-container\" hidden><div class=\"sk-item\"><div class=\"sk-estimator sk-toggleable\"><input class=\"sk-toggleable__control sk-hidden--visually\" id=\"sk-estimator-id-6\" type=\"checkbox\" checked><label for=\"sk-estimator-id-6\" class=\"sk-toggleable__label sk-toggleable__label-arrow\">ExtraTreeClassifier</label><div class=\"sk-toggleable__content\"><pre>ExtraTreeClassifier()</pre></div></div></div></div></div>"
      ],
      "text/plain": [
       "ExtraTreeClassifier()"
      ]
     },
     "execution_count": 45,
     "metadata": {},
     "output_type": "execute_result"
    }
   ],
   "source": [
    "# training the model with training data\n",
    "extra_tree_classfier.fit(X_train, y_train)"
   ]
  },
  {
   "cell_type": "code",
   "execution_count": 46,
   "id": "0e1bc191-2654-4b79-a576-b0c853befa0d",
   "metadata": {
    "tags": []
   },
   "outputs": [
    {
     "data": {
      "text/plain": [
       "array([3, 2, 3, 4, 4, 3, 4, 2, 3, 4, 2, 2, 4, 4, 4, 4, 4, 3, 3, 3, 4, 4,\n",
       "       4, 3, 4, 2, 3, 4, 4, 3, 4, 3, 3, 4, 2, 3, 4, 2, 2, 2, 4, 2, 4, 4,\n",
       "       4, 2, 3, 2, 2, 2, 3, 4, 4, 3, 3, 4, 3, 3, 4, 4, 4, 3, 2, 4, 3, 4,\n",
       "       4, 2, 4, 2, 2, 4, 2, 2, 2, 4, 3, 2, 3, 4, 3, 2, 4, 2, 3, 3, 4, 3,\n",
       "       4, 2, 3, 3, 2, 3, 2, 2, 4, 4, 2, 4, 2, 2, 3, 4, 4, 3, 2, 4, 3, 2,\n",
       "       4, 2, 3, 3, 2, 4, 4, 4, 2, 2, 3, 2, 2, 4, 2, 4, 2, 2, 2, 4, 3, 4,\n",
       "       2, 3, 2, 3, 4, 4, 3, 4, 2, 4, 2, 2, 2, 4, 4, 4, 2, 4, 4, 4, 4, 4,\n",
       "       2, 2, 4, 2, 4, 3, 3, 2, 2, 4, 2, 2, 4, 2, 2, 4, 4, 4, 2, 3, 2, 4,\n",
       "       3, 4, 4, 2, 4, 3, 4, 3, 3, 3, 2, 2, 2, 2, 3, 3, 4, 4, 2, 2, 3, 2,\n",
       "       4, 2, 2, 4, 4, 4, 3, 3, 3, 3, 2, 2, 3, 2, 4, 2, 3, 3, 2, 2, 2, 4,\n",
       "       2, 3, 2, 3, 4, 4, 3, 2, 4, 4, 4, 2, 3, 2, 3, 4, 4, 4, 4, 4, 2, 4,\n",
       "       3, 2, 4, 4, 2, 3, 4, 3, 3, 4, 2, 3, 3, 2, 3, 3, 2, 3, 4, 3, 3, 3,\n",
       "       3, 3, 2, 2, 4, 2, 4, 3, 4, 4, 3, 4, 4, 2, 2, 2, 2, 2, 4, 4, 3, 4,\n",
       "       2, 3, 4, 4, 3, 2, 3, 4, 2, 2, 3, 3, 2, 3, 3, 4, 2, 2, 3, 4, 2, 4,\n",
       "       2, 2, 4, 2, 4, 3, 2, 3, 2, 4, 4, 2, 4, 3, 2, 2, 2, 3, 3, 4, 2, 3,\n",
       "       4, 2, 2, 3, 3, 2, 3, 3, 2, 4, 4, 4, 3, 4, 2, 3, 3, 2, 4, 3, 4, 4,\n",
       "       3, 3, 4, 2, 2, 2, 3, 4, 3, 3, 2, 2, 4, 4, 3, 3, 4, 3, 2, 3, 2, 3,\n",
       "       4, 2, 4, 2, 2, 3, 2, 4, 3, 2, 3, 4, 4, 4, 2, 4, 2, 2, 4, 4, 3, 4,\n",
       "       4, 2, 4, 2, 2, 4, 4, 4, 2, 4, 4, 2, 4, 4, 4, 2, 3, 2, 2, 3, 4, 2,\n",
       "       4, 2, 4, 3, 2, 4, 3, 4, 2, 3, 4, 2, 3, 3, 3, 3, 2, 2, 2, 2, 4, 2,\n",
       "       3, 3, 4, 2, 2, 2, 4, 4, 3, 2, 2, 4, 2, 4, 2, 3, 2, 2, 3, 4, 3, 2,\n",
       "       4, 2, 2, 4, 4, 4, 2, 2, 3, 2, 2, 2, 2, 4, 4, 2, 4, 2, 3, 2, 3, 2,\n",
       "       3, 4, 2, 2, 3, 4, 3, 2, 2, 4, 4, 2, 3, 2, 4, 4, 2, 2, 4, 4, 4, 3,\n",
       "       2, 4, 3, 4, 3, 4, 4, 2, 2, 4, 2, 4, 2, 2, 3, 2, 4, 3, 4],\n",
       "      dtype=int64)"
      ]
     },
     "execution_count": 46,
     "metadata": {},
     "output_type": "execute_result"
    }
   ],
   "source": [
    "# predicting the model with testing data\n",
    "extra_tree_classfier_predict = extra_tree_classfier.predict(X_test)\n",
    "extra_tree_classfier_predict"
   ]
  },
  {
   "cell_type": "markdown",
   "id": "085be730-814e-4e86-ada7-3c22a17d601e",
   "metadata": {},
   "source": [
    "### Model Evaluation"
   ]
  },
  {
   "cell_type": "code",
   "execution_count": 47,
   "id": "9e5af866-1a47-4fd8-8946-f169e54c6756",
   "metadata": {
    "tags": []
   },
   "outputs": [
    {
     "data": {
      "text/plain": [
       "0.7295238095238096"
      ]
     },
     "execution_count": 47,
     "metadata": {},
     "output_type": "execute_result"
    }
   ],
   "source": [
    "# importing the necessary library for model evaluation\n",
    "from sklearn.metrics import accuracy_score, classification_report, confusion_matrix\n",
    "extra_tree_classfier_acc_score = accuracy_score(y_test, extra_tree_classfier_predict)\n",
    "extra_tree_classfier_acc_score"
   ]
  },
  {
   "cell_type": "code",
   "execution_count": 48,
   "id": "76b064b7-3c33-4b74-b156-db43f7416133",
   "metadata": {
    "tags": []
   },
   "outputs": [
    {
     "data": {
      "text/plain": [
       "1.0"
      ]
     },
     "execution_count": 48,
     "metadata": {},
     "output_type": "execute_result"
    }
   ],
   "source": [
    "# finding the training score of the model \n",
    "extra_tree_classfier_training_score = extra_tree_classfier.score(X_train, y_train)\n",
    "extra_tree_classfier_training_score"
   ]
  },
  {
   "cell_type": "code",
   "execution_count": 49,
   "id": "44d6677e-36ff-48ed-9ceb-6214ae4acd34",
   "metadata": {
    "tags": []
   },
   "outputs": [
    {
     "data": {
      "text/plain": [
       "<sklearn.metrics._plot.confusion_matrix.ConfusionMatrixDisplay at 0x1b0deef2140>"
      ]
     },
     "execution_count": 49,
     "metadata": {},
     "output_type": "execute_result"
    },
    {
     "data": {
      "image/png": "[encoded data removed]",
      "text/plain": [
       "<Figure size 640x480 with 2 Axes>"
      ]
     },
     "metadata": {},
     "output_type": "display_data"
    }
   ],
   "source": [
    "# importing the necessary library for displaying the confusion matrix\n",
    "from sklearn.metrics import ConfusionMatrixDisplay\n",
    "extra_tree_classfier_Confusion_Matrix = ConfusionMatrixDisplay.from_estimator(extra_tree_classfier, X_test, y_test)\n",
    "extra_tree_classfier_Confusion_Matrix"
   ]
  },
  {
   "cell_type": "code",
   "execution_count": 50,
   "id": "ea91ad6d-4c05-416e-a736-21fcb3479751",
   "metadata": {
    "tags": []
   },
   "outputs": [
    {
     "name": "stdout",
     "output_type": "stream",
     "text": [
      "              precision    recall  f1-score   support\n",
      "\n",
      "           2       0.74      0.82      0.78       174\n",
      "           3       0.73      0.57      0.64       184\n",
      "           4       0.71      0.81      0.76       167\n",
      "\n",
      "    accuracy                           0.73       525\n",
      "   macro avg       0.73      0.73      0.73       525\n",
      "weighted avg       0.73      0.73      0.72       525\n",
      "\n"
     ]
    }
   ],
   "source": [
    "# # displaying the classification report of the model \n",
    "print(classification_report(y_test, extra_tree_classfier_predict))"
   ]
  },
  {
   "cell_type": "markdown",
   "id": "191727a6-d0e0-4ee2-9903-15fc430e838a",
   "metadata": {},
   "source": [
    "# <span style=\"background-color: #D32D41; padding: 5px;\">7. Naive Bayes Classification"
   ]
  },
  {
   "cell_type": "code",
   "execution_count": 51,
   "id": "cd46b4b7-add3-4c4a-a217-7ef9a7b33354",
   "metadata": {
    "tags": []
   },
   "outputs": [],
   "source": [
    "# importing the necessary library \n",
    "from sklearn.naive_bayes import BernoulliNB\n",
    "\n",
    "# saving the model into the object variable\n",
    "naive_bayes_classifier = BernoulliNB()"
   ]
  },
  {
   "cell_type": "code",
   "execution_count": 52,
   "id": "6756f109-a62d-4ede-bd36-15082542d828",
   "metadata": {
    "tags": []
   },
   "outputs": [
    {
     "data": {
      "text/html": [
       "<style>#sk-container-id-7 {color: black;}#sk-container-id-7 pre{padding: 0;}#sk-container-id-7 div.sk-toggleable {background-color: white;}#sk-container-id-7 label.sk-toggleable__label {cursor: pointer;display: block;width: 100%;margin-bottom: 0;padding: 0.3em;box-sizing: border-box;text-align: center;}#sk-container-id-7 label.sk-toggleable__label-arrow:before {content: \"▸\";float: left;margin-right: 0.25em;color: #696969;}#sk-container-id-7 label.sk-toggleable__label-arrow:hover:before {color: black;}#sk-container-id-7 div.sk-estimator:hover label.sk-toggleable__label-arrow:before {color: black;}#sk-container-id-7 div.sk-toggleable__content {max-height: 0;max-width: 0;overflow: hidden;text-align: left;background-color: #f0f8ff;}#sk-container-id-7 div.sk-toggleable__content pre {margin: 0.2em;color: black;border-radius: 0.25em;background-color: #f0f8ff;}#sk-container-id-7 input.sk-toggleable__control:checked~div.sk-toggleable__content {max-height: 200px;max-width: 100%;overflow: auto;}#sk-container-id-7 input.sk-toggleable__control:checked~label.sk-toggleable__label-arrow:before {content: \"▾\";}#sk-container-id-7 div.sk-estimator input.sk-toggleable__control:checked~label.sk-toggleable__label {background-color: #d4ebff;}#sk-container-id-7 div.sk-label input.sk-toggleable__control:checked~label.sk-toggleable__label {background-color: #d4ebff;}#sk-container-id-7 input.sk-hidden--visually {border: 0;clip: rect(1px 1px 1px 1px);clip: rect(1px, 1px, 1px, 1px);height: 1px;margin: -1px;overflow: hidden;padding: 0;position: absolute;width: 1px;}#sk-container-id-7 div.sk-estimator {font-family: monospace;background-color: #f0f8ff;border: 1px dotted black;border-radius: 0.25em;box-sizing: border-box;margin-bottom: 0.5em;}#sk-container-id-7 div.sk-estimator:hover {background-color: #d4ebff;}#sk-container-id-7 div.sk-parallel-item::after {content: \"\";width: 100%;border-bottom: 1px solid gray;flex-grow: 1;}#sk-container-id-7 div.sk-label:hover label.sk-toggleable__label {background-color: #d4ebff;}#sk-container-id-7 div.sk-serial::before {content: \"\";position: absolute;border-left: 1px solid gray;box-sizing: border-box;top: 0;bottom: 0;left: 50%;z-index: 0;}#sk-container-id-7 div.sk-serial {display: flex;flex-direction: column;align-items: center;background-color: white;padding-right: 0.2em;padding-left: 0.2em;position: relative;}#sk-container-id-7 div.sk-item {position: relative;z-index: 1;}#sk-container-id-7 div.sk-parallel {display: flex;align-items: stretch;justify-content: center;background-color: white;position: relative;}#sk-container-id-7 div.sk-item::before, #sk-container-id-7 div.sk-parallel-item::before {content: \"\";position: absolute;border-left: 1px solid gray;box-sizing: border-box;top: 0;bottom: 0;left: 50%;z-index: -1;}#sk-container-id-7 div.sk-parallel-item {display: flex;flex-direction: column;z-index: 1;position: relative;background-color: white;}#sk-container-id-7 div.sk-parallel-item:first-child::after {align-self: flex-end;width: 50%;}#sk-container-id-7 div.sk-parallel-item:last-child::after {align-self: flex-start;width: 50%;}#sk-container-id-7 div.sk-parallel-item:only-child::after {width: 0;}#sk-container-id-7 div.sk-dashed-wrapped {border: 1px dashed gray;margin: 0 0.4em 0.5em 0.4em;box-sizing: border-box;padding-bottom: 0.4em;background-color: white;}#sk-container-id-7 div.sk-label label {font-family: monospace;font-weight: bold;display: inline-block;line-height: 1.2em;}#sk-container-id-7 div.sk-label-container {text-align: center;}#sk-container-id-7 div.sk-container {/* jupyter's `normalize.less` sets `[hidden] { display: none; }` but bootstrap.min.css set `[hidden] { display: none !important; }` so we also need the `!important` here to be able to override the default hidden behavior on the sphinx rendered scikit-learn.org. See: https://github.com/scikit-learn/scikit-learn/issues/21755 */display: inline-block !important;position: relative;}#sk-container-id-7 div.sk-text-repr-fallback {display: none;}</style><div id=\"sk-container-id-7\" class=\"sk-top-container\"><div class=\"sk-text-repr-fallback\"><pre>BernoulliNB()</pre><b>In a Jupyter environment, please rerun this cell to show the HTML representation or trust the notebook. <br />On GitHub, the HTML representation is unable to render, please try loading this page with nbviewer.org.</b></div><div class=\"sk-container\" hidden><div class=\"sk-item\"><div class=\"sk-estimator sk-toggleable\"><input class=\"sk-toggleable__control sk-hidden--visually\" id=\"sk-estimator-id-7\" type=\"checkbox\" checked><label for=\"sk-estimator-id-7\" class=\"sk-toggleable__label sk-toggleable__label-arrow\">BernoulliNB</label><div class=\"sk-toggleable__content\"><pre>BernoulliNB()</pre></div></div></div></div></div>"
      ],
      "text/plain": [
       "BernoulliNB()"
      ]
     },
     "execution_count": 52,
     "metadata": {},
     "output_type": "execute_result"
    }
   ],
   "source": [
    "# training the model with the training dataset\n",
    "naive_bayes_classifier.fit(X_train, y_train)"
   ]
  },
  {
   "cell_type": "code",
   "execution_count": 53,
   "id": "12897d84-b583-4052-877a-67486a8620dd",
   "metadata": {
    "tags": []
   },
   "outputs": [
    {
     "data": {
      "text/plain": [
       "array([4, 4, 2, 4, 4, 4, 2, 2, 2, 4, 2, 2, 3, 4, 4, 4, 4, 2, 2, 2, 4, 4,\n",
       "       4, 3, 4, 4, 3, 2, 4, 4, 4, 3, 3, 2, 2, 2, 4, 2, 3, 2, 4, 2, 4, 3,\n",
       "       3, 4, 3, 2, 2, 2, 3, 2, 4, 2, 3, 3, 4, 3, 4, 3, 4, 3, 3, 4, 3, 4,\n",
       "       4, 3, 3, 2, 3, 4, 2, 4, 3, 4, 3, 2, 4, 4, 3, 2, 4, 2, 4, 3, 4, 3,\n",
       "       4, 2, 3, 4, 4, 3, 2, 2, 3, 4, 2, 3, 4, 2, 2, 4, 4, 4, 2, 4, 2, 3,\n",
       "       4, 2, 4, 2, 4, 2, 3, 4, 2, 2, 4, 2, 3, 3, 2, 4, 2, 2, 2, 3, 4, 3,\n",
       "       2, 4, 2, 4, 4, 3, 4, 4, 3, 4, 2, 2, 2, 4, 3, 2, 4, 3, 4, 4, 2, 3,\n",
       "       3, 2, 4, 2, 4, 2, 3, 3, 2, 4, 4, 2, 4, 4, 2, 4, 4, 2, 2, 3, 2, 4,\n",
       "       3, 2, 3, 3, 2, 3, 4, 3, 4, 3, 3, 2, 3, 2, 4, 3, 4, 4, 2, 2, 3, 2,\n",
       "       3, 2, 2, 4, 4, 4, 3, 3, 2, 3, 2, 2, 3, 2, 3, 3, 2, 2, 2, 2, 3, 4,\n",
       "       3, 3, 2, 3, 3, 4, 3, 2, 3, 4, 3, 2, 4, 3, 3, 4, 2, 4, 4, 3, 2, 3,\n",
       "       2, 2, 4, 3, 2, 4, 4, 2, 3, 3, 2, 3, 3, 3, 3, 2, 2, 4, 4, 2, 2, 3,\n",
       "       4, 3, 2, 4, 2, 2, 3, 4, 3, 3, 4, 4, 3, 3, 4, 2, 2, 2, 3, 4, 3, 4,\n",
       "       2, 3, 4, 4, 2, 3, 3, 4, 3, 4, 4, 3, 2, 3, 3, 4, 2, 2, 2, 2, 3, 3,\n",
       "       4, 4, 4, 4, 4, 4, 2, 2, 3, 3, 4, 2, 4, 3, 2, 3, 2, 3, 3, 4, 2, 3,\n",
       "       4, 2, 3, 2, 2, 2, 3, 3, 3, 4, 4, 4, 2, 4, 2, 4, 3, 2, 4, 3, 4, 4,\n",
       "       4, 4, 2, 2, 3, 2, 2, 4, 4, 4, 2, 2, 4, 3, 3, 4, 4, 3, 3, 3, 2, 2,\n",
       "       4, 3, 2, 2, 4, 3, 4, 4, 2, 2, 3, 4, 4, 2, 3, 3, 2, 2, 4, 4, 3, 3,\n",
       "       2, 3, 3, 2, 2, 4, 4, 4, 2, 2, 4, 4, 4, 4, 4, 2, 3, 3, 3, 3, 2, 4,\n",
       "       4, 2, 4, 3, 2, 4, 3, 4, 3, 4, 4, 2, 4, 3, 2, 4, 4, 2, 2, 2, 3, 2,\n",
       "       4, 2, 4, 4, 2, 2, 2, 2, 3, 4, 3, 4, 2, 3, 2, 3, 2, 2, 4, 4, 3, 2,\n",
       "       4, 2, 3, 4, 4, 2, 2, 2, 3, 2, 4, 2, 2, 4, 2, 3, 3, 2, 3, 2, 4, 3,\n",
       "       3, 4, 3, 3, 3, 2, 3, 2, 3, 3, 2, 2, 3, 2, 4, 4, 3, 2, 4, 3, 3, 3,\n",
       "       2, 4, 2, 4, 2, 4, 4, 4, 4, 4, 3, 4, 2, 3, 4, 4, 4, 2, 4],\n",
       "      dtype=int64)"
      ]
     },
     "execution_count": 53,
     "metadata": {},
     "output_type": "execute_result"
    }
   ],
   "source": [
    "# predicting the model with test data\n",
    "naive_bayes_classifier_prediction = naive_bayes_classifier.predict(X_test)\n",
    "naive_bayes_classifier_prediction"
   ]
  },
  {
   "cell_type": "markdown",
   "id": "d12eca8d-bd58-498c-a5b2-070c7badcd40",
   "metadata": {},
   "source": [
    "### Model Evaluation"
   ]
  },
  {
   "cell_type": "code",
   "execution_count": 54,
   "id": "63635e59-2d24-4174-8df8-ee7ffa3a710a",
   "metadata": {
    "tags": []
   },
   "outputs": [
    {
     "data": {
      "text/plain": [
       "0.7066666666666667"
      ]
     },
     "execution_count": 54,
     "metadata": {},
     "output_type": "execute_result"
    }
   ],
   "source": [
    "# importing the necessary library for model evaluation\n",
    "from sklearn.metrics import accuracy_score, confusion_matrix, classification_report\n",
    "\n",
    "# check for the accuracy score of the model \n",
    "naive_bayes_classifier_acc_score = accuracy_score(y_test, naive_bayes_classifier_prediction)\n",
    "naive_bayes_classifier_acc_score"
   ]
  },
  {
   "cell_type": "code",
   "execution_count": 55,
   "id": "80b89515-8ce6-41f0-b6ee-e7d9c483c866",
   "metadata": {
    "tags": []
   },
   "outputs": [
    {
     "data": {
      "text/plain": [
       "0.7467811158798283"
      ]
     },
     "execution_count": 55,
     "metadata": {},
     "output_type": "execute_result"
    }
   ],
   "source": [
    "# checking the training score of the model \n",
    "naive_bayes_classifier_training_score = naive_bayes_classifier.score(X_train, y_train)\n",
    "naive_bayes_classifier_training_score"
   ]
  },
  {
   "cell_type": "code",
   "execution_count": 56,
   "id": "317cfdc0-a404-42b9-b351-c0e278d9c1f1",
   "metadata": {
    "tags": []
   },
   "outputs": [
    {
     "data": {
      "text/plain": [
       "<sklearn.metrics._plot.confusion_matrix.ConfusionMatrixDisplay at 0x1b0defcb3d0>"
      ]
     },
     "execution_count": 56,
     "metadata": {},
     "output_type": "execute_result"
    },
    {
     "data": {
      "image/png": "[encoded data removed]",
      "text/plain": [
       "<Figure size 640x480 with 2 Axes>"
      ]
     },
     "metadata": {},
     "output_type": "display_data"
    }
   ],
   "source": [
    "# imprting the necessary library for diplaying the confusion matrix \n",
    "from sklearn.metrics import ConfusionMatrixDisplay\n",
    "naive_bayes_classifier_Confusion_Matrix = ConfusionMatrixDisplay.from_estimator(naive_bayes_classifier, X_test, y_test)\n",
    "naive_bayes_classifier_Confusion_Matrix"
   ]
  },
  {
   "cell_type": "code",
   "execution_count": 57,
   "id": "52484702-6c79-481d-b62a-862c5753296c",
   "metadata": {
    "tags": []
   },
   "outputs": [
    {
     "name": "stdout",
     "output_type": "stream",
     "text": [
      "              precision    recall  f1-score   support\n",
      "\n",
      "           2       0.70      0.72      0.71       174\n",
      "           3       0.69      0.60      0.64       184\n",
      "           4       0.73      0.81      0.77       167\n",
      "\n",
      "    accuracy                           0.71       525\n",
      "   macro avg       0.71      0.71      0.71       525\n",
      "weighted avg       0.71      0.71      0.70       525\n",
      "\n"
     ]
    }
   ],
   "source": [
    "# diplaying the classification report of the model \n",
    "print(classification_report(y_test, naive_bayes_classifier_prediction))"
   ]
  },
  {
   "cell_type": "markdown",
   "id": "0e16386e-5bfc-44ee-95a4-4e39d57b8a0b",
   "metadata": {
    "tags": []
   },
   "source": [
    "# <span style=\"background-color: #D32D41; padding: 5px;\">8. AdaBoost Classification"
   ]
  },
  {
   "cell_type": "code",
   "execution_count": 58,
   "id": "51c8b717-cd75-43fd-abda-99321fa8768e",
   "metadata": {
    "tags": []
   },
   "outputs": [],
   "source": [
    "# importing the necessary library \n",
    "from sklearn.ensemble import AdaBoostClassifier\n",
    "\n",
    "# saving the model into the object variable\n",
    "adaboost_classifier = AdaBoostClassifier()"
   ]
  },
  {
   "cell_type": "code",
   "execution_count": 59,
   "id": "07b5f3c2-8aef-4b49-bf00-22db58d6f64e",
   "metadata": {
    "tags": []
   },
   "outputs": [
    {
     "data": {
      "text/html": [
       "<style>#sk-container-id-8 {color: black;}#sk-container-id-8 pre{padding: 0;}#sk-container-id-8 div.sk-toggleable {background-color: white;}#sk-container-id-8 label.sk-toggleable__label {cursor: pointer;display: block;width: 100%;margin-bottom: 0;padding: 0.3em;box-sizing: border-box;text-align: center;}#sk-container-id-8 label.sk-toggleable__label-arrow:before {content: \"▸\";float: left;margin-right: 0.25em;color: #696969;}#sk-container-id-8 label.sk-toggleable__label-arrow:hover:before {color: black;}#sk-container-id-8 div.sk-estimator:hover label.sk-toggleable__label-arrow:before {color: black;}#sk-container-id-8 div.sk-toggleable__content {max-height: 0;max-width: 0;overflow: hidden;text-align: left;background-color: #f0f8ff;}#sk-container-id-8 div.sk-toggleable__content pre {margin: 0.2em;color: black;border-radius: 0.25em;background-color: #f0f8ff;}#sk-container-id-8 input.sk-toggleable__control:checked~div.sk-toggleable__content {max-height: 200px;max-width: 100%;overflow: auto;}#sk-container-id-8 input.sk-toggleable__control:checked~label.sk-toggleable__label-arrow:before {content: \"▾\";}#sk-container-id-8 div.sk-estimator input.sk-toggleable__control:checked~label.sk-toggleable__label {background-color: #d4ebff;}#sk-container-id-8 div.sk-label input.sk-toggleable__control:checked~label.sk-toggleable__label {background-color: #d4ebff;}#sk-container-id-8 input.sk-hidden--visually {border: 0;clip: rect(1px 1px 1px 1px);clip: rect(1px, 1px, 1px, 1px);height: 1px;margin: -1px;overflow: hidden;padding: 0;position: absolute;width: 1px;}#sk-container-id-8 div.sk-estimator {font-family: monospace;background-color: #f0f8ff;border: 1px dotted black;border-radius: 0.25em;box-sizing: border-box;margin-bottom: 0.5em;}#sk-container-id-8 div.sk-estimator:hover {background-color: #d4ebff;}#sk-container-id-8 div.sk-parallel-item::after {content: \"\";width: 100%;border-bottom: 1px solid gray;flex-grow: 1;}#sk-container-id-8 div.sk-label:hover label.sk-toggleable__label {background-color: #d4ebff;}#sk-container-id-8 div.sk-serial::before {content: \"\";position: absolute;border-left: 1px solid gray;box-sizing: border-box;top: 0;bottom: 0;left: 50%;z-index: 0;}#sk-container-id-8 div.sk-serial {display: flex;flex-direction: column;align-items: center;background-color: white;padding-right: 0.2em;padding-left: 0.2em;position: relative;}#sk-container-id-8 div.sk-item {position: relative;z-index: 1;}#sk-container-id-8 div.sk-parallel {display: flex;align-items: stretch;justify-content: center;background-color: white;position: relative;}#sk-container-id-8 div.sk-item::before, #sk-container-id-8 div.sk-parallel-item::before {content: \"\";position: absolute;border-left: 1px solid gray;box-sizing: border-box;top: 0;bottom: 0;left: 50%;z-index: -1;}#sk-container-id-8 div.sk-parallel-item {display: flex;flex-direction: column;z-index: 1;position: relative;background-color: white;}#sk-container-id-8 div.sk-parallel-item:first-child::after {align-self: flex-end;width: 50%;}#sk-container-id-8 div.sk-parallel-item:last-child::after {align-self: flex-start;width: 50%;}#sk-container-id-8 div.sk-parallel-item:only-child::after {width: 0;}#sk-container-id-8 div.sk-dashed-wrapped {border: 1px dashed gray;margin: 0 0.4em 0.5em 0.4em;box-sizing: border-box;padding-bottom: 0.4em;background-color: white;}#sk-container-id-8 div.sk-label label {font-family: monospace;font-weight: bold;display: inline-block;line-height: 1.2em;}#sk-container-id-8 div.sk-label-container {text-align: center;}#sk-container-id-8 div.sk-container {/* jupyter's `normalize.less` sets `[hidden] { display: none; }` but bootstrap.min.css set `[hidden] { display: none !important; }` so we also need the `!important` here to be able to override the default hidden behavior on the sphinx rendered scikit-learn.org. See: https://github.com/scikit-learn/scikit-learn/issues/21755 */display: inline-block !important;position: relative;}#sk-container-id-8 div.sk-text-repr-fallback {display: none;}</style><div id=\"sk-container-id-8\" class=\"sk-top-container\"><div class=\"sk-text-repr-fallback\"><pre>AdaBoostClassifier()</pre><b>In a Jupyter environment, please rerun this cell to show the HTML representation or trust the notebook. <br />On GitHub, the HTML representation is unable to render, please try loading this page with nbviewer.org.</b></div><div class=\"sk-container\" hidden><div class=\"sk-item\"><div class=\"sk-estimator sk-toggleable\"><input class=\"sk-toggleable__control sk-hidden--visually\" id=\"sk-estimator-id-8\" type=\"checkbox\" checked><label for=\"sk-estimator-id-8\" class=\"sk-toggleable__label sk-toggleable__label-arrow\">AdaBoostClassifier</label><div class=\"sk-toggleable__content\"><pre>AdaBoostClassifier()</pre></div></div></div></div></div>"
      ],
      "text/plain": [
       "AdaBoostClassifier()"
      ]
     },
     "execution_count": 59,
     "metadata": {},
     "output_type": "execute_result"
    }
   ],
   "source": [
    "# training the model with training data\n",
    "adaboost_classifier.fit(X_train, y_train)"
   ]
  },
  {
   "cell_type": "code",
   "execution_count": 60,
   "id": "baa18e35-a339-4794-be48-909c7819497b",
   "metadata": {
    "tags": []
   },
   "outputs": [
    {
     "data": {
      "text/plain": [
       "array([3, 2, 2, 4, 4, 4, 3, 2, 3, 4, 2, 2, 3, 4, 4, 4, 4, 3, 2, 2, 2, 4,\n",
       "       4, 3, 4, 2, 3, 2, 4, 3, 4, 3, 3, 2, 2, 3, 4, 2, 3, 2, 4, 2, 4, 4,\n",
       "       3, 2, 3, 2, 2, 2, 2, 3, 4, 3, 3, 3, 4, 3, 4, 4, 4, 3, 3, 4, 3, 4,\n",
       "       4, 4, 2, 3, 2, 4, 3, 3, 2, 4, 3, 2, 3, 3, 3, 2, 4, 2, 4, 3, 4, 3,\n",
       "       4, 2, 3, 3, 4, 4, 2, 3, 3, 4, 2, 3, 2, 2, 2, 4, 4, 4, 2, 4, 3, 3,\n",
       "       4, 3, 4, 4, 3, 3, 4, 4, 2, 2, 3, 2, 2, 3, 3, 4, 2, 2, 2, 4, 3, 2,\n",
       "       3, 3, 3, 4, 4, 3, 3, 4, 3, 4, 2, 2, 2, 4, 4, 2, 3, 3, 4, 4, 4, 3,\n",
       "       3, 2, 4, 2, 4, 3, 3, 3, 3, 4, 4, 2, 4, 4, 2, 4, 4, 4, 3, 3, 2, 4,\n",
       "       3, 2, 4, 3, 3, 3, 4, 3, 2, 3, 3, 2, 3, 2, 3, 3, 4, 3, 3, 2, 3, 3,\n",
       "       2, 2, 2, 4, 3, 4, 3, 3, 3, 2, 2, 3, 3, 3, 4, 3, 4, 2, 2, 2, 3, 4,\n",
       "       3, 3, 2, 3, 3, 3, 3, 2, 3, 4, 3, 2, 4, 3, 3, 4, 2, 4, 4, 3, 2, 3,\n",
       "       3, 2, 4, 3, 2, 4, 4, 2, 2, 3, 2, 3, 3, 3, 3, 2, 2, 4, 4, 3, 3, 3,\n",
       "       2, 2, 2, 2, 3, 2, 3, 4, 4, 4, 4, 4, 3, 2, 3, 2, 2, 2, 3, 3, 3, 4,\n",
       "       2, 3, 4, 4, 4, 2, 3, 3, 2, 2, 4, 3, 2, 3, 3, 4, 2, 2, 3, 4, 3, 3,\n",
       "       3, 3, 4, 4, 4, 3, 2, 2, 2, 3, 4, 2, 4, 3, 2, 2, 2, 4, 3, 4, 2, 3,\n",
       "       4, 2, 3, 2, 3, 2, 3, 3, 2, 4, 3, 4, 2, 4, 2, 3, 3, 2, 4, 3, 4, 4,\n",
       "       4, 4, 2, 2, 3, 2, 4, 4, 4, 3, 2, 2, 4, 4, 3, 4, 4, 3, 2, 3, 2, 3,\n",
       "       4, 3, 3, 2, 2, 3, 4, 4, 2, 2, 3, 4, 4, 3, 3, 3, 2, 2, 4, 4, 3, 3,\n",
       "       3, 2, 3, 2, 4, 3, 4, 4, 2, 4, 4, 3, 4, 3, 4, 2, 2, 4, 3, 3, 2, 2,\n",
       "       4, 3, 4, 3, 4, 4, 3, 4, 3, 3, 4, 2, 4, 3, 2, 3, 3, 2, 2, 2, 3, 2,\n",
       "       2, 2, 4, 4, 2, 2, 3, 3, 3, 4, 2, 4, 2, 4, 2, 3, 2, 2, 2, 4, 3, 2,\n",
       "       4, 2, 4, 4, 4, 4, 2, 2, 3, 2, 4, 2, 2, 4, 2, 3, 3, 2, 3, 2, 3, 3,\n",
       "       3, 4, 3, 3, 3, 2, 3, 2, 3, 4, 3, 2, 3, 2, 4, 4, 3, 2, 4, 3, 4, 3,\n",
       "       2, 4, 2, 4, 2, 3, 4, 2, 4, 4, 4, 4, 3, 3, 4, 3, 4, 2, 4],\n",
       "      dtype=int64)"
      ]
     },
     "execution_count": 60,
     "metadata": {},
     "output_type": "execute_result"
    }
   ],
   "source": [
    "# predicting the model with testing data\n",
    "adaboost_classifier_prediction = adaboost_classifier.predict(X_test)\n",
    "adaboost_classifier_prediction"
   ]
  },
  {
   "cell_type": "markdown",
   "id": "42c04657-7132-4969-9268-22012095dba5",
   "metadata": {},
   "source": [
    "### Model Evaluation"
   ]
  },
  {
   "cell_type": "code",
   "execution_count": 61,
   "id": "55ce85d8-a4ae-418b-b415-a3baefb9033f",
   "metadata": {
    "tags": []
   },
   "outputs": [
    {
     "data": {
      "text/plain": [
       "0.8057142857142857"
      ]
     },
     "execution_count": 61,
     "metadata": {},
     "output_type": "execute_result"
    }
   ],
   "source": [
    "# importing the necessary library for model evaluation \n",
    "from sklearn.metrics import accuracy_score, classification_report, confusion_matrix\n",
    "\n",
    "# check for the accuracy of the model \n",
    "adaboost_classifier_acc_score = accuracy_score(y_test, adaboost_classifier_prediction)\n",
    "adaboost_classifier_acc_score"
   ]
  },
  {
   "cell_type": "code",
   "execution_count": 62,
   "id": "79e197b4-e8d4-4413-beae-27677c526a9d",
   "metadata": {
    "tags": []
   },
   "outputs": [
    {
     "data": {
      "text/plain": [
       "0.8245112064854554"
      ]
     },
     "execution_count": 62,
     "metadata": {},
     "output_type": "execute_result"
    }
   ],
   "source": [
    "# check for the training score of the model \n",
    "adaboost_classifier_training_score = adaboost_classifier.score(X_train, y_train)\n",
    "adaboost_classifier_training_score"
   ]
  },
  {
   "cell_type": "code",
   "execution_count": 63,
   "id": "bc608dfa-b589-4a53-8608-b8fe993930be",
   "metadata": {
    "tags": []
   },
   "outputs": [
    {
     "data": {
      "text/plain": [
       "<sklearn.metrics._plot.confusion_matrix.ConfusionMatrixDisplay at 0x1b0dcd43dc0>"
      ]
     },
     "execution_count": 63,
     "metadata": {},
     "output_type": "execute_result"
    },
    {
     "data": {
      "image/png": "[encoded data removed]",
      "text/plain": [
       "<Figure size 640x480 with 2 Axes>"
      ]
     },
     "metadata": {},
     "output_type": "display_data"
    }
   ],
   "source": [
    "# Importing the necessary library for the displaying the confusion matrix \n",
    "from sklearn.metrics import ConfusionMatrixDisplay\n",
    "adaboost_classifier_confusion_matrix = ConfusionMatrixDisplay.from_estimator(adaboost_classifier, X_test, y_test )\n",
    "adaboost_classifier_confusion_matrix"
   ]
  },
  {
   "cell_type": "code",
   "execution_count": 64,
   "id": "0a1f9f8c-799b-4b12-be92-7f0d7d5d2661",
   "metadata": {
    "tags": []
   },
   "outputs": [
    {
     "name": "stdout",
     "output_type": "stream",
     "text": [
      "              precision    recall  f1-score   support\n",
      "\n",
      "           2       0.86      0.80      0.83       174\n",
      "           3       0.72      0.76      0.74       184\n",
      "           4       0.86      0.87      0.86       167\n",
      "\n",
      "    accuracy                           0.81       525\n",
      "   macro avg       0.81      0.81      0.81       525\n",
      "weighted avg       0.81      0.81      0.81       525\n",
      "\n"
     ]
    }
   ],
   "source": [
    "# displaying the classification report of the model \n",
    "print(classification_report(y_test, adaboost_classifier_prediction))"
   ]
  },
  {
   "cell_type": "markdown",
   "id": "a11021f8-e9ba-4137-abc3-89df5dd78b7f",
   "metadata": {},
   "source": [
    "# <span style=\"background-color: #D32D41; padding: 5px;\">9. Gradient Descent Classification"
   ]
  },
  {
   "cell_type": "code",
   "execution_count": 65,
   "id": "806024fa-dc7e-403a-8382-be7ba8f691d9",
   "metadata": {
    "tags": []
   },
   "outputs": [],
   "source": [
    "# Importing the necessary library\n",
    "from sklearn.ensemble import GradientBoostingClassifier\n",
    "\n",
    "# saving the model to the object varibale\n",
    "grad_des_classifier = GradientBoostingClassifier()"
   ]
  },
  {
   "cell_type": "code",
   "execution_count": 66,
   "id": "9b543119-a037-456a-80d3-4c4a7ccac4df",
   "metadata": {
    "tags": []
   },
   "outputs": [
    {
     "data": {
      "text/html": [
       "<style>#sk-container-id-9 {color: black;}#sk-container-id-9 pre{padding: 0;}#sk-container-id-9 div.sk-toggleable {background-color: white;}#sk-container-id-9 label.sk-toggleable__label {cursor: pointer;display: block;width: 100%;margin-bottom: 0;padding: 0.3em;box-sizing: border-box;text-align: center;}#sk-container-id-9 label.sk-toggleable__label-arrow:before {content: \"▸\";float: left;margin-right: 0.25em;color: #696969;}#sk-container-id-9 label.sk-toggleable__label-arrow:hover:before {color: black;}#sk-container-id-9 div.sk-estimator:hover label.sk-toggleable__label-arrow:before {color: black;}#sk-container-id-9 div.sk-toggleable__content {max-height: 0;max-width: 0;overflow: hidden;text-align: left;background-color: #f0f8ff;}#sk-container-id-9 div.sk-toggleable__content pre {margin: 0.2em;color: black;border-radius: 0.25em;background-color: #f0f8ff;}#sk-container-id-9 input.sk-toggleable__control:checked~div.sk-toggleable__content {max-height: 200px;max-width: 100%;overflow: auto;}#sk-container-id-9 input.sk-toggleable__control:checked~label.sk-toggleable__label-arrow:before {content: \"▾\";}#sk-container-id-9 div.sk-estimator input.sk-toggleable__control:checked~label.sk-toggleable__label {background-color: #d4ebff;}#sk-container-id-9 div.sk-label input.sk-toggleable__control:checked~label.sk-toggleable__label {background-color: #d4ebff;}#sk-container-id-9 input.sk-hidden--visually {border: 0;clip: rect(1px 1px 1px 1px);clip: rect(1px, 1px, 1px, 1px);height: 1px;margin: -1px;overflow: hidden;padding: 0;position: absolute;width: 1px;}#sk-container-id-9 div.sk-estimator {font-family: monospace;background-color: #f0f8ff;border: 1px dotted black;border-radius: 0.25em;box-sizing: border-box;margin-bottom: 0.5em;}#sk-container-id-9 div.sk-estimator:hover {background-color: #d4ebff;}#sk-container-id-9 div.sk-parallel-item::after {content: \"\";width: 100%;border-bottom: 1px solid gray;flex-grow: 1;}#sk-container-id-9 div.sk-label:hover label.sk-toggleable__label {background-color: #d4ebff;}#sk-container-id-9 div.sk-serial::before {content: \"\";position: absolute;border-left: 1px solid gray;box-sizing: border-box;top: 0;bottom: 0;left: 50%;z-index: 0;}#sk-container-id-9 div.sk-serial {display: flex;flex-direction: column;align-items: center;background-color: white;padding-right: 0.2em;padding-left: 0.2em;position: relative;}#sk-container-id-9 div.sk-item {position: relative;z-index: 1;}#sk-container-id-9 div.sk-parallel {display: flex;align-items: stretch;justify-content: center;background-color: white;position: relative;}#sk-container-id-9 div.sk-item::before, #sk-container-id-9 div.sk-parallel-item::before {content: \"\";position: absolute;border-left: 1px solid gray;box-sizing: border-box;top: 0;bottom: 0;left: 50%;z-index: -1;}#sk-container-id-9 div.sk-parallel-item {display: flex;flex-direction: column;z-index: 1;position: relative;background-color: white;}#sk-container-id-9 div.sk-parallel-item:first-child::after {align-self: flex-end;width: 50%;}#sk-container-id-9 div.sk-parallel-item:last-child::after {align-self: flex-start;width: 50%;}#sk-container-id-9 div.sk-parallel-item:only-child::after {width: 0;}#sk-container-id-9 div.sk-dashed-wrapped {border: 1px dashed gray;margin: 0 0.4em 0.5em 0.4em;box-sizing: border-box;padding-bottom: 0.4em;background-color: white;}#sk-container-id-9 div.sk-label label {font-family: monospace;font-weight: bold;display: inline-block;line-height: 1.2em;}#sk-container-id-9 div.sk-label-container {text-align: center;}#sk-container-id-9 div.sk-container {/* jupyter's `normalize.less` sets `[hidden] { display: none; }` but bootstrap.min.css set `[hidden] { display: none !important; }` so we also need the `!important` here to be able to override the default hidden behavior on the sphinx rendered scikit-learn.org. See: https://github.com/scikit-learn/scikit-learn/issues/21755 */display: inline-block !important;position: relative;}#sk-container-id-9 div.sk-text-repr-fallback {display: none;}</style><div id=\"sk-container-id-9\" class=\"sk-top-container\"><div class=\"sk-text-repr-fallback\"><pre>GradientBoostingClassifier()</pre><b>In a Jupyter environment, please rerun this cell to show the HTML representation or trust the notebook. <br />On GitHub, the HTML representation is unable to render, please try loading this page with nbviewer.org.</b></div><div class=\"sk-container\" hidden><div class=\"sk-item\"><div class=\"sk-estimator sk-toggleable\"><input class=\"sk-toggleable__control sk-hidden--visually\" id=\"sk-estimator-id-9\" type=\"checkbox\" checked><label for=\"sk-estimator-id-9\" class=\"sk-toggleable__label sk-toggleable__label-arrow\">GradientBoostingClassifier</label><div class=\"sk-toggleable__content\"><pre>GradientBoostingClassifier()</pre></div></div></div></div></div>"
      ],
      "text/plain": [
       "GradientBoostingClassifier()"
      ]
     },
     "execution_count": 66,
     "metadata": {},
     "output_type": "execute_result"
    }
   ],
   "source": [
    "# training our model with training data\n",
    "grad_des_classifier.fit(X_train, y_train)"
   ]
  },
  {
   "cell_type": "code",
   "execution_count": 67,
   "id": "0dff429f-f3c1-4024-98b7-8f709b22b76b",
   "metadata": {
    "tags": []
   },
   "outputs": [
    {
     "data": {
      "text/plain": [
       "array([3, 2, 2, 4, 4, 4, 2, 2, 3, 4, 2, 2, 4, 4, 4, 4, 4, 3, 2, 2, 2, 4,\n",
       "       4, 3, 4, 3, 3, 3, 4, 4, 4, 3, 3, 3, 2, 2, 4, 2, 3, 2, 4, 2, 4, 4,\n",
       "       4, 2, 3, 2, 2, 2, 2, 3, 4, 2, 3, 3, 4, 3, 4, 3, 4, 3, 3, 4, 3, 4,\n",
       "       4, 4, 3, 2, 2, 4, 2, 2, 2, 4, 3, 2, 3, 4, 3, 2, 4, 2, 3, 3, 4, 3,\n",
       "       4, 2, 3, 4, 2, 3, 2, 2, 3, 4, 2, 3, 2, 2, 2, 4, 4, 4, 2, 4, 2, 3,\n",
       "       4, 3, 4, 4, 3, 3, 4, 4, 2, 2, 4, 2, 2, 3, 2, 4, 2, 2, 2, 4, 2, 2,\n",
       "       2, 4, 2, 4, 4, 3, 3, 4, 3, 4, 3, 3, 2, 4, 4, 2, 2, 3, 4, 4, 4, 3,\n",
       "       2, 2, 4, 2, 4, 3, 3, 3, 4, 4, 2, 2, 4, 4, 2, 4, 4, 4, 2, 3, 2, 4,\n",
       "       3, 2, 4, 3, 3, 3, 4, 3, 2, 3, 3, 2, 2, 2, 3, 3, 4, 3, 2, 2, 3, 3,\n",
       "       3, 2, 2, 4, 4, 4, 3, 3, 2, 2, 2, 4, 3, 3, 4, 2, 4, 3, 2, 2, 2, 4,\n",
       "       3, 3, 2, 3, 3, 4, 3, 2, 3, 4, 3, 2, 4, 2, 3, 4, 2, 4, 4, 2, 2, 3,\n",
       "       2, 2, 4, 3, 2, 4, 4, 3, 3, 4, 2, 4, 3, 2, 3, 2, 2, 4, 3, 4, 3, 3,\n",
       "       2, 2, 2, 2, 3, 2, 3, 4, 4, 4, 4, 4, 4, 2, 2, 2, 2, 2, 3, 4, 3, 4,\n",
       "       3, 3, 4, 4, 3, 2, 3, 3, 2, 2, 4, 3, 2, 3, 3, 4, 2, 2, 3, 4, 3, 3,\n",
       "       4, 3, 4, 4, 4, 3, 2, 2, 3, 4, 4, 2, 4, 3, 2, 2, 2, 3, 3, 4, 2, 3,\n",
       "       4, 2, 2, 2, 2, 3, 3, 3, 2, 4, 3, 4, 2, 4, 2, 3, 3, 2, 4, 3, 4, 4,\n",
       "       3, 3, 2, 2, 3, 2, 4, 4, 4, 3, 2, 2, 4, 4, 2, 4, 4, 3, 2, 3, 2, 3,\n",
       "       4, 2, 4, 2, 2, 3, 4, 4, 4, 2, 3, 4, 4, 3, 2, 3, 2, 2, 4, 4, 4, 3,\n",
       "       3, 2, 3, 2, 4, 3, 4, 4, 2, 4, 4, 3, 4, 4, 4, 2, 2, 4, 2, 3, 2, 2,\n",
       "       4, 3, 4, 3, 3, 4, 3, 4, 3, 3, 4, 2, 4, 3, 2, 3, 4, 2, 2, 2, 3, 2,\n",
       "       3, 3, 4, 4, 2, 3, 3, 3, 3, 4, 2, 4, 2, 4, 2, 3, 2, 2, 3, 4, 3, 2,\n",
       "       4, 2, 4, 4, 4, 4, 2, 2, 3, 2, 4, 2, 2, 4, 2, 2, 3, 2, 3, 2, 3, 2,\n",
       "       3, 4, 2, 3, 3, 2, 3, 2, 3, 4, 2, 2, 3, 2, 4, 4, 3, 2, 4, 3, 4, 3,\n",
       "       2, 4, 2, 4, 2, 4, 4, 4, 4, 4, 4, 4, 2, 2, 2, 3, 4, 2, 4],\n",
       "      dtype=int64)"
      ]
     },
     "execution_count": 67,
     "metadata": {},
     "output_type": "execute_result"
    }
   ],
   "source": [
    "# prediciting our model with our testing data\n",
    "grad_des_classifier_prediction = grad_des_classifier.predict(X_test)\n",
    "grad_des_classifier_prediction"
   ]
  },
  {
   "cell_type": "markdown",
   "id": "a170abaf-c8f8-42df-992e-bab2c673be35",
   "metadata": {},
   "source": [
    "### Model Evalution"
   ]
  },
  {
   "cell_type": "code",
   "execution_count": 68,
   "id": "d7f617f2-3ff8-4afd-aebb-54f58e48cf2c",
   "metadata": {
    "tags": []
   },
   "outputs": [
    {
     "data": {
      "text/plain": [
       "0.9123809523809524"
      ]
     },
     "execution_count": 68,
     "metadata": {},
     "output_type": "execute_result"
    }
   ],
   "source": [
    "# importing the necessary library for model evaluation\n",
    "from sklearn.metrics import accuracy_score, classification_report\n",
    "\n",
    "# checking for the model accuracy score \n",
    "grad_des_classifier_acc_score = accuracy_score(y_test, grad_des_classifier_prediction)\n",
    "grad_des_classifier_acc_score"
   ]
  },
  {
   "cell_type": "code",
   "execution_count": 69,
   "id": "5fc41aeb-dc48-4f70-9f39-5201496ff1c0",
   "metadata": {
    "tags": []
   },
   "outputs": [
    {
     "data": {
      "text/plain": [
       "0.9871244635193133"
      ]
     },
     "execution_count": 69,
     "metadata": {},
     "output_type": "execute_result"
    }
   ],
   "source": [
    "# checking for the model training score \n",
    "grad_des_classifier_training_score = grad_des_classifier.score(X_train, y_train)\n",
    "grad_des_classifier_training_score"
   ]
  },
  {
   "cell_type": "code",
   "execution_count": 70,
   "id": "ecaf9479-e4e1-465f-a9ef-977f9bc20b75",
   "metadata": {
    "tags": []
   },
   "outputs": [
    {
     "data": {
      "text/plain": [
       "<sklearn.metrics._plot.confusion_matrix.ConfusionMatrixDisplay at 0x1b0e02ec790>"
      ]
     },
     "execution_count": 70,
     "metadata": {},
     "output_type": "execute_result"
    },
    {
     "data": {
      "image/png": "[encoded data removed]",
      "text/plain": [
       "<Figure size 640x480 with 2 Axes>"
      ]
     },
     "metadata": {},
     "output_type": "display_data"
    }
   ],
   "source": [
    "# importing the necessary library for displaying the confusion matrix\n",
    "from sklearn.metrics import ConfusionMatrixDisplay\n",
    "grad_des_classifier_confusion_matrix = ConfusionMatrixDisplay.from_estimator(grad_des_classifier, X_test, y_test)\n",
    "grad_des_classifier_confusion_matrix"
   ]
  },
  {
   "cell_type": "code",
   "execution_count": 71,
   "id": "5f5acc86-fe98-430b-a3a4-c9632eee809a",
   "metadata": {
    "tags": []
   },
   "outputs": [
    {
     "name": "stdout",
     "output_type": "stream",
     "text": [
      "              precision    recall  f1-score   support\n",
      "\n",
      "           2       0.91      0.96      0.94       174\n",
      "           3       0.94      0.82      0.87       184\n",
      "           4       0.89      0.97      0.93       167\n",
      "\n",
      "    accuracy                           0.91       525\n",
      "   macro avg       0.91      0.92      0.91       525\n",
      "weighted avg       0.91      0.91      0.91       525\n",
      "\n"
     ]
    }
   ],
   "source": [
    "# displaying the classification report of the model\n",
    "print(classification_report(y_test, grad_des_classifier_prediction))"
   ]
  },
  {
   "cell_type": "markdown",
   "id": "7c5955ac-eacf-4428-b29e-576f62994579",
   "metadata": {},
   "source": [
    "# <span style=\"background-color: #D32D41; padding: 5px;\">10. Stochastic Gradient Descent Classifier"
   ]
  },
  {
   "cell_type": "code",
   "execution_count": 72,
   "id": "7784df65-69f2-40a7-b453-fd9fc2c4dfef",
   "metadata": {
    "tags": []
   },
   "outputs": [],
   "source": [
    "# Importing the necessary library\n",
    "from sklearn.linear_model import SGDClassifier\n",
    "\n",
    "# saving the model in object variable\n",
    "sgd_classifier = SGDClassifier()"
   ]
  },
  {
   "cell_type": "code",
   "execution_count": 73,
   "id": "a114d9b5-087c-4f95-8f5a-900a722fcda9",
   "metadata": {
    "tags": []
   },
   "outputs": [
    {
     "data": {
      "text/html": [
       "<style>#sk-container-id-10 {color: black;}#sk-container-id-10 pre{padding: 0;}#sk-container-id-10 div.sk-toggleable {background-color: white;}#sk-container-id-10 label.sk-toggleable__label {cursor: pointer;display: block;width: 100%;margin-bottom: 0;padding: 0.3em;box-sizing: border-box;text-align: center;}#sk-container-id-10 label.sk-toggleable__label-arrow:before {content: \"▸\";float: left;margin-right: 0.25em;color: #696969;}#sk-container-id-10 label.sk-toggleable__label-arrow:hover:before {color: black;}#sk-container-id-10 div.sk-estimator:hover label.sk-toggleable__label-arrow:before {color: black;}#sk-container-id-10 div.sk-toggleable__content {max-height: 0;max-width: 0;overflow: hidden;text-align: left;background-color: #f0f8ff;}#sk-container-id-10 div.sk-toggleable__content pre {margin: 0.2em;color: black;border-radius: 0.25em;background-color: #f0f8ff;}#sk-container-id-10 input.sk-toggleable__control:checked~div.sk-toggleable__content {max-height: 200px;max-width: 100%;overflow: auto;}#sk-container-id-10 input.sk-toggleable__control:checked~label.sk-toggleable__label-arrow:before {content: \"▾\";}#sk-container-id-10 div.sk-estimator input.sk-toggleable__control:checked~label.sk-toggleable__label {background-color: #d4ebff;}#sk-container-id-10 div.sk-label input.sk-toggleable__control:checked~label.sk-toggleable__label {background-color: #d4ebff;}#sk-container-id-10 input.sk-hidden--visually {border: 0;clip: rect(1px 1px 1px 1px);clip: rect(1px, 1px, 1px, 1px);height: 1px;margin: -1px;overflow: hidden;padding: 0;position: absolute;width: 1px;}#sk-container-id-10 div.sk-estimator {font-family: monospace;background-color: #f0f8ff;border: 1px dotted black;border-radius: 0.25em;box-sizing: border-box;margin-bottom: 0.5em;}#sk-container-id-10 div.sk-estimator:hover {background-color: #d4ebff;}#sk-container-id-10 div.sk-parallel-item::after {content: \"\";width: 100%;border-bottom: 1px solid gray;flex-grow: 1;}#sk-container-id-10 div.sk-label:hover label.sk-toggleable__label {background-color: #d4ebff;}#sk-container-id-10 div.sk-serial::before {content: \"\";position: absolute;border-left: 1px solid gray;box-sizing: border-box;top: 0;bottom: 0;left: 50%;z-index: 0;}#sk-container-id-10 div.sk-serial {display: flex;flex-direction: column;align-items: center;background-color: white;padding-right: 0.2em;padding-left: 0.2em;position: relative;}#sk-container-id-10 div.sk-item {position: relative;z-index: 1;}#sk-container-id-10 div.sk-parallel {display: flex;align-items: stretch;justify-content: center;background-color: white;position: relative;}#sk-container-id-10 div.sk-item::before, #sk-container-id-10 div.sk-parallel-item::before {content: \"\";position: absolute;border-left: 1px solid gray;box-sizing: border-box;top: 0;bottom: 0;left: 50%;z-index: -1;}#sk-container-id-10 div.sk-parallel-item {display: flex;flex-direction: column;z-index: 1;position: relative;background-color: white;}#sk-container-id-10 div.sk-parallel-item:first-child::after {align-self: flex-end;width: 50%;}#sk-container-id-10 div.sk-parallel-item:last-child::after {align-self: flex-start;width: 50%;}#sk-container-id-10 div.sk-parallel-item:only-child::after {width: 0;}#sk-container-id-10 div.sk-dashed-wrapped {border: 1px dashed gray;margin: 0 0.4em 0.5em 0.4em;box-sizing: border-box;padding-bottom: 0.4em;background-color: white;}#sk-container-id-10 div.sk-label label {font-family: monospace;font-weight: bold;display: inline-block;line-height: 1.2em;}#sk-container-id-10 div.sk-label-container {text-align: center;}#sk-container-id-10 div.sk-container {/* jupyter's `normalize.less` sets `[hidden] { display: none; }` but bootstrap.min.css set `[hidden] { display: none !important; }` so we also need the `!important` here to be able to override the default hidden behavior on the sphinx rendered scikit-learn.org. See: https://github.com/scikit-learn/scikit-learn/issues/21755 */display: inline-block !important;position: relative;}#sk-container-id-10 div.sk-text-repr-fallback {display: none;}</style><div id=\"sk-container-id-10\" class=\"sk-top-container\"><div class=\"sk-text-repr-fallback\"><pre>SGDClassifier()</pre><b>In a Jupyter environment, please rerun this cell to show the HTML representation or trust the notebook. <br />On GitHub, the HTML representation is unable to render, please try loading this page with nbviewer.org.</b></div><div class=\"sk-container\" hidden><div class=\"sk-item\"><div class=\"sk-estimator sk-toggleable\"><input class=\"sk-toggleable__control sk-hidden--visually\" id=\"sk-estimator-id-10\" type=\"checkbox\" checked><label for=\"sk-estimator-id-10\" class=\"sk-toggleable__label sk-toggleable__label-arrow\">SGDClassifier</label><div class=\"sk-toggleable__content\"><pre>SGDClassifier()</pre></div></div></div></div></div>"
      ],
      "text/plain": [
       "SGDClassifier()"
      ]
     },
     "execution_count": 73,
     "metadata": {},
     "output_type": "execute_result"
    }
   ],
   "source": [
    "# training the model with training data\n",
    "sgd_classifier.fit(X_train, y_train)"
   ]
  },
  {
   "cell_type": "code",
   "execution_count": 74,
   "id": "73bf712a-3fee-4bae-b1d9-e3a7d7283ddb",
   "metadata": {
    "tags": []
   },
   "outputs": [
    {
     "data": {
      "text/plain": [
       "array([4, 3, 2, 4, 3, 4, 2, 2, 3, 4, 2, 2, 4, 4, 4, 4, 4, 3, 3, 2, 2, 3,\n",
       "       4, 3, 4, 2, 3, 2, 4, 4, 4, 4, 3, 3, 2, 3, 4, 2, 3, 2, 4, 2, 4, 4,\n",
       "       4, 2, 4, 2, 2, 2, 2, 2, 4, 3, 3, 3, 4, 3, 4, 3, 4, 3, 3, 4, 3, 4,\n",
       "       4, 4, 3, 2, 2, 4, 2, 4, 3, 4, 3, 2, 3, 4, 3, 2, 4, 2, 4, 3, 4, 3,\n",
       "       4, 2, 3, 4, 4, 4, 2, 2, 3, 4, 2, 3, 2, 2, 2, 4, 4, 4, 2, 4, 3, 2,\n",
       "       4, 3, 4, 4, 3, 2, 4, 4, 2, 2, 4, 2, 3, 3, 2, 4, 2, 2, 2, 4, 3, 2,\n",
       "       2, 3, 2, 4, 4, 4, 3, 4, 3, 4, 2, 2, 2, 4, 3, 3, 2, 3, 4, 3, 2, 3,\n",
       "       2, 2, 4, 2, 4, 3, 3, 3, 2, 4, 2, 2, 4, 4, 2, 4, 4, 4, 2, 3, 2, 2,\n",
       "       3, 2, 4, 3, 3, 3, 4, 3, 2, 4, 3, 2, 2, 2, 3, 3, 4, 3, 2, 2, 3, 2,\n",
       "       2, 2, 2, 4, 3, 4, 3, 3, 2, 2, 2, 3, 3, 3, 4, 2, 4, 2, 2, 2, 3, 4,\n",
       "       3, 2, 2, 3, 3, 2, 3, 3, 3, 4, 3, 2, 4, 2, 3, 4, 2, 4, 4, 3, 2, 3,\n",
       "       3, 2, 4, 3, 2, 4, 4, 3, 3, 3, 2, 3, 3, 2, 3, 2, 2, 4, 3, 2, 3, 3,\n",
       "       2, 2, 2, 2, 3, 2, 3, 2, 4, 4, 4, 4, 4, 2, 2, 2, 2, 2, 3, 4, 3, 4,\n",
       "       2, 3, 4, 4, 4, 2, 3, 3, 2, 2, 4, 3, 2, 3, 3, 4, 2, 2, 4, 4, 3, 3,\n",
       "       4, 3, 4, 4, 4, 3, 2, 2, 3, 3, 4, 2, 4, 3, 2, 2, 2, 4, 4, 4, 2, 3,\n",
       "       4, 2, 2, 2, 2, 4, 3, 3, 3, 4, 3, 4, 2, 4, 2, 2, 3, 2, 4, 3, 4, 4,\n",
       "       3, 4, 2, 2, 3, 2, 4, 4, 4, 3, 2, 2, 4, 3, 2, 4, 4, 3, 2, 3, 2, 3,\n",
       "       4, 2, 2, 2, 2, 3, 4, 4, 2, 2, 3, 4, 4, 2, 2, 3, 2, 2, 4, 4, 3, 3,\n",
       "       3, 2, 2, 2, 4, 3, 3, 3, 2, 4, 4, 3, 4, 4, 4, 2, 2, 4, 3, 3, 2, 2,\n",
       "       4, 3, 4, 3, 3, 4, 3, 4, 3, 3, 4, 2, 3, 3, 2, 4, 4, 2, 2, 2, 3, 2,\n",
       "       3, 2, 4, 4, 2, 3, 2, 2, 3, 4, 3, 3, 2, 4, 2, 3, 2, 2, 3, 4, 3, 2,\n",
       "       4, 2, 4, 4, 4, 4, 2, 3, 3, 2, 4, 2, 2, 4, 2, 3, 3, 2, 3, 2, 4, 2,\n",
       "       3, 4, 3, 3, 3, 2, 3, 2, 3, 4, 3, 2, 3, 3, 4, 4, 3, 2, 4, 3, 4, 3,\n",
       "       2, 4, 2, 4, 2, 4, 4, 4, 4, 4, 4, 4, 3, 2, 4, 4, 4, 2, 4],\n",
       "      dtype=int64)"
      ]
     },
     "execution_count": 74,
     "metadata": {},
     "output_type": "execute_result"
    }
   ],
   "source": [
    "# predicting the model with testing data \n",
    "sgd_classifier_prediction = sgd_classifier.predict(X_test)\n",
    "sgd_classifier_prediction"
   ]
  },
  {
   "cell_type": "markdown",
   "id": "ae07633b-1883-44ff-922b-f56ec619853d",
   "metadata": {},
   "source": [
    "### Model Evaluation"
   ]
  },
  {
   "cell_type": "code",
   "execution_count": 75,
   "id": "d5eda95c-be29-4959-a0b2-79a55563641d",
   "metadata": {
    "tags": []
   },
   "outputs": [
    {
     "data": {
      "text/plain": [
       "0.8114285714285714"
      ]
     },
     "execution_count": 75,
     "metadata": {},
     "output_type": "execute_result"
    }
   ],
   "source": [
    "# importing the necessary library for model accauracy \n",
    "from sklearn.metrics import accuracy_score, classification_report\n",
    "\n",
    "# checking the model accuracy score\n",
    "sgd_classifier_acc_score = accuracy_score(y_test, sgd_classifier_prediction)\n",
    "sgd_classifier_acc_score"
   ]
  },
  {
   "cell_type": "code",
   "execution_count": 76,
   "id": "752e9c5c-1f3f-4559-b22b-a3f32b53e958",
   "metadata": {
    "tags": []
   },
   "outputs": [
    {
     "data": {
      "text/plain": [
       "0.8001907486886027"
      ]
     },
     "execution_count": 76,
     "metadata": {},
     "output_type": "execute_result"
    }
   ],
   "source": [
    "# check for the training score of model \n",
    "sgd_classifier_training_score = sgd_classifier.score(X_train, y_train)\n",
    "sgd_classifier_training_score"
   ]
  },
  {
   "cell_type": "code",
   "execution_count": 77,
   "id": "e3466509-0c66-4cf5-a990-5c35e764043c",
   "metadata": {
    "tags": []
   },
   "outputs": [
    {
     "data": {
      "text/plain": [
       "<sklearn.metrics._plot.confusion_matrix.ConfusionMatrixDisplay at 0x1b0e03c14e0>"
      ]
     },
     "execution_count": 77,
     "metadata": {},
     "output_type": "execute_result"
    },
    {
     "data": {
      "image/png": "[encoded data removed]",
      "text/plain": [
       "<Figure size 640x480 with 2 Axes>"
      ]
     },
     "metadata": {},
     "output_type": "display_data"
    }
   ],
   "source": [
    "# importing the necessary library for diplaying the confusion matrix \n",
    "from sklearn.metrics import ConfusionMatrixDisplay\n",
    "sgd_classifier_confusion_matrix = ConfusionMatrixDisplay.from_estimator(sgd_classifier, X_test, y_test)\n",
    "sgd_classifier_confusion_matrix"
   ]
  },
  {
   "cell_type": "code",
   "execution_count": 78,
   "id": "690093e2-6248-4185-8697-7a46f492d1e4",
   "metadata": {
    "tags": []
   },
   "outputs": [
    {
     "name": "stdout",
     "output_type": "stream",
     "text": [
      "              precision    recall  f1-score   support\n",
      "\n",
      "           2       0.82      0.86      0.84       174\n",
      "           3       0.79      0.71      0.75       184\n",
      "           4       0.82      0.87      0.85       167\n",
      "\n",
      "    accuracy                           0.81       525\n",
      "   macro avg       0.81      0.81      0.81       525\n",
      "weighted avg       0.81      0.81      0.81       525\n",
      "\n"
     ]
    }
   ],
   "source": [
    "# dispalying the classification report of the model \n",
    "print(classification_report(y_test, sgd_classifier_prediction))"
   ]
  },
  {
   "cell_type": "markdown",
   "id": "0ffdfc63-434c-4f40-9b90-db5bacd54f9d",
   "metadata": {},
   "source": [
    "# <span style=\"background-color: #D32D41; padding: 5px;\">11. XGBOOST Classifier"
   ]
  },
  {
   "cell_type": "code",
   "execution_count": 79,
   "id": "c448e1af-fe2e-4bf7-ae30-b8664a4af1be",
   "metadata": {
    "tags": []
   },
   "outputs": [],
   "source": [
    "# Importing the necessary library\n",
    "from xgboost import XGBClassifier\n",
    "\n",
    "# saving the model in object variable\n",
    "xgb_classifier = XGBClassifier()"
   ]
  },
  {
   "cell_type": "code",
   "execution_count": 80,
   "id": "14a22d43-15dd-4aa8-9673-18ec99a7a136",
   "metadata": {
    "tags": []
   },
   "outputs": [],
   "source": [
    "from sklearn.preprocessing import LabelEncoder\n",
    "encoder = LabelEncoder()\n",
    "y_labeled = pd.DataFrame(encoder.fit_transform(y_sm))"
   ]
  },
  {
   "cell_type": "code",
   "execution_count": 81,
   "id": "6ee653a9-5a82-4529-8b7e-0bcf2f47880b",
   "metadata": {
    "tags": []
   },
   "outputs": [
    {
     "data": {
      "text/plain": [
       "0    874\n",
       "1    874\n",
       "2    874\n",
       "Name: count, dtype: int64"
      ]
     },
     "execution_count": 81,
     "metadata": {},
     "output_type": "execute_result"
    }
   ],
   "source": [
    "y_labeled.value_counts()"
   ]
  },
  {
   "cell_type": "code",
   "execution_count": 82,
   "id": "e471b782-c6c6-4cff-8f55-a1729adab272",
   "metadata": {
    "tags": []
   },
   "outputs": [],
   "source": [
    "# importing train test split for traning and testing the data\n",
    "from sklearn.model_selection import train_test_split\n",
    "X_train_xgb, X_test_xgb, y_train_xgb, y_test_xgb = train_test_split(X_sm, y_labeled, test_size=0.2,random_state=56)"
   ]
  },
  {
   "cell_type": "code",
   "execution_count": 83,
   "id": "307af038-0110-4814-ace0-a2f4b5d73014",
   "metadata": {
    "tags": []
   },
   "outputs": [
    {
     "data": {
      "text/html": [
       "<style>#sk-container-id-11 {color: black;}#sk-container-id-11 pre{padding: 0;}#sk-container-id-11 div.sk-toggleable {background-color: white;}#sk-container-id-11 label.sk-toggleable__label {cursor: pointer;display: block;width: 100%;margin-bottom: 0;padding: 0.3em;box-sizing: border-box;text-align: center;}#sk-container-id-11 label.sk-toggleable__label-arrow:before {content: \"▸\";float: left;margin-right: 0.25em;color: #696969;}#sk-container-id-11 label.sk-toggleable__label-arrow:hover:before {color: black;}#sk-container-id-11 div.sk-estimator:hover label.sk-toggleable__label-arrow:before {color: black;}#sk-container-id-11 div.sk-toggleable__content {max-height: 0;max-width: 0;overflow: hidden;text-align: left;background-color: #f0f8ff;}#sk-container-id-11 div.sk-toggleable__content pre {margin: 0.2em;color: black;border-radius: 0.25em;background-color: #f0f8ff;}#sk-container-id-11 input.sk-toggleable__control:checked~div.sk-toggleable__content {max-height: 200px;max-width: 100%;overflow: auto;}#sk-container-id-11 input.sk-toggleable__control:checked~label.sk-toggleable__label-arrow:before {content: \"▾\";}#sk-container-id-11 div.sk-estimator input.sk-toggleable__control:checked~label.sk-toggleable__label {background-color: #d4ebff;}#sk-container-id-11 div.sk-label input.sk-toggleable__control:checked~label.sk-toggleable__label {background-color: #d4ebff;}#sk-container-id-11 input.sk-hidden--visually {border: 0;clip: rect(1px 1px 1px 1px);clip: rect(1px, 1px, 1px, 1px);height: 1px;margin: -1px;overflow: hidden;padding: 0;position: absolute;width: 1px;}#sk-container-id-11 div.sk-estimator {font-family: monospace;background-color: #f0f8ff;border: 1px dotted black;border-radius: 0.25em;box-sizing: border-box;margin-bottom: 0.5em;}#sk-container-id-11 div.sk-estimator:hover {background-color: #d4ebff;}#sk-container-id-11 div.sk-parallel-item::after {content: \"\";width: 100%;border-bottom: 1px solid gray;flex-grow: 1;}#sk-container-id-11 div.sk-label:hover label.sk-toggleable__label {background-color: #d4ebff;}#sk-container-id-11 div.sk-serial::before {content: \"\";position: absolute;border-left: 1px solid gray;box-sizing: border-box;top: 0;bottom: 0;left: 50%;z-index: 0;}#sk-container-id-11 div.sk-serial {display: flex;flex-direction: column;align-items: center;background-color: white;padding-right: 0.2em;padding-left: 0.2em;position: relative;}#sk-container-id-11 div.sk-item {position: relative;z-index: 1;}#sk-container-id-11 div.sk-parallel {display: flex;align-items: stretch;justify-content: center;background-color: white;position: relative;}#sk-container-id-11 div.sk-item::before, #sk-container-id-11 div.sk-parallel-item::before {content: \"\";position: absolute;border-left: 1px solid gray;box-sizing: border-box;top: 0;bottom: 0;left: 50%;z-index: -1;}#sk-container-id-11 div.sk-parallel-item {display: flex;flex-direction: column;z-index: 1;position: relative;background-color: white;}#sk-container-id-11 div.sk-parallel-item:first-child::after {align-self: flex-end;width: 50%;}#sk-container-id-11 div.sk-parallel-item:last-child::after {align-self: flex-start;width: 50%;}#sk-container-id-11 div.sk-parallel-item:only-child::after {width: 0;}#sk-container-id-11 div.sk-dashed-wrapped {border: 1px dashed gray;margin: 0 0.4em 0.5em 0.4em;box-sizing: border-box;padding-bottom: 0.4em;background-color: white;}#sk-container-id-11 div.sk-label label {font-family: monospace;font-weight: bold;display: inline-block;line-height: 1.2em;}#sk-container-id-11 div.sk-label-container {text-align: center;}#sk-container-id-11 div.sk-container {/* jupyter's `normalize.less` sets `[hidden] { display: none; }` but bootstrap.min.css set `[hidden] { display: none !important; }` so we also need the `!important` here to be able to override the default hidden behavior on the sphinx rendered scikit-learn.org. See: https://github.com/scikit-learn/scikit-learn/issues/21755 */display: inline-block !important;position: relative;}#sk-container-id-11 div.sk-text-repr-fallback {display: none;}</style><div id=\"sk-container-id-11\" class=\"sk-top-container\"><div class=\"sk-text-repr-fallback\"><pre>XGBClassifier(base_score=None, booster=None, callbacks=None,\n",
       "              colsample_bylevel=None, colsample_bynode=None,\n",
       "              colsample_bytree=None, early_stopping_rounds=None,\n",
       "              enable_categorical=False, eval_metric=None, feature_types=None,\n",
       "              gamma=None, gpu_id=None, grow_policy=None, importance_type=None,\n",
       "              interaction_constraints=None, learning_rate=None, max_bin=None,\n",
       "              max_cat_threshold=None, max_cat_to_onehot=None,\n",
       "              max_delta_step=None, max_depth=None, max_leaves=None,\n",
       "              min_child_weight=None, missing=nan, monotone_constraints=None,\n",
       "              n_estimators=100, n_jobs=None, num_parallel_tree=None,\n",
       "              objective=&#x27;multi:softprob&#x27;, predictor=None, ...)</pre><b>In a Jupyter environment, please rerun this cell to show the HTML representation or trust the notebook. <br />On GitHub, the HTML representation is unable to render, please try loading this page with nbviewer.org.</b></div><div class=\"sk-container\" hidden><div class=\"sk-item\"><div class=\"sk-estimator sk-toggleable\"><input class=\"sk-toggleable__control sk-hidden--visually\" id=\"sk-estimator-id-11\" type=\"checkbox\" checked><label for=\"sk-estimator-id-11\" class=\"sk-toggleable__label sk-toggleable__label-arrow\">XGBClassifier</label><div class=\"sk-toggleable__content\"><pre>XGBClassifier(base_score=None, booster=None, callbacks=None,\n",
       "              colsample_bylevel=None, colsample_bynode=None,\n",
       "              colsample_bytree=None, early_stopping_rounds=None,\n",
       "              enable_categorical=False, eval_metric=None, feature_types=None,\n",
       "              gamma=None, gpu_id=None, grow_policy=None, importance_type=None,\n",
       "              interaction_constraints=None, learning_rate=None, max_bin=None,\n",
       "              max_cat_threshold=None, max_cat_to_onehot=None,\n",
       "              max_delta_step=None, max_depth=None, max_leaves=None,\n",
       "              min_child_weight=None, missing=nan, monotone_constraints=None,\n",
       "              n_estimators=100, n_jobs=None, num_parallel_tree=None,\n",
       "              objective=&#x27;multi:softprob&#x27;, predictor=None, ...)</pre></div></div></div></div></div>"
      ],
      "text/plain": [
       "XGBClassifier(base_score=None, booster=None, callbacks=None,\n",
       "              colsample_bylevel=None, colsample_bynode=None,\n",
       "              colsample_bytree=None, early_stopping_rounds=None,\n",
       "              enable_categorical=False, eval_metric=None, feature_types=None,\n",
       "              gamma=None, gpu_id=None, grow_policy=None, importance_type=None,\n",
       "              interaction_constraints=None, learning_rate=None, max_bin=None,\n",
       "              max_cat_threshold=None, max_cat_to_onehot=None,\n",
       "              max_delta_step=None, max_depth=None, max_leaves=None,\n",
       "              min_child_weight=None, missing=nan, monotone_constraints=None,\n",
       "              n_estimators=100, n_jobs=None, num_parallel_tree=None,\n",
       "              objective='multi:softprob', predictor=None, ...)"
      ]
     },
     "execution_count": 83,
     "metadata": {},
     "output_type": "execute_result"
    }
   ],
   "source": [
    "# training the model with training data\n",
    "xgb_classifier.fit(X_train_xgb, y_train_xgb)"
   ]
  },
  {
   "cell_type": "code",
   "execution_count": 84,
   "id": "6ed376c1-8f4b-44d1-afb6-7eca49d8e049",
   "metadata": {
    "tags": []
   },
   "outputs": [
    {
     "data": {
      "text/plain": [
       "array([1, 0, 0, 2, 2, 2, 0, 0, 1, 2, 0, 0, 2, 2, 2, 2, 2, 1, 0, 0, 0, 2,\n",
       "       2, 1, 2, 0, 1, 1, 2, 1, 2, 1, 1, 0, 0, 0, 2, 0, 1, 0, 2, 0, 2, 2,\n",
       "       2, 0, 1, 0, 0, 0, 1, 1, 2, 1, 1, 1, 2, 1, 2, 2, 2, 1, 1, 2, 1, 2,\n",
       "       2, 2, 1, 1, 0, 2, 0, 0, 0, 2, 1, 0, 1, 2, 1, 0, 2, 0, 1, 1, 2, 1,\n",
       "       2, 0, 1, 2, 0, 1, 0, 0, 1, 2, 0, 1, 0, 0, 0, 2, 2, 2, 0, 2, 0, 1,\n",
       "       2, 1, 2, 2, 1, 1, 2, 2, 0, 0, 2, 0, 1, 1, 0, 2, 0, 0, 0, 2, 1, 0,\n",
       "       0, 2, 0, 2, 2, 1, 2, 2, 1, 2, 1, 0, 0, 2, 2, 0, 0, 1, 2, 2, 2, 1,\n",
       "       0, 0, 2, 0, 2, 1, 1, 1, 2, 2, 0, 0, 2, 2, 0, 2, 2, 2, 0, 1, 0, 2,\n",
       "       1, 0, 2, 1, 1, 1, 2, 1, 0, 1, 1, 0, 0, 0, 1, 1, 2, 1, 0, 0, 1, 1,\n",
       "       0, 0, 0, 2, 2, 2, 1, 1, 0, 0, 0, 2, 1, 1, 2, 0, 2, 1, 0, 0, 0, 2,\n",
       "       1, 1, 0, 1, 1, 2, 1, 0, 1, 2, 1, 0, 2, 0, 1, 2, 0, 2, 2, 1, 0, 1,\n",
       "       0, 0, 2, 1, 0, 2, 2, 1, 1, 2, 0, 1, 1, 0, 1, 0, 0, 2, 1, 2, 1, 1,\n",
       "       0, 0, 0, 0, 1, 0, 1, 2, 2, 2, 2, 2, 2, 0, 0, 0, 0, 0, 1, 2, 1, 2,\n",
       "       1, 1, 2, 2, 1, 0, 1, 1, 0, 0, 2, 1, 0, 1, 1, 2, 0, 0, 1, 2, 1, 1,\n",
       "       0, 1, 2, 2, 2, 1, 0, 0, 1, 2, 2, 0, 2, 1, 0, 0, 0, 1, 1, 2, 0, 1,\n",
       "       2, 0, 0, 0, 0, 1, 1, 1, 0, 2, 1, 2, 0, 2, 0, 1, 1, 0, 2, 1, 2, 2,\n",
       "       1, 1, 0, 0, 1, 0, 2, 2, 2, 1, 0, 0, 2, 2, 0, 2, 2, 1, 0, 1, 0, 1,\n",
       "       2, 0, 2, 0, 0, 1, 2, 2, 2, 0, 1, 2, 2, 1, 0, 1, 0, 0, 2, 2, 2, 1,\n",
       "       1, 0, 1, 0, 2, 1, 2, 2, 0, 2, 2, 1, 2, 2, 2, 0, 0, 2, 0, 1, 0, 0,\n",
       "       2, 1, 2, 1, 1, 2, 1, 2, 1, 1, 2, 0, 1, 1, 0, 1, 2, 0, 0, 0, 1, 0,\n",
       "       1, 1, 2, 2, 0, 1, 0, 2, 1, 2, 0, 2, 0, 2, 0, 1, 0, 0, 1, 2, 1, 0,\n",
       "       2, 0, 1, 2, 2, 2, 0, 0, 1, 0, 2, 0, 0, 2, 0, 0, 1, 0, 1, 0, 1, 0,\n",
       "       1, 2, 0, 1, 1, 0, 1, 0, 1, 2, 0, 0, 1, 0, 2, 2, 1, 0, 2, 1, 2, 1,\n",
       "       0, 2, 0, 2, 0, 2, 2, 0, 2, 2, 2, 2, 0, 0, 1, 1, 2, 0, 2],\n",
       "      dtype=int64)"
      ]
     },
     "execution_count": 84,
     "metadata": {},
     "output_type": "execute_result"
    }
   ],
   "source": [
    "# predicting the model with testing data \n",
    "xgb_classifier_prediction = xgb_classifier.predict(X_test_xgb)\n",
    "xgb_classifier_prediction"
   ]
  },
  {
   "cell_type": "markdown",
   "id": "7871df1b-851b-428b-b7a9-962eaf67d934",
   "metadata": {},
   "source": [
    "### Model Evaluation"
   ]
  },
  {
   "cell_type": "code",
   "execution_count": 85,
   "id": "e5f86c78-7945-4328-935e-7e8b5c59e8c7",
   "metadata": {
    "tags": []
   },
   "outputs": [
    {
     "data": {
      "text/plain": [
       "0.9295238095238095"
      ]
     },
     "execution_count": 85,
     "metadata": {},
     "output_type": "execute_result"
    }
   ],
   "source": [
    "# importing the necessary library for model accauracy \n",
    "from sklearn.metrics import accuracy_score, classification_report\n",
    "\n",
    "# checking the model accuracy score\n",
    "xgb_classifier_acc_score = accuracy_score(y_test_xgb, xgb_classifier_prediction)\n",
    "xgb_classifier_acc_score"
   ]
  },
  {
   "cell_type": "code",
   "execution_count": 86,
   "id": "c26301ba-71f7-46cf-aefc-9c0f6d9493c0",
   "metadata": {
    "tags": []
   },
   "outputs": [
    {
     "data": {
      "text/plain": [
       "0.0"
      ]
     },
     "execution_count": 86,
     "metadata": {},
     "output_type": "execute_result"
    }
   ],
   "source": [
    "# check for the training score of model \n",
    "xgb_classifier_training_score = xgb_classifier.score(X_train_xgb, y_train)\n",
    "xgb_classifier_training_score"
   ]
  },
  {
   "cell_type": "code",
   "execution_count": 87,
   "id": "143151b6-18dd-4380-930d-7822d82b6c20",
   "metadata": {
    "tags": []
   },
   "outputs": [
    {
     "data": {
      "text/plain": [
       "<sklearn.metrics._plot.confusion_matrix.ConfusionMatrixDisplay at 0x1b0cd8ccaf0>"
      ]
     },
     "execution_count": 87,
     "metadata": {},
     "output_type": "execute_result"
    },
    {
     "data": {
      "image/png": "[encoded data removed]",
      "text/plain": [
       "<Figure size 640x480 with 2 Axes>"
      ]
     },
     "metadata": {},
     "output_type": "display_data"
    }
   ],
   "source": [
    "# importing the necessary library for diplaying the confusion matrix \n",
    "from sklearn.metrics import ConfusionMatrixDisplay\n",
    "xgb_classifier_confusion_matrix = ConfusionMatrixDisplay.from_estimator(xgb_classifier, X_test_xgb, y_test_xgb)\n",
    "xgb_classifier_confusion_matrix"
   ]
  },
  {
   "cell_type": "code",
   "execution_count": 88,
   "id": "5b5b7ba0-bc25-476e-8ad1-7d9453988f61",
   "metadata": {
    "tags": []
   },
   "outputs": [
    {
     "name": "stdout",
     "output_type": "stream",
     "text": [
      "              precision    recall  f1-score   support\n",
      "\n",
      "           0       0.92      0.97      0.95       174\n",
      "           1       0.95      0.84      0.89       184\n",
      "           2       0.92      0.98      0.95       167\n",
      "\n",
      "    accuracy                           0.93       525\n",
      "   macro avg       0.93      0.93      0.93       525\n",
      "weighted avg       0.93      0.93      0.93       525\n",
      "\n"
     ]
    }
   ],
   "source": [
    "# dispalying the classification report of the model \n",
    "print(classification_report(y_test_xgb, xgb_classifier_prediction))"
   ]
  },
  {
   "cell_type": "code",
   "execution_count": 89,
   "id": "ed915db3-2d19-48bd-aea2-faffcde0283f",
   "metadata": {
    "tags": []
   },
   "outputs": [
    {
     "name": "stdout",
     "output_type": "stream",
     "text": [
      "+----------------------------------------+--------------------+------------------+\n",
      "| Model Name                             |   Testing Accuracy |   Training Score |\n",
      "+========================================+====================+==================+\n",
      "| Logistic Regression                    |           0.822857 |         0.834049 |\n",
      "+----------------------------------------+--------------------+------------------+\n",
      "| Decision Tree Classification           |           0.792381 |         1        |\n",
      "+----------------------------------------+--------------------+------------------+\n",
      "| Extra Tree (Random Forests) Classifier |           0.729524 |         1        |\n",
      "+----------------------------------------+--------------------+------------------+\n",
      "| Random Forest Classification           |           0.944762 |         1        |\n",
      "+----------------------------------------+--------------------+------------------+\n",
      "| Support Vector Machine Classification  |           0.937143 |         0.975203 |\n",
      "+----------------------------------------+--------------------+------------------+\n",
      "| Naive Bayes Classification             |           0.706667 |         0.746781 |\n",
      "+----------------------------------------+--------------------+------------------+\n",
      "| K-Neighbour Classification             |           0.80381  |         0.871245 |\n",
      "+----------------------------------------+--------------------+------------------+\n",
      "| Adaboost Classification                |           0.805714 |         0.824511 |\n",
      "+----------------------------------------+--------------------+------------------+\n",
      "| Gradient Descent Classification        |           0.912381 |         0.987124 |\n",
      "+----------------------------------------+--------------------+------------------+\n",
      "| Stochastic Gradient Descent Classifier |           0.811429 |         0.800191 |\n",
      "+----------------------------------------+--------------------+------------------+\n",
      "| XGBOOST Classifier                     |           0.929524 |         0        |\n",
      "+----------------------------------------+--------------------+------------------+\n"
     ]
    }
   ],
   "source": [
    "# summarising the different model with their respective model accuaracy \n",
    "from tabulate import tabulate\n",
    "my_data = [['Logistic Regression', logistic_reg_acc_Score, logistic_reg_training_score],\n",
    "           [\"Decision Tree Classification\", dec_tree_classifier_acc_score, dec_tree_classifier_training_score],\n",
    "           [\"Extra Tree (Random Forests) Classifier\", extra_tree_classfier_acc_score, extra_tree_classfier_training_score],\n",
    "           [\"Random Forest Classification\", rand_for_class_acc_score, rand_for_class_training_score],\n",
    "           [\"Support Vector Machine Classification\", svm_classifier_acc_score, svm_classifier_training_score],\n",
    "           [\"Naive Bayes Classification\", naive_bayes_classifier_acc_score, naive_bayes_classifier_training_score],\n",
    "           [\"K-Neighbour Classification\", k_neigh_classifier_acc_Score, k_neigh_classifier_training_score],\n",
    "           [\"Adaboost Classification\", adaboost_classifier_acc_score, adaboost_classifier_training_score],\n",
    "           [\"Gradient Descent Classification\", grad_des_classifier_acc_score, grad_des_classifier_training_score],\n",
    "           [\"Stochastic Gradient Descent Classifier\", sgd_classifier_acc_score, sgd_classifier_training_score],\n",
    "           [\"XGBOOST Classifier\", xgb_classifier_acc_score, xgb_classifier_training_score]\n",
    "          ]\n",
    "head = [\"Model Name\", \"Testing Accuracy\",  \"Training Score\"]\n",
    "print(tabulate(my_data, headers=head, tablefmt=\"grid\"))"
   ]
  },
  {
   "cell_type": "markdown",
   "id": "c66ef984-92e9-4d0e-8867-d53cfbf9b124",
   "metadata": {},
   "source": [
    "# HYPER PARAMETER TUNING"
   ]
  },
  {
   "cell_type": "markdown",
   "id": "32bfa414-39b4-46ba-ae94-9905c3a3d60c",
   "metadata": {},
   "source": [
    "- **Hyperparameter tuning is the process of finding the best values for the hyperparameters of a machine learning model. Hyperparameters are the parameters that are not learned by the model during training. They are set by the user and can have a significant impact on the performance of the model.**\n",
    "\n",
    "- **The goal of hyperparameter tuning is to find the set of hyperparameters that results in the best model performance on a given dataset. This can be done manually or using automated methods.**"
   ]
  },
  {
   "cell_type": "markdown",
   "id": "63aae0ba-5d6e-46ee-98c8-b4b4bafb22d8",
   "metadata": {},
   "source": [
    "# <span style=\"background-color: #D32D41; padding: 5px;\">1. Random Forest Classification Hyper ParaMeter tuning"
   ]
  },
  {
   "cell_type": "code",
   "execution_count": 90,
   "id": "f0d43a48-4674-455a-9c3f-c104e682620d",
   "metadata": {
    "tags": []
   },
   "outputs": [],
   "source": [
    "# Importing the necessary libraries\n",
    "from sklearn.ensemble import RandomForestClassifier\n",
    "from sklearn.model_selection import RandomizedSearchCV\n",
    "from tqdm import tqdm"
   ]
  },
  {
   "cell_type": "code",
   "execution_count": 91,
   "id": "3094c5cd-949c-405d-9d75-8564aa8b9eb1",
   "metadata": {
    "tags": []
   },
   "outputs": [],
   "source": [
    "# instantiating random forest regressor\n",
    "random_for_hyp_tuning = RandomForestClassifier()"
   ]
  },
  {
   "cell_type": "code",
   "execution_count": 92,
   "id": "84ae9151-c225-480d-94ab-3a5b433d6508",
   "metadata": {
    "tags": []
   },
   "outputs": [],
   "source": [
    "# selecting different parameter\n",
    "params = {\n",
    "    \"n_estimators\" : [90,100,115,130, 150, 170, 200, 220, 250],\n",
    "    'criterion': ['gini', 'entropy'],\n",
    "    'max_depth' : range(2,20,1),\n",
    "    'min_samples_leaf' : range(1,10,1),\n",
    "    'min_samples_split': range(2,10,1),\n",
    "    'max_features' : ['auto','log2', 'sqrt']\n",
    "}"
   ]
  },
  {
   "cell_type": "code",
   "execution_count": 93,
   "id": "ec3bd70e-c2a5-4ed9-800c-c1874711aa8b",
   "metadata": {
    "tags": []
   },
   "outputs": [],
   "source": [
    "# Initiating the hyperparamter tuning\n",
    "rand_for_searchCV = RandomizedSearchCV(random_for_hyp_tuning, params,verbose=2, n_iter=10, cv = 5, n_jobs = -1)"
   ]
  },
  {
   "cell_type": "code",
   "execution_count": 94,
   "id": "d26cf8f2-b389-4ccf-a75b-4dbf886ba55e",
   "metadata": {
    "tags": []
   },
   "outputs": [
    {
     "name": "stdout",
     "output_type": "stream",
     "text": [
      "Fitting 5 folds for each of 10 candidates, totalling 50 fits\n"
     ]
    },
    {
     "name": "stderr",
     "output_type": "stream",
     "text": [
      "RandomizedSearchCV Progress:   0%|                                                              | 0/10 [00:00<?, ?it/s]"
     ]
    },
    {
     "data": {
      "text/plain": [
       "<tqdm.std.tqdm at 0x1b0cd96f5e0>"
      ]
     },
     "execution_count": 94,
     "metadata": {},
     "output_type": "execute_result"
    }
   ],
   "source": [
    "tqdm(rand_for_searchCV.fit(X_train, y_train), desc=\"RandomizedSearchCV Progress\", total=10)"
   ]
  },
  {
   "cell_type": "code",
   "execution_count": 95,
   "id": "d692a1fa-3df1-474c-a89a-1505578f056a",
   "metadata": {
    "tags": []
   },
   "outputs": [],
   "source": [
    "best_estimator = rand_for_searchCV.best_estimator_"
   ]
  },
  {
   "cell_type": "code",
   "execution_count": 96,
   "id": "5f7636e2-5641-49d5-a7f5-375ff07a402e",
   "metadata": {
    "tags": []
   },
   "outputs": [
    {
     "data": {
      "text/plain": [
       "{'n_estimators': 150,\n",
       " 'min_samples_split': 4,\n",
       " 'min_samples_leaf': 2,\n",
       " 'max_features': 'log2',\n",
       " 'max_depth': 8,\n",
       " 'criterion': 'entropy'}"
      ]
     },
     "execution_count": 96,
     "metadata": {},
     "output_type": "execute_result"
    }
   ],
   "source": [
    "# Get the best hyperparameters\n",
    "best_parameters= rand_for_searchCV.best_params_\n",
    "best_parameters"
   ]
  },
  {
   "cell_type": "code",
   "execution_count": 97,
   "id": "294d3e7b-3573-4172-9ffd-677236d795dc",
   "metadata": {
    "tags": []
   },
   "outputs": [
    {
     "data": {
      "text/plain": [
       "0.9047619047619048"
      ]
     },
     "execution_count": 97,
     "metadata": {},
     "output_type": "execute_result"
    }
   ],
   "source": [
    "# Best model accuracy \n",
    "rand_for_hyp_score = rand_for_searchCV.score(X_test, y_test)\n",
    "rand_for_hyp_score"
   ]
  },
  {
   "cell_type": "code",
   "execution_count": 98,
   "id": "49f5378e-7034-478f-b09d-bc97d4a310dc",
   "metadata": {
    "tags": []
   },
   "outputs": [],
   "source": [
    "# training our model with best parameter to check how our model has performed\n",
    "rand_for_best_para = RandomForestClassifier(n_estimators = 130, min_samples_split = 8,\n",
    "                                         min_samples_leaf = 2, max_features =  'log2',\n",
    "                                          max_depth = 18, criterion = 'entropy')"
   ]
  },
  {
   "cell_type": "code",
   "execution_count": 99,
   "id": "363ba9b0-da71-4981-b612-4067bb756098",
   "metadata": {
    "tags": []
   },
   "outputs": [
    {
     "data": {
      "text/html": [
       "<style>#sk-container-id-12 {color: black;}#sk-container-id-12 pre{padding: 0;}#sk-container-id-12 div.sk-toggleable {background-color: white;}#sk-container-id-12 label.sk-toggleable__label {cursor: pointer;display: block;width: 100%;margin-bottom: 0;padding: 0.3em;box-sizing: border-box;text-align: center;}#sk-container-id-12 label.sk-toggleable__label-arrow:before {content: \"▸\";float: left;margin-right: 0.25em;color: #696969;}#sk-container-id-12 label.sk-toggleable__label-arrow:hover:before {color: black;}#sk-container-id-12 div.sk-estimator:hover label.sk-toggleable__label-arrow:before {color: black;}#sk-container-id-12 div.sk-toggleable__content {max-height: 0;max-width: 0;overflow: hidden;text-align: left;background-color: #f0f8ff;}#sk-container-id-12 div.sk-toggleable__content pre {margin: 0.2em;color: black;border-radius: 0.25em;background-color: #f0f8ff;}#sk-container-id-12 input.sk-toggleable__control:checked~div.sk-toggleable__content {max-height: 200px;max-width: 100%;overflow: auto;}#sk-container-id-12 input.sk-toggleable__control:checked~label.sk-toggleable__label-arrow:before {content: \"▾\";}#sk-container-id-12 div.sk-estimator input.sk-toggleable__control:checked~label.sk-toggleable__label {background-color: #d4ebff;}#sk-container-id-12 div.sk-label input.sk-toggleable__control:checked~label.sk-toggleable__label {background-color: #d4ebff;}#sk-container-id-12 input.sk-hidden--visually {border: 0;clip: rect(1px 1px 1px 1px);clip: rect(1px, 1px, 1px, 1px);height: 1px;margin: -1px;overflow: hidden;padding: 0;position: absolute;width: 1px;}#sk-container-id-12 div.sk-estimator {font-family: monospace;background-color: #f0f8ff;border: 1px dotted black;border-radius: 0.25em;box-sizing: border-box;margin-bottom: 0.5em;}#sk-container-id-12 div.sk-estimator:hover {background-color: #d4ebff;}#sk-container-id-12 div.sk-parallel-item::after {content: \"\";width: 100%;border-bottom: 1px solid gray;flex-grow: 1;}#sk-container-id-12 div.sk-label:hover label.sk-toggleable__label {background-color: #d4ebff;}#sk-container-id-12 div.sk-serial::before {content: \"\";position: absolute;border-left: 1px solid gray;box-sizing: border-box;top: 0;bottom: 0;left: 50%;z-index: 0;}#sk-container-id-12 div.sk-serial {display: flex;flex-direction: column;align-items: center;background-color: white;padding-right: 0.2em;padding-left: 0.2em;position: relative;}#sk-container-id-12 div.sk-item {position: relative;z-index: 1;}#sk-container-id-12 div.sk-parallel {display: flex;align-items: stretch;justify-content: center;background-color: white;position: relative;}#sk-container-id-12 div.sk-item::before, #sk-container-id-12 div.sk-parallel-item::before {content: \"\";position: absolute;border-left: 1px solid gray;box-sizing: border-box;top: 0;bottom: 0;left: 50%;z-index: -1;}#sk-container-id-12 div.sk-parallel-item {display: flex;flex-direction: column;z-index: 1;position: relative;background-color: white;}#sk-container-id-12 div.sk-parallel-item:first-child::after {align-self: flex-end;width: 50%;}#sk-container-id-12 div.sk-parallel-item:last-child::after {align-self: flex-start;width: 50%;}#sk-container-id-12 div.sk-parallel-item:only-child::after {width: 0;}#sk-container-id-12 div.sk-dashed-wrapped {border: 1px dashed gray;margin: 0 0.4em 0.5em 0.4em;box-sizing: border-box;padding-bottom: 0.4em;background-color: white;}#sk-container-id-12 div.sk-label label {font-family: monospace;font-weight: bold;display: inline-block;line-height: 1.2em;}#sk-container-id-12 div.sk-label-container {text-align: center;}#sk-container-id-12 div.sk-container {/* jupyter's `normalize.less` sets `[hidden] { display: none; }` but bootstrap.min.css set `[hidden] { display: none !important; }` so we also need the `!important` here to be able to override the default hidden behavior on the sphinx rendered scikit-learn.org. See: https://github.com/scikit-learn/scikit-learn/issues/21755 */display: inline-block !important;position: relative;}#sk-container-id-12 div.sk-text-repr-fallback {display: none;}</style><div id=\"sk-container-id-12\" class=\"sk-top-container\"><div class=\"sk-text-repr-fallback\"><pre>RandomForestClassifier(criterion=&#x27;entropy&#x27;, max_depth=18, max_features=&#x27;log2&#x27;,\n",
       "                       min_samples_leaf=2, min_samples_split=8,\n",
       "                       n_estimators=130)</pre><b>In a Jupyter environment, please rerun this cell to show the HTML representation or trust the notebook. <br />On GitHub, the HTML representation is unable to render, please try loading this page with nbviewer.org.</b></div><div class=\"sk-container\" hidden><div class=\"sk-item\"><div class=\"sk-estimator sk-toggleable\"><input class=\"sk-toggleable__control sk-hidden--visually\" id=\"sk-estimator-id-12\" type=\"checkbox\" checked><label for=\"sk-estimator-id-12\" class=\"sk-toggleable__label sk-toggleable__label-arrow\">RandomForestClassifier</label><div class=\"sk-toggleable__content\"><pre>RandomForestClassifier(criterion=&#x27;entropy&#x27;, max_depth=18, max_features=&#x27;log2&#x27;,\n",
       "                       min_samples_leaf=2, min_samples_split=8,\n",
       "                       n_estimators=130)</pre></div></div></div></div></div>"
      ],
      "text/plain": [
       "RandomForestClassifier(criterion='entropy', max_depth=18, max_features='log2',\n",
       "                       min_samples_leaf=2, min_samples_split=8,\n",
       "                       n_estimators=130)"
      ]
     },
     "execution_count": 99,
     "metadata": {},
     "output_type": "execute_result"
    }
   ],
   "source": [
    "rand_for_best_para.fit(X_train, y_train)"
   ]
  },
  {
   "cell_type": "code",
   "execution_count": 100,
   "id": "f1201282-beea-4442-8f91-0c42e92c11e4",
   "metadata": {
    "tags": []
   },
   "outputs": [],
   "source": [
    "# checking the predicted values \n",
    "rand_best_para_pred = rand_for_best_para.predict(X_test)"
   ]
  },
  {
   "cell_type": "code",
   "execution_count": 101,
   "id": "4d3335aa-ef20-4a59-905c-23700a367eab",
   "metadata": {
    "tags": []
   },
   "outputs": [
    {
     "data": {
      "text/plain": [
       "0.9161904761904762"
      ]
     },
     "execution_count": 101,
     "metadata": {},
     "output_type": "execute_result"
    }
   ],
   "source": [
    "# checking the accuaracy score\n",
    "rand_best_para_acc = accuracy_score(y_test, rand_best_para_pred)\n",
    "rand_best_para_acc"
   ]
  },
  {
   "cell_type": "markdown",
   "id": "2ead269b-8382-41df-aef2-cbc8023b5ba3",
   "metadata": {},
   "source": [
    "# <span style=\"background-color: #D32D41; padding: 5px;\">2. XGBOOST Classifier Hyper Parameter Tuning"
   ]
  },
  {
   "cell_type": "code",
   "execution_count": 102,
   "id": "a23718db-d480-4a05-bcb0-d003faf175ab",
   "metadata": {
    "tags": []
   },
   "outputs": [],
   "source": [
    "# Importing the necessary libraries\n",
    "from xgboost import XGBClassifier\n",
    "from sklearn.model_selection import RandomizedSearchCV"
   ]
  },
  {
   "cell_type": "code",
   "execution_count": 103,
   "id": "96248103-62b6-47a0-bb3f-1b9045e6aa03",
   "metadata": {
    "tags": []
   },
   "outputs": [],
   "source": [
    "# instantiating XGBOOSTING classifier\n",
    "XGBOOST_hyp_tuning = XGBClassifier()"
   ]
  },
  {
   "cell_type": "code",
   "execution_count": 104,
   "id": "32faf39b-391e-46d7-918b-5733342c9a8c",
   "metadata": {
    "tags": []
   },
   "outputs": [],
   "source": [
    "# selecting different parameter\n",
    "param_grid = {'gamma': [0.1,0.2,0.4,0.8,1.6,3.2,6.4,12.8,25.6,51.2,102.4, 200],\n",
    "              'learning_rate': [0.01, 0.03, 0.06, 0.1, 0.15, 0.2, 0.25, 0.4, 0.5, 0.6, 0.7],\n",
    "              'max_depth': [5,6,7,8,9,10,11,12,13,14],\n",
    "              'n_estimators': [50,65,80,100,115,130,150],\n",
    "              'reg_alpha': [0,0.1,0.2,0.4,0.8,1.6,3.2,6.4,12.8,25.6,51.2,102.4,200],\n",
    "              'reg_lambda': [0,0.1,0.2,0.4,0.8,1.6,3.2,6.4,12.8,25.6,51.2,102.4,200]\n",
    "             }"
   ]
  },
  {
   "cell_type": "code",
   "execution_count": 105,
   "id": "d04feac3-c0ff-4d20-b3cc-4209eb063053",
   "metadata": {
    "tags": []
   },
   "outputs": [],
   "source": [
    "# Initialize RandomizedSearchCV for hyperparameter tuning\n",
    "XGB_searchCV = RandomizedSearchCV(estimator=XGBOOST_hyp_tuning, scoring='f1_weighted', param_distributions=param_grid, n_iter=10, cv=5,verbose=2, random_state=42, n_jobs=-1)\n"
   ]
  },
  {
   "cell_type": "code",
   "execution_count": 106,
   "id": "2e1ee6e7-3abc-4f73-8d01-eddfa7f9efb9",
   "metadata": {
    "tags": []
   },
   "outputs": [
    {
     "name": "stdout",
     "output_type": "stream",
     "text": [
      "Fitting 5 folds for each of 10 candidates, totalling 50 fits\n"
     ]
    },
    {
     "data": {
      "text/html": [
       "<style>#sk-container-id-13 {color: black;}#sk-container-id-13 pre{padding: 0;}#sk-container-id-13 div.sk-toggleable {background-color: white;}#sk-container-id-13 label.sk-toggleable__label {cursor: pointer;display: block;width: 100%;margin-bottom: 0;padding: 0.3em;box-sizing: border-box;text-align: center;}#sk-container-id-13 label.sk-toggleable__label-arrow:before {content: \"▸\";float: left;margin-right: 0.25em;color: #696969;}#sk-container-id-13 label.sk-toggleable__label-arrow:hover:before {color: black;}#sk-container-id-13 div.sk-estimator:hover label.sk-toggleable__label-arrow:before {color: black;}#sk-container-id-13 div.sk-toggleable__content {max-height: 0;max-width: 0;overflow: hidden;text-align: left;background-color: #f0f8ff;}#sk-container-id-13 div.sk-toggleable__content pre {margin: 0.2em;color: black;border-radius: 0.25em;background-color: #f0f8ff;}#sk-container-id-13 input.sk-toggleable__control:checked~div.sk-toggleable__content {max-height: 200px;max-width: 100%;overflow: auto;}#sk-container-id-13 input.sk-toggleable__control:checked~label.sk-toggleable__label-arrow:before {content: \"▾\";}#sk-container-id-13 div.sk-estimator input.sk-toggleable__control:checked~label.sk-toggleable__label {background-color: #d4ebff;}#sk-container-id-13 div.sk-label input.sk-toggleable__control:checked~label.sk-toggleable__label {background-color: #d4ebff;}#sk-container-id-13 input.sk-hidden--visually {border: 0;clip: rect(1px 1px 1px 1px);clip: rect(1px, 1px, 1px, 1px);height: 1px;margin: -1px;overflow: hidden;padding: 0;position: absolute;width: 1px;}#sk-container-id-13 div.sk-estimator {font-family: monospace;background-color: #f0f8ff;border: 1px dotted black;border-radius: 0.25em;box-sizing: border-box;margin-bottom: 0.5em;}#sk-container-id-13 div.sk-estimator:hover {background-color: #d4ebff;}#sk-container-id-13 div.sk-parallel-item::after {content: \"\";width: 100%;border-bottom: 1px solid gray;flex-grow: 1;}#sk-container-id-13 div.sk-label:hover label.sk-toggleable__label {background-color: #d4ebff;}#sk-container-id-13 div.sk-serial::before {content: \"\";position: absolute;border-left: 1px solid gray;box-sizing: border-box;top: 0;bottom: 0;left: 50%;z-index: 0;}#sk-container-id-13 div.sk-serial {display: flex;flex-direction: column;align-items: center;background-color: white;padding-right: 0.2em;padding-left: 0.2em;position: relative;}#sk-container-id-13 div.sk-item {position: relative;z-index: 1;}#sk-container-id-13 div.sk-parallel {display: flex;align-items: stretch;justify-content: center;background-color: white;position: relative;}#sk-container-id-13 div.sk-item::before, #sk-container-id-13 div.sk-parallel-item::before {content: \"\";position: absolute;border-left: 1px solid gray;box-sizing: border-box;top: 0;bottom: 0;left: 50%;z-index: -1;}#sk-container-id-13 div.sk-parallel-item {display: flex;flex-direction: column;z-index: 1;position: relative;background-color: white;}#sk-container-id-13 div.sk-parallel-item:first-child::after {align-self: flex-end;width: 50%;}#sk-container-id-13 div.sk-parallel-item:last-child::after {align-self: flex-start;width: 50%;}#sk-container-id-13 div.sk-parallel-item:only-child::after {width: 0;}#sk-container-id-13 div.sk-dashed-wrapped {border: 1px dashed gray;margin: 0 0.4em 0.5em 0.4em;box-sizing: border-box;padding-bottom: 0.4em;background-color: white;}#sk-container-id-13 div.sk-label label {font-family: monospace;font-weight: bold;display: inline-block;line-height: 1.2em;}#sk-container-id-13 div.sk-label-container {text-align: center;}#sk-container-id-13 div.sk-container {/* jupyter's `normalize.less` sets `[hidden] { display: none; }` but bootstrap.min.css set `[hidden] { display: none !important; }` so we also need the `!important` here to be able to override the default hidden behavior on the sphinx rendered scikit-learn.org. See: https://github.com/scikit-learn/scikit-learn/issues/21755 */display: inline-block !important;position: relative;}#sk-container-id-13 div.sk-text-repr-fallback {display: none;}</style><div id=\"sk-container-id-13\" class=\"sk-top-container\"><div class=\"sk-text-repr-fallback\"><pre>RandomizedSearchCV(cv=5,\n",
       "                   estimator=XGBClassifier(base_score=None, booster=None,\n",
       "                                           callbacks=None,\n",
       "                                           colsample_bylevel=None,\n",
       "                                           colsample_bynode=None,\n",
       "                                           colsample_bytree=None,\n",
       "                                           early_stopping_rounds=None,\n",
       "                                           enable_categorical=False,\n",
       "                                           eval_metric=None, feature_types=None,\n",
       "                                           gamma=None, gpu_id=None,\n",
       "                                           grow_policy=None,\n",
       "                                           importance_type=None,\n",
       "                                           interaction_constraints=None,\n",
       "                                           learning_rate...\n",
       "                                                  6.4, 12.8, 25.6, 51.2, 102.4,\n",
       "                                                  200],\n",
       "                                        &#x27;learning_rate&#x27;: [0.01, 0.03, 0.06, 0.1,\n",
       "                                                          0.15, 0.2, 0.25, 0.4,\n",
       "                                                          0.5, 0.6, 0.7],\n",
       "                                        &#x27;max_depth&#x27;: [5, 6, 7, 8, 9, 10, 11, 12,\n",
       "                                                      13, 14],\n",
       "                                        &#x27;n_estimators&#x27;: [50, 65, 80, 100, 115,\n",
       "                                                         130, 150],\n",
       "                                        &#x27;reg_alpha&#x27;: [0, 0.1, 0.2, 0.4, 0.8,\n",
       "                                                      1.6, 3.2, 6.4, 12.8, 25.6,\n",
       "                                                      51.2, 102.4, 200],\n",
       "                                        &#x27;reg_lambda&#x27;: [0, 0.1, 0.2, 0.4, 0.8,\n",
       "                                                       1.6, 3.2, 6.4, 12.8,\n",
       "                                                       25.6, 51.2, 102.4,\n",
       "                                                       200]},\n",
       "                   random_state=42, scoring=&#x27;f1_weighted&#x27;, verbose=2)</pre><b>In a Jupyter environment, please rerun this cell to show the HTML representation or trust the notebook. <br />On GitHub, the HTML representation is unable to render, please try loading this page with nbviewer.org.</b></div><div class=\"sk-container\" hidden><div class=\"sk-item sk-dashed-wrapped\"><div class=\"sk-label-container\"><div class=\"sk-label sk-toggleable\"><input class=\"sk-toggleable__control sk-hidden--visually\" id=\"sk-estimator-id-13\" type=\"checkbox\" ><label for=\"sk-estimator-id-13\" class=\"sk-toggleable__label sk-toggleable__label-arrow\">RandomizedSearchCV</label><div class=\"sk-toggleable__content\"><pre>RandomizedSearchCV(cv=5,\n",
       "                   estimator=XGBClassifier(base_score=None, booster=None,\n",
       "                                           callbacks=None,\n",
       "                                           colsample_bylevel=None,\n",
       "                                           colsample_bynode=None,\n",
       "                                           colsample_bytree=None,\n",
       "                                           early_stopping_rounds=None,\n",
       "                                           enable_categorical=False,\n",
       "                                           eval_metric=None, feature_types=None,\n",
       "                                           gamma=None, gpu_id=None,\n",
       "                                           grow_policy=None,\n",
       "                                           importance_type=None,\n",
       "                                           interaction_constraints=None,\n",
       "                                           learning_rate...\n",
       "                                                  6.4, 12.8, 25.6, 51.2, 102.4,\n",
       "                                                  200],\n",
       "                                        &#x27;learning_rate&#x27;: [0.01, 0.03, 0.06, 0.1,\n",
       "                                                          0.15, 0.2, 0.25, 0.4,\n",
       "                                                          0.5, 0.6, 0.7],\n",
       "                                        &#x27;max_depth&#x27;: [5, 6, 7, 8, 9, 10, 11, 12,\n",
       "                                                      13, 14],\n",
       "                                        &#x27;n_estimators&#x27;: [50, 65, 80, 100, 115,\n",
       "                                                         130, 150],\n",
       "                                        &#x27;reg_alpha&#x27;: [0, 0.1, 0.2, 0.4, 0.8,\n",
       "                                                      1.6, 3.2, 6.4, 12.8, 25.6,\n",
       "                                                      51.2, 102.4, 200],\n",
       "                                        &#x27;reg_lambda&#x27;: [0, 0.1, 0.2, 0.4, 0.8,\n",
       "                                                       1.6, 3.2, 6.4, 12.8,\n",
       "                                                       25.6, 51.2, 102.4,\n",
       "                                                       200]},\n",
       "                   random_state=42, scoring=&#x27;f1_weighted&#x27;, verbose=2)</pre></div></div></div><div class=\"sk-parallel\"><div class=\"sk-parallel-item\"><div class=\"sk-item\"><div class=\"sk-label-container\"><div class=\"sk-label sk-toggleable\"><input class=\"sk-toggleable__control sk-hidden--visually\" id=\"sk-estimator-id-14\" type=\"checkbox\" ><label for=\"sk-estimator-id-14\" class=\"sk-toggleable__label sk-toggleable__label-arrow\">estimator: XGBClassifier</label><div class=\"sk-toggleable__content\"><pre>XGBClassifier(base_score=None, booster=None, callbacks=None,\n",
       "              colsample_bylevel=None, colsample_bynode=None,\n",
       "              colsample_bytree=None, early_stopping_rounds=None,\n",
       "              enable_categorical=False, eval_metric=None, feature_types=None,\n",
       "              gamma=None, gpu_id=None, grow_policy=None, importance_type=None,\n",
       "              interaction_constraints=None, learning_rate=None, max_bin=None,\n",
       "              max_cat_threshold=None, max_cat_to_onehot=None,\n",
       "              max_delta_step=None, max_depth=None, max_leaves=None,\n",
       "              min_child_weight=None, missing=nan, monotone_constraints=None,\n",
       "              n_estimators=100, n_jobs=None, num_parallel_tree=None,\n",
       "              predictor=None, random_state=None, ...)</pre></div></div></div><div class=\"sk-serial\"><div class=\"sk-item\"><div class=\"sk-estimator sk-toggleable\"><input class=\"sk-toggleable__control sk-hidden--visually\" id=\"sk-estimator-id-15\" type=\"checkbox\" ><label for=\"sk-estimator-id-15\" class=\"sk-toggleable__label sk-toggleable__label-arrow\">XGBClassifier</label><div class=\"sk-toggleable__content\"><pre>XGBClassifier(base_score=None, booster=None, callbacks=None,\n",
       "              colsample_bylevel=None, colsample_bynode=None,\n",
       "              colsample_bytree=None, early_stopping_rounds=None,\n",
       "              enable_categorical=False, eval_metric=None, feature_types=None,\n",
       "              gamma=None, gpu_id=None, grow_policy=None, importance_type=None,\n",
       "              interaction_constraints=None, learning_rate=None, max_bin=None,\n",
       "              max_cat_threshold=None, max_cat_to_onehot=None,\n",
       "              max_delta_step=None, max_depth=None, max_leaves=None,\n",
       "              min_child_weight=None, missing=nan, monotone_constraints=None,\n",
       "              n_estimators=100, n_jobs=None, num_parallel_tree=None,\n",
       "              predictor=None, random_state=None, ...)</pre></div></div></div></div></div></div></div></div></div></div>"
      ],
      "text/plain": [
       "RandomizedSearchCV(cv=5,\n",
       "                   estimator=XGBClassifier(base_score=None, booster=None,\n",
       "                                           callbacks=None,\n",
       "                                           colsample_bylevel=None,\n",
       "                                           colsample_bynode=None,\n",
       "                                           colsample_bytree=None,\n",
       "                                           early_stopping_rounds=None,\n",
       "                                           enable_categorical=False,\n",
       "                                           eval_metric=None, feature_types=None,\n",
       "                                           gamma=None, gpu_id=None,\n",
       "                                           grow_policy=None,\n",
       "                                           importance_type=None,\n",
       "                                           interaction_constraints=None,\n",
       "                                           learning_rate...\n",
       "                                                  6.4, 12.8, 25.6, 51.2, 102.4,\n",
       "                                                  200],\n",
       "                                        'learning_rate': [0.01, 0.03, 0.06, 0.1,\n",
       "                                                          0.15, 0.2, 0.25, 0.4,\n",
       "                                                          0.5, 0.6, 0.7],\n",
       "                                        'max_depth': [5, 6, 7, 8, 9, 10, 11, 12,\n",
       "                                                      13, 14],\n",
       "                                        'n_estimators': [50, 65, 80, 100, 115,\n",
       "                                                         130, 150],\n",
       "                                        'reg_alpha': [0, 0.1, 0.2, 0.4, 0.8,\n",
       "                                                      1.6, 3.2, 6.4, 12.8, 25.6,\n",
       "                                                      51.2, 102.4, 200],\n",
       "                                        'reg_lambda': [0, 0.1, 0.2, 0.4, 0.8,\n",
       "                                                       1.6, 3.2, 6.4, 12.8,\n",
       "                                                       25.6, 51.2, 102.4,\n",
       "                                                       200]},\n",
       "                   random_state=42, scoring='f1_weighted', verbose=2)"
      ]
     },
     "execution_count": 106,
     "metadata": {},
     "output_type": "execute_result"
    }
   ],
   "source": [
    "# training the randomises searchCV \n",
    "XGB_searchCV.fit(X_train_xgb, y_train_xgb)"
   ]
  },
  {
   "cell_type": "code",
   "execution_count": 107,
   "id": "d4fd1270-5d60-42bf-a79c-19dfd3cb291a",
   "metadata": {
    "tags": []
   },
   "outputs": [
    {
     "data": {
      "text/html": [
       "<style>#sk-container-id-14 {color: black;}#sk-container-id-14 pre{padding: 0;}#sk-container-id-14 div.sk-toggleable {background-color: white;}#sk-container-id-14 label.sk-toggleable__label {cursor: pointer;display: block;width: 100%;margin-bottom: 0;padding: 0.3em;box-sizing: border-box;text-align: center;}#sk-container-id-14 label.sk-toggleable__label-arrow:before {content: \"▸\";float: left;margin-right: 0.25em;color: #696969;}#sk-container-id-14 label.sk-toggleable__label-arrow:hover:before {color: black;}#sk-container-id-14 div.sk-estimator:hover label.sk-toggleable__label-arrow:before {color: black;}#sk-container-id-14 div.sk-toggleable__content {max-height: 0;max-width: 0;overflow: hidden;text-align: left;background-color: #f0f8ff;}#sk-container-id-14 div.sk-toggleable__content pre {margin: 0.2em;color: black;border-radius: 0.25em;background-color: #f0f8ff;}#sk-container-id-14 input.sk-toggleable__control:checked~div.sk-toggleable__content {max-height: 200px;max-width: 100%;overflow: auto;}#sk-container-id-14 input.sk-toggleable__control:checked~label.sk-toggleable__label-arrow:before {content: \"▾\";}#sk-container-id-14 div.sk-estimator input.sk-toggleable__control:checked~label.sk-toggleable__label {background-color: #d4ebff;}#sk-container-id-14 div.sk-label input.sk-toggleable__control:checked~label.sk-toggleable__label {background-color: #d4ebff;}#sk-container-id-14 input.sk-hidden--visually {border: 0;clip: rect(1px 1px 1px 1px);clip: rect(1px, 1px, 1px, 1px);height: 1px;margin: -1px;overflow: hidden;padding: 0;position: absolute;width: 1px;}#sk-container-id-14 div.sk-estimator {font-family: monospace;background-color: #f0f8ff;border: 1px dotted black;border-radius: 0.25em;box-sizing: border-box;margin-bottom: 0.5em;}#sk-container-id-14 div.sk-estimator:hover {background-color: #d4ebff;}#sk-container-id-14 div.sk-parallel-item::after {content: \"\";width: 100%;border-bottom: 1px solid gray;flex-grow: 1;}#sk-container-id-14 div.sk-label:hover label.sk-toggleable__label {background-color: #d4ebff;}#sk-container-id-14 div.sk-serial::before {content: \"\";position: absolute;border-left: 1px solid gray;box-sizing: border-box;top: 0;bottom: 0;left: 50%;z-index: 0;}#sk-container-id-14 div.sk-serial {display: flex;flex-direction: column;align-items: center;background-color: white;padding-right: 0.2em;padding-left: 0.2em;position: relative;}#sk-container-id-14 div.sk-item {position: relative;z-index: 1;}#sk-container-id-14 div.sk-parallel {display: flex;align-items: stretch;justify-content: center;background-color: white;position: relative;}#sk-container-id-14 div.sk-item::before, #sk-container-id-14 div.sk-parallel-item::before {content: \"\";position: absolute;border-left: 1px solid gray;box-sizing: border-box;top: 0;bottom: 0;left: 50%;z-index: -1;}#sk-container-id-14 div.sk-parallel-item {display: flex;flex-direction: column;z-index: 1;position: relative;background-color: white;}#sk-container-id-14 div.sk-parallel-item:first-child::after {align-self: flex-end;width: 50%;}#sk-container-id-14 div.sk-parallel-item:last-child::after {align-self: flex-start;width: 50%;}#sk-container-id-14 div.sk-parallel-item:only-child::after {width: 0;}#sk-container-id-14 div.sk-dashed-wrapped {border: 1px dashed gray;margin: 0 0.4em 0.5em 0.4em;box-sizing: border-box;padding-bottom: 0.4em;background-color: white;}#sk-container-id-14 div.sk-label label {font-family: monospace;font-weight: bold;display: inline-block;line-height: 1.2em;}#sk-container-id-14 div.sk-label-container {text-align: center;}#sk-container-id-14 div.sk-container {/* jupyter's `normalize.less` sets `[hidden] { display: none; }` but bootstrap.min.css set `[hidden] { display: none !important; }` so we also need the `!important` here to be able to override the default hidden behavior on the sphinx rendered scikit-learn.org. See: https://github.com/scikit-learn/scikit-learn/issues/21755 */display: inline-block !important;position: relative;}#sk-container-id-14 div.sk-text-repr-fallback {display: none;}</style><div id=\"sk-container-id-14\" class=\"sk-top-container\"><div class=\"sk-text-repr-fallback\"><pre>XGBClassifier(base_score=None, booster=None, callbacks=None,\n",
       "              colsample_bylevel=None, colsample_bynode=None,\n",
       "              colsample_bytree=None, early_stopping_rounds=None,\n",
       "              enable_categorical=False, eval_metric=None, feature_types=None,\n",
       "              gamma=0.1, gpu_id=None, grow_policy=None, importance_type=None,\n",
       "              interaction_constraints=None, learning_rate=0.6, max_bin=None,\n",
       "              max_cat_threshold=None, max_cat_to_onehot=None,\n",
       "              max_delta_step=None, max_depth=8, max_leaves=None,\n",
       "              min_child_weight=None, missing=nan, monotone_constraints=None,\n",
       "              n_estimators=65, n_jobs=None, num_parallel_tree=None,\n",
       "              objective=&#x27;multi:softprob&#x27;, predictor=None, ...)</pre><b>In a Jupyter environment, please rerun this cell to show the HTML representation or trust the notebook. <br />On GitHub, the HTML representation is unable to render, please try loading this page with nbviewer.org.</b></div><div class=\"sk-container\" hidden><div class=\"sk-item\"><div class=\"sk-estimator sk-toggleable\"><input class=\"sk-toggleable__control sk-hidden--visually\" id=\"sk-estimator-id-16\" type=\"checkbox\" checked><label for=\"sk-estimator-id-16\" class=\"sk-toggleable__label sk-toggleable__label-arrow\">XGBClassifier</label><div class=\"sk-toggleable__content\"><pre>XGBClassifier(base_score=None, booster=None, callbacks=None,\n",
       "              colsample_bylevel=None, colsample_bynode=None,\n",
       "              colsample_bytree=None, early_stopping_rounds=None,\n",
       "              enable_categorical=False, eval_metric=None, feature_types=None,\n",
       "              gamma=0.1, gpu_id=None, grow_policy=None, importance_type=None,\n",
       "              interaction_constraints=None, learning_rate=0.6, max_bin=None,\n",
       "              max_cat_threshold=None, max_cat_to_onehot=None,\n",
       "              max_delta_step=None, max_depth=8, max_leaves=None,\n",
       "              min_child_weight=None, missing=nan, monotone_constraints=None,\n",
       "              n_estimators=65, n_jobs=None, num_parallel_tree=None,\n",
       "              objective=&#x27;multi:softprob&#x27;, predictor=None, ...)</pre></div></div></div></div></div>"
      ],
      "text/plain": [
       "XGBClassifier(base_score=None, booster=None, callbacks=None,\n",
       "              colsample_bylevel=None, colsample_bynode=None,\n",
       "              colsample_bytree=None, early_stopping_rounds=None,\n",
       "              enable_categorical=False, eval_metric=None, feature_types=None,\n",
       "              gamma=0.1, gpu_id=None, grow_policy=None, importance_type=None,\n",
       "              interaction_constraints=None, learning_rate=0.6, max_bin=None,\n",
       "              max_cat_threshold=None, max_cat_to_onehot=None,\n",
       "              max_delta_step=None, max_depth=8, max_leaves=None,\n",
       "              min_child_weight=None, missing=nan, monotone_constraints=None,\n",
       "              n_estimators=65, n_jobs=None, num_parallel_tree=None,\n",
       "              objective='multi:softprob', predictor=None, ...)"
      ]
     },
     "execution_count": 107,
     "metadata": {},
     "output_type": "execute_result"
    }
   ],
   "source": [
    "# Get the best estimator\n",
    "best_estimator = XGB_searchCV.best_estimator_\n",
    "best_estimator"
   ]
  },
  {
   "cell_type": "code",
   "execution_count": 108,
   "id": "242332bf-3fd9-43ef-9f31-0a607d360199",
   "metadata": {
    "tags": []
   },
   "outputs": [
    {
     "data": {
      "text/plain": [
       "{'reg_lambda': 0.2,\n",
       " 'reg_alpha': 3.2,\n",
       " 'n_estimators': 65,\n",
       " 'max_depth': 8,\n",
       " 'learning_rate': 0.6,\n",
       " 'gamma': 0.1}"
      ]
     },
     "execution_count": 108,
     "metadata": {},
     "output_type": "execute_result"
    }
   ],
   "source": [
    "# Get the best hyperparameters\n",
    "best_parameters= XGB_searchCV.best_params_\n",
    "best_parameters"
   ]
  },
  {
   "cell_type": "code",
   "execution_count": 109,
   "id": "6ab85948-cf59-4747-b76f-f90ba42ffb4f",
   "metadata": {
    "tags": []
   },
   "outputs": [],
   "source": [
    "xgb_class_best_param = XGBClassifier(reg_lambda = 51.2,\n",
    "                                     reg_alpha = 6.4,\n",
    "                                     n_estimators = 50,\n",
    "                                     max_depth = 14,\n",
    "                                     learning_rate = 0.7,\n",
    "                                     gamma = 0.2)"
   ]
  },
  {
   "cell_type": "code",
   "execution_count": 110,
   "id": "4531a824-8a14-4e8f-8705-99e57bf7ad6a",
   "metadata": {
    "tags": []
   },
   "outputs": [
    {
     "data": {
      "text/html": [
       "<style>#sk-container-id-15 {color: black;}#sk-container-id-15 pre{padding: 0;}#sk-container-id-15 div.sk-toggleable {background-color: white;}#sk-container-id-15 label.sk-toggleable__label {cursor: pointer;display: block;width: 100%;margin-bottom: 0;padding: 0.3em;box-sizing: border-box;text-align: center;}#sk-container-id-15 label.sk-toggleable__label-arrow:before {content: \"▸\";float: left;margin-right: 0.25em;color: #696969;}#sk-container-id-15 label.sk-toggleable__label-arrow:hover:before {color: black;}#sk-container-id-15 div.sk-estimator:hover label.sk-toggleable__label-arrow:before {color: black;}#sk-container-id-15 div.sk-toggleable__content {max-height: 0;max-width: 0;overflow: hidden;text-align: left;background-color: #f0f8ff;}#sk-container-id-15 div.sk-toggleable__content pre {margin: 0.2em;color: black;border-radius: 0.25em;background-color: #f0f8ff;}#sk-container-id-15 input.sk-toggleable__control:checked~div.sk-toggleable__content {max-height: 200px;max-width: 100%;overflow: auto;}#sk-container-id-15 input.sk-toggleable__control:checked~label.sk-toggleable__label-arrow:before {content: \"▾\";}#sk-container-id-15 div.sk-estimator input.sk-toggleable__control:checked~label.sk-toggleable__label {background-color: #d4ebff;}#sk-container-id-15 div.sk-label input.sk-toggleable__control:checked~label.sk-toggleable__label {background-color: #d4ebff;}#sk-container-id-15 input.sk-hidden--visually {border: 0;clip: rect(1px 1px 1px 1px);clip: rect(1px, 1px, 1px, 1px);height: 1px;margin: -1px;overflow: hidden;padding: 0;position: absolute;width: 1px;}#sk-container-id-15 div.sk-estimator {font-family: monospace;background-color: #f0f8ff;border: 1px dotted black;border-radius: 0.25em;box-sizing: border-box;margin-bottom: 0.5em;}#sk-container-id-15 div.sk-estimator:hover {background-color: #d4ebff;}#sk-container-id-15 div.sk-parallel-item::after {content: \"\";width: 100%;border-bottom: 1px solid gray;flex-grow: 1;}#sk-container-id-15 div.sk-label:hover label.sk-toggleable__label {background-color: #d4ebff;}#sk-container-id-15 div.sk-serial::before {content: \"\";position: absolute;border-left: 1px solid gray;box-sizing: border-box;top: 0;bottom: 0;left: 50%;z-index: 0;}#sk-container-id-15 div.sk-serial {display: flex;flex-direction: column;align-items: center;background-color: white;padding-right: 0.2em;padding-left: 0.2em;position: relative;}#sk-container-id-15 div.sk-item {position: relative;z-index: 1;}#sk-container-id-15 div.sk-parallel {display: flex;align-items: stretch;justify-content: center;background-color: white;position: relative;}#sk-container-id-15 div.sk-item::before, #sk-container-id-15 div.sk-parallel-item::before {content: \"\";position: absolute;border-left: 1px solid gray;box-sizing: border-box;top: 0;bottom: 0;left: 50%;z-index: -1;}#sk-container-id-15 div.sk-parallel-item {display: flex;flex-direction: column;z-index: 1;position: relative;background-color: white;}#sk-container-id-15 div.sk-parallel-item:first-child::after {align-self: flex-end;width: 50%;}#sk-container-id-15 div.sk-parallel-item:last-child::after {align-self: flex-start;width: 50%;}#sk-container-id-15 div.sk-parallel-item:only-child::after {width: 0;}#sk-container-id-15 div.sk-dashed-wrapped {border: 1px dashed gray;margin: 0 0.4em 0.5em 0.4em;box-sizing: border-box;padding-bottom: 0.4em;background-color: white;}#sk-container-id-15 div.sk-label label {font-family: monospace;font-weight: bold;display: inline-block;line-height: 1.2em;}#sk-container-id-15 div.sk-label-container {text-align: center;}#sk-container-id-15 div.sk-container {/* jupyter's `normalize.less` sets `[hidden] { display: none; }` but bootstrap.min.css set `[hidden] { display: none !important; }` so we also need the `!important` here to be able to override the default hidden behavior on the sphinx rendered scikit-learn.org. See: https://github.com/scikit-learn/scikit-learn/issues/21755 */display: inline-block !important;position: relative;}#sk-container-id-15 div.sk-text-repr-fallback {display: none;}</style><div id=\"sk-container-id-15\" class=\"sk-top-container\"><div class=\"sk-text-repr-fallback\"><pre>XGBClassifier(base_score=None, booster=None, callbacks=None,\n",
       "              colsample_bylevel=None, colsample_bynode=None,\n",
       "              colsample_bytree=None, early_stopping_rounds=None,\n",
       "              enable_categorical=False, eval_metric=None, feature_types=None,\n",
       "              gamma=0.2, gpu_id=None, grow_policy=None, importance_type=None,\n",
       "              interaction_constraints=None, learning_rate=0.7, max_bin=None,\n",
       "              max_cat_threshold=None, max_cat_to_onehot=None,\n",
       "              max_delta_step=None, max_depth=14, max_leaves=None,\n",
       "              min_child_weight=None, missing=nan, monotone_constraints=None,\n",
       "              n_estimators=50, n_jobs=None, num_parallel_tree=None,\n",
       "              objective=&#x27;multi:softprob&#x27;, predictor=None, ...)</pre><b>In a Jupyter environment, please rerun this cell to show the HTML representation or trust the notebook. <br />On GitHub, the HTML representation is unable to render, please try loading this page with nbviewer.org.</b></div><div class=\"sk-container\" hidden><div class=\"sk-item\"><div class=\"sk-estimator sk-toggleable\"><input class=\"sk-toggleable__control sk-hidden--visually\" id=\"sk-estimator-id-17\" type=\"checkbox\" checked><label for=\"sk-estimator-id-17\" class=\"sk-toggleable__label sk-toggleable__label-arrow\">XGBClassifier</label><div class=\"sk-toggleable__content\"><pre>XGBClassifier(base_score=None, booster=None, callbacks=None,\n",
       "              colsample_bylevel=None, colsample_bynode=None,\n",
       "              colsample_bytree=None, early_stopping_rounds=None,\n",
       "              enable_categorical=False, eval_metric=None, feature_types=None,\n",
       "              gamma=0.2, gpu_id=None, grow_policy=None, importance_type=None,\n",
       "              interaction_constraints=None, learning_rate=0.7, max_bin=None,\n",
       "              max_cat_threshold=None, max_cat_to_onehot=None,\n",
       "              max_delta_step=None, max_depth=14, max_leaves=None,\n",
       "              min_child_weight=None, missing=nan, monotone_constraints=None,\n",
       "              n_estimators=50, n_jobs=None, num_parallel_tree=None,\n",
       "              objective=&#x27;multi:softprob&#x27;, predictor=None, ...)</pre></div></div></div></div></div>"
      ],
      "text/plain": [
       "XGBClassifier(base_score=None, booster=None, callbacks=None,\n",
       "              colsample_bylevel=None, colsample_bynode=None,\n",
       "              colsample_bytree=None, early_stopping_rounds=None,\n",
       "              enable_categorical=False, eval_metric=None, feature_types=None,\n",
       "              gamma=0.2, gpu_id=None, grow_policy=None, importance_type=None,\n",
       "              interaction_constraints=None, learning_rate=0.7, max_bin=None,\n",
       "              max_cat_threshold=None, max_cat_to_onehot=None,\n",
       "              max_delta_step=None, max_depth=14, max_leaves=None,\n",
       "              min_child_weight=None, missing=nan, monotone_constraints=None,\n",
       "              n_estimators=50, n_jobs=None, num_parallel_tree=None,\n",
       "              objective='multi:softprob', predictor=None, ...)"
      ]
     },
     "execution_count": 110,
     "metadata": {},
     "output_type": "execute_result"
    }
   ],
   "source": [
    "xgb_class_best_param.fit(X_train_xgb, y_train_xgb)"
   ]
  },
  {
   "cell_type": "code",
   "execution_count": 111,
   "id": "7423a123-b90a-4966-9265-cd4fed812bea",
   "metadata": {
    "tags": []
   },
   "outputs": [
    {
     "data": {
      "text/plain": [
       "array([1, 0, 0, 2, 2, 2, 0, 0, 1, 2, 0, 0, 2, 2, 2, 2, 2, 1, 0, 0, 0, 2,\n",
       "       2, 1, 2, 0, 1, 1, 2, 1, 2, 1, 1, 1, 0, 0, 2, 0, 1, 0, 2, 0, 2, 1,\n",
       "       2, 0, 1, 0, 0, 0, 0, 1, 2, 1, 1, 1, 2, 1, 2, 1, 2, 1, 1, 2, 1, 2,\n",
       "       2, 2, 1, 0, 0, 2, 0, 0, 0, 2, 1, 0, 1, 2, 1, 0, 2, 0, 1, 1, 2, 1,\n",
       "       2, 0, 1, 2, 2, 1, 0, 0, 1, 2, 0, 1, 0, 0, 0, 2, 2, 2, 0, 2, 1, 1,\n",
       "       2, 1, 2, 2, 1, 1, 2, 2, 0, 0, 2, 0, 1, 1, 0, 2, 0, 0, 0, 2, 1, 0,\n",
       "       0, 1, 0, 2, 2, 2, 1, 2, 1, 2, 1, 0, 0, 2, 2, 0, 0, 1, 2, 2, 2, 1,\n",
       "       0, 0, 2, 0, 2, 1, 1, 1, 2, 2, 0, 0, 2, 2, 0, 2, 2, 2, 0, 1, 0, 2,\n",
       "       1, 0, 2, 1, 1, 1, 2, 1, 0, 1, 1, 0, 0, 0, 1, 1, 2, 1, 0, 0, 1, 1,\n",
       "       0, 0, 0, 2, 1, 2, 1, 1, 0, 0, 0, 2, 1, 1, 2, 0, 2, 1, 0, 0, 0, 2,\n",
       "       1, 1, 0, 1, 1, 2, 1, 0, 1, 2, 1, 0, 2, 0, 1, 2, 0, 2, 2, 0, 0, 1,\n",
       "       0, 0, 2, 1, 0, 2, 2, 1, 1, 2, 0, 1, 1, 0, 1, 0, 0, 2, 1, 2, 1, 1,\n",
       "       0, 0, 0, 0, 1, 0, 1, 2, 2, 2, 2, 2, 2, 0, 0, 0, 0, 0, 1, 2, 1, 2,\n",
       "       1, 1, 2, 2, 1, 0, 1, 1, 0, 0, 2, 1, 0, 1, 1, 2, 0, 0, 0, 2, 1, 1,\n",
       "       0, 1, 2, 2, 2, 1, 0, 0, 1, 1, 2, 0, 2, 1, 0, 0, 0, 1, 1, 2, 0, 1,\n",
       "       2, 0, 0, 0, 1, 2, 1, 1, 0, 2, 1, 2, 0, 2, 0, 1, 1, 0, 2, 1, 2, 2,\n",
       "       1, 1, 0, 0, 1, 0, 2, 2, 2, 1, 0, 0, 2, 2, 0, 2, 2, 2, 0, 1, 0, 1,\n",
       "       2, 0, 2, 0, 0, 1, 2, 2, 2, 0, 1, 2, 2, 0, 0, 1, 0, 0, 2, 2, 1, 1,\n",
       "       1, 0, 1, 0, 2, 1, 2, 2, 0, 2, 2, 1, 2, 2, 2, 0, 0, 2, 1, 1, 0, 0,\n",
       "       2, 1, 2, 1, 0, 2, 1, 2, 1, 1, 2, 0, 1, 1, 0, 1, 0, 0, 0, 0, 1, 0,\n",
       "       1, 1, 2, 2, 0, 1, 1, 1, 1, 2, 0, 2, 0, 2, 0, 1, 0, 0, 1, 2, 1, 0,\n",
       "       2, 0, 2, 2, 2, 2, 0, 0, 1, 0, 1, 0, 0, 2, 0, 0, 1, 0, 1, 0, 1, 0,\n",
       "       1, 2, 0, 1, 1, 0, 1, 0, 0, 2, 0, 0, 1, 0, 2, 2, 1, 0, 2, 1, 2, 1,\n",
       "       0, 2, 0, 2, 1, 2, 2, 0, 2, 2, 2, 2, 0, 0, 2, 1, 2, 0, 2],\n",
       "      dtype=int64)"
      ]
     },
     "execution_count": 111,
     "metadata": {},
     "output_type": "execute_result"
    }
   ],
   "source": [
    "# predicting the model with testing data \n",
    "xgb_class_best_param_pred = xgb_class_best_param.predict(X_test)\n",
    "xgb_class_best_param_pred"
   ]
  },
  {
   "cell_type": "code",
   "execution_count": 112,
   "id": "a23b37d0-f103-458b-9981-5620eb4314a1",
   "metadata": {
    "tags": []
   },
   "outputs": [
    {
     "data": {
      "text/plain": [
       "0.9047619047619048"
      ]
     },
     "execution_count": 112,
     "metadata": {},
     "output_type": "execute_result"
    }
   ],
   "source": [
    "xgb_class_best_param_acc_score = accuracy_score(y_test_xgb, xgb_class_best_param_pred)\n",
    "xgb_class_best_param_acc_score"
   ]
  },
  {
   "cell_type": "markdown",
   "id": "78c9f2aa-a638-4509-8e57-fb3658a6e519",
   "metadata": {},
   "source": [
    "# <span style=\"background-color: #D32D41; padding: 5px;\">3. LogisticRegression Hyperparameter Tuning"
   ]
  },
  {
   "cell_type": "code",
   "execution_count": 113,
   "id": "49516945-b9ef-4622-8cb1-88e9c25bc74b",
   "metadata": {
    "tags": []
   },
   "outputs": [],
   "source": [
    "# importing the necessary libraries\n",
    "from sklearn.linear_model import LogisticRegression\n",
    "from sklearn.model_selection import RandomizedSearchCV"
   ]
  },
  {
   "cell_type": "code",
   "execution_count": 114,
   "id": "d7b06ae7-1415-41a7-8af3-93a96d6a8548",
   "metadata": {
    "tags": []
   },
   "outputs": [],
   "source": [
    "param = {\n",
    "    \"penalty\" : ['l2'], # L1 or L2 (Regularization penality)\n",
    "    \"C\"       : list(np.logspace(-3, 3, 7)), # Inverse of regularization strength\n",
    "    'solver'  : ['liblinear', 'lbfgs', 'saga', 'newton-cg'],\n",
    "    'max_iter': [100, 200, 300]\n",
    "}"
   ]
  },
  {
   "cell_type": "code",
   "execution_count": 115,
   "id": "fa0f97df-900d-446f-ba64-8a77791f06b5",
   "metadata": {
    "tags": []
   },
   "outputs": [],
   "source": [
    "# saving the model\n",
    "logistic_reg_hyp = LogisticRegression()"
   ]
  },
  {
   "cell_type": "code",
   "execution_count": 116,
   "id": "e8c6277e-0cf8-4453-ab83-1b136f1a4738",
   "metadata": {
    "tags": []
   },
   "outputs": [],
   "source": [
    "logistic_reg_seachCV = RandomizedSearchCV(\n",
    "                estimator  =logistic_reg_hyp,\n",
    "                param_distributions = param,\n",
    "                scoring    ='accuracy',\n",
    "                n_iter     =100,\n",
    "                cv         =10,\n",
    "                verbose    =2,\n",
    "                n_jobs     =-1,\n",
    "                error_score='raise'\n",
    ")"
   ]
  },
  {
   "cell_type": "code",
   "execution_count": 117,
   "id": "52706190-0259-417a-96d9-081c999bd269",
   "metadata": {
    "tags": []
   },
   "outputs": [
    {
     "name": "stdout",
     "output_type": "stream",
     "text": [
      "Fitting 10 folds for each of 84 candidates, totalling 840 fits\n"
     ]
    },
    {
     "data": {
      "text/html": [
       "<style>#sk-container-id-16 {color: black;}#sk-container-id-16 pre{padding: 0;}#sk-container-id-16 div.sk-toggleable {background-color: white;}#sk-container-id-16 label.sk-toggleable__label {cursor: pointer;display: block;width: 100%;margin-bottom: 0;padding: 0.3em;box-sizing: border-box;text-align: center;}#sk-container-id-16 label.sk-toggleable__label-arrow:before {content: \"▸\";float: left;margin-right: 0.25em;color: #696969;}#sk-container-id-16 label.sk-toggleable__label-arrow:hover:before {color: black;}#sk-container-id-16 div.sk-estimator:hover label.sk-toggleable__label-arrow:before {color: black;}#sk-container-id-16 div.sk-toggleable__content {max-height: 0;max-width: 0;overflow: hidden;text-align: left;background-color: #f0f8ff;}#sk-container-id-16 div.sk-toggleable__content pre {margin: 0.2em;color: black;border-radius: 0.25em;background-color: #f0f8ff;}#sk-container-id-16 input.sk-toggleable__control:checked~div.sk-toggleable__content {max-height: 200px;max-width: 100%;overflow: auto;}#sk-container-id-16 input.sk-toggleable__control:checked~label.sk-toggleable__label-arrow:before {content: \"▾\";}#sk-container-id-16 div.sk-estimator input.sk-toggleable__control:checked~label.sk-toggleable__label {background-color: #d4ebff;}#sk-container-id-16 div.sk-label input.sk-toggleable__control:checked~label.sk-toggleable__label {background-color: #d4ebff;}#sk-container-id-16 input.sk-hidden--visually {border: 0;clip: rect(1px 1px 1px 1px);clip: rect(1px, 1px, 1px, 1px);height: 1px;margin: -1px;overflow: hidden;padding: 0;position: absolute;width: 1px;}#sk-container-id-16 div.sk-estimator {font-family: monospace;background-color: #f0f8ff;border: 1px dotted black;border-radius: 0.25em;box-sizing: border-box;margin-bottom: 0.5em;}#sk-container-id-16 div.sk-estimator:hover {background-color: #d4ebff;}#sk-container-id-16 div.sk-parallel-item::after {content: \"\";width: 100%;border-bottom: 1px solid gray;flex-grow: 1;}#sk-container-id-16 div.sk-label:hover label.sk-toggleable__label {background-color: #d4ebff;}#sk-container-id-16 div.sk-serial::before {content: \"\";position: absolute;border-left: 1px solid gray;box-sizing: border-box;top: 0;bottom: 0;left: 50%;z-index: 0;}#sk-container-id-16 div.sk-serial {display: flex;flex-direction: column;align-items: center;background-color: white;padding-right: 0.2em;padding-left: 0.2em;position: relative;}#sk-container-id-16 div.sk-item {position: relative;z-index: 1;}#sk-container-id-16 div.sk-parallel {display: flex;align-items: stretch;justify-content: center;background-color: white;position: relative;}#sk-container-id-16 div.sk-item::before, #sk-container-id-16 div.sk-parallel-item::before {content: \"\";position: absolute;border-left: 1px solid gray;box-sizing: border-box;top: 0;bottom: 0;left: 50%;z-index: -1;}#sk-container-id-16 div.sk-parallel-item {display: flex;flex-direction: column;z-index: 1;position: relative;background-color: white;}#sk-container-id-16 div.sk-parallel-item:first-child::after {align-self: flex-end;width: 50%;}#sk-container-id-16 div.sk-parallel-item:last-child::after {align-self: flex-start;width: 50%;}#sk-container-id-16 div.sk-parallel-item:only-child::after {width: 0;}#sk-container-id-16 div.sk-dashed-wrapped {border: 1px dashed gray;margin: 0 0.4em 0.5em 0.4em;box-sizing: border-box;padding-bottom: 0.4em;background-color: white;}#sk-container-id-16 div.sk-label label {font-family: monospace;font-weight: bold;display: inline-block;line-height: 1.2em;}#sk-container-id-16 div.sk-label-container {text-align: center;}#sk-container-id-16 div.sk-container {/* jupyter's `normalize.less` sets `[hidden] { display: none; }` but bootstrap.min.css set `[hidden] { display: none !important; }` so we also need the `!important` here to be able to override the default hidden behavior on the sphinx rendered scikit-learn.org. See: https://github.com/scikit-learn/scikit-learn/issues/21755 */display: inline-block !important;position: relative;}#sk-container-id-16 div.sk-text-repr-fallback {display: none;}</style><div id=\"sk-container-id-16\" class=\"sk-top-container\"><div class=\"sk-text-repr-fallback\"><pre>RandomizedSearchCV(cv=10, error_score=&#x27;raise&#x27;, estimator=LogisticRegression(),\n",
       "                   n_iter=100, n_jobs=-1,\n",
       "                   param_distributions={&#x27;C&#x27;: [0.001, 0.01, 0.1, 1.0, 10.0,\n",
       "                                              100.0, 1000.0],\n",
       "                                        &#x27;max_iter&#x27;: [100, 200, 300],\n",
       "                                        &#x27;penalty&#x27;: [&#x27;l2&#x27;],\n",
       "                                        &#x27;solver&#x27;: [&#x27;liblinear&#x27;, &#x27;lbfgs&#x27;, &#x27;saga&#x27;,\n",
       "                                                   &#x27;newton-cg&#x27;]},\n",
       "                   scoring=&#x27;accuracy&#x27;, verbose=2)</pre><b>In a Jupyter environment, please rerun this cell to show the HTML representation or trust the notebook. <br />On GitHub, the HTML representation is unable to render, please try loading this page with nbviewer.org.</b></div><div class=\"sk-container\" hidden><div class=\"sk-item sk-dashed-wrapped\"><div class=\"sk-label-container\"><div class=\"sk-label sk-toggleable\"><input class=\"sk-toggleable__control sk-hidden--visually\" id=\"sk-estimator-id-18\" type=\"checkbox\" ><label for=\"sk-estimator-id-18\" class=\"sk-toggleable__label sk-toggleable__label-arrow\">RandomizedSearchCV</label><div class=\"sk-toggleable__content\"><pre>RandomizedSearchCV(cv=10, error_score=&#x27;raise&#x27;, estimator=LogisticRegression(),\n",
       "                   n_iter=100, n_jobs=-1,\n",
       "                   param_distributions={&#x27;C&#x27;: [0.001, 0.01, 0.1, 1.0, 10.0,\n",
       "                                              100.0, 1000.0],\n",
       "                                        &#x27;max_iter&#x27;: [100, 200, 300],\n",
       "                                        &#x27;penalty&#x27;: [&#x27;l2&#x27;],\n",
       "                                        &#x27;solver&#x27;: [&#x27;liblinear&#x27;, &#x27;lbfgs&#x27;, &#x27;saga&#x27;,\n",
       "                                                   &#x27;newton-cg&#x27;]},\n",
       "                   scoring=&#x27;accuracy&#x27;, verbose=2)</pre></div></div></div><div class=\"sk-parallel\"><div class=\"sk-parallel-item\"><div class=\"sk-item\"><div class=\"sk-label-container\"><div class=\"sk-label sk-toggleable\"><input class=\"sk-toggleable__control sk-hidden--visually\" id=\"sk-estimator-id-19\" type=\"checkbox\" ><label for=\"sk-estimator-id-19\" class=\"sk-toggleable__label sk-toggleable__label-arrow\">estimator: LogisticRegression</label><div class=\"sk-toggleable__content\"><pre>LogisticRegression()</pre></div></div></div><div class=\"sk-serial\"><div class=\"sk-item\"><div class=\"sk-estimator sk-toggleable\"><input class=\"sk-toggleable__control sk-hidden--visually\" id=\"sk-estimator-id-20\" type=\"checkbox\" ><label for=\"sk-estimator-id-20\" class=\"sk-toggleable__label sk-toggleable__label-arrow\">LogisticRegression</label><div class=\"sk-toggleable__content\"><pre>LogisticRegression()</pre></div></div></div></div></div></div></div></div></div></div>"
      ],
      "text/plain": [
       "RandomizedSearchCV(cv=10, error_score='raise', estimator=LogisticRegression(),\n",
       "                   n_iter=100, n_jobs=-1,\n",
       "                   param_distributions={'C': [0.001, 0.01, 0.1, 1.0, 10.0,\n",
       "                                              100.0, 1000.0],\n",
       "                                        'max_iter': [100, 200, 300],\n",
       "                                        'penalty': ['l2'],\n",
       "                                        'solver': ['liblinear', 'lbfgs', 'saga',\n",
       "                                                   'newton-cg']},\n",
       "                   scoring='accuracy', verbose=2)"
      ]
     },
     "execution_count": 117,
     "metadata": {},
     "output_type": "execute_result"
    }
   ],
   "source": [
    "# training the model with traning the model with traning dataset\n",
    "logistic_reg_seachCV.fit(X_train,y_train)"
   ]
  },
  {
   "cell_type": "code",
   "execution_count": 118,
   "id": "518795f6-b13a-4280-a715-b3a8443ef56f",
   "metadata": {
    "tags": []
   },
   "outputs": [
    {
     "data": {
      "text/plain": [
       "{'solver': 'liblinear', 'penalty': 'l2', 'max_iter': 100, 'C': 1.0}"
      ]
     },
     "execution_count": 118,
     "metadata": {},
     "output_type": "execute_result"
    }
   ],
   "source": [
    "# Get the best hyperparameters\n",
    "best_parameters= logistic_reg_seachCV.best_params_\n",
    "best_parameters"
   ]
  },
  {
   "cell_type": "code",
   "execution_count": 119,
   "id": "3909e170-52c0-4c81-9bc8-4922ced01802",
   "metadata": {
    "tags": []
   },
   "outputs": [
    {
     "data": {
      "text/plain": [
       "array([3, 2, 2, 4, 4, 4, 2, 2, 3, 4, 2, 2, 4, 4, 4, 4, 4, 3, 3, 2, 2, 4,\n",
       "       4, 3, 4, 2, 3, 2, 4, 4, 4, 4, 3, 3, 2, 2, 4, 2, 3, 2, 4, 2, 4, 4,\n",
       "       4, 2, 3, 2, 2, 2, 2, 2, 4, 2, 3, 3, 4, 3, 4, 3, 4, 3, 3, 4, 2, 4,\n",
       "       4, 4, 2, 2, 2, 4, 2, 4, 2, 4, 3, 2, 3, 4, 3, 2, 4, 2, 3, 3, 4, 3,\n",
       "       4, 2, 3, 4, 4, 3, 2, 3, 3, 4, 2, 3, 2, 2, 2, 4, 4, 4, 2, 4, 3, 2,\n",
       "       4, 3, 4, 4, 3, 3, 4, 4, 2, 2, 4, 2, 2, 3, 2, 4, 2, 2, 2, 4, 3, 2,\n",
       "       2, 4, 2, 4, 4, 4, 4, 4, 3, 4, 2, 2, 2, 4, 4, 4, 2, 3, 4, 4, 2, 3,\n",
       "       2, 2, 4, 2, 4, 3, 3, 3, 2, 4, 2, 2, 4, 4, 2, 4, 4, 4, 2, 3, 2, 2,\n",
       "       3, 2, 4, 3, 3, 3, 4, 3, 2, 4, 3, 2, 2, 2, 3, 3, 4, 3, 2, 2, 3, 2,\n",
       "       2, 2, 2, 4, 3, 4, 3, 3, 2, 2, 2, 4, 3, 3, 4, 4, 4, 2, 2, 2, 2, 4,\n",
       "       3, 3, 2, 3, 3, 2, 3, 2, 3, 4, 3, 2, 4, 2, 3, 4, 2, 4, 4, 2, 2, 3,\n",
       "       2, 2, 4, 3, 2, 4, 4, 2, 3, 3, 2, 3, 3, 4, 3, 2, 2, 4, 4, 2, 2, 3,\n",
       "       2, 2, 2, 2, 3, 4, 3, 4, 4, 4, 4, 4, 4, 2, 2, 2, 2, 2, 3, 4, 3, 4,\n",
       "       2, 3, 4, 4, 4, 2, 3, 3, 2, 4, 4, 3, 2, 2, 3, 4, 2, 2, 2, 3, 3, 3,\n",
       "       4, 3, 4, 4, 4, 3, 2, 2, 2, 3, 4, 2, 4, 3, 2, 2, 2, 3, 3, 4, 2, 3,\n",
       "       4, 2, 2, 2, 3, 4, 3, 3, 3, 4, 3, 4, 2, 4, 2, 2, 3, 2, 4, 3, 4, 4,\n",
       "       3, 4, 2, 2, 3, 2, 4, 4, 4, 3, 2, 2, 4, 3, 2, 4, 4, 2, 2, 3, 2, 3,\n",
       "       4, 2, 4, 2, 2, 3, 4, 4, 2, 2, 3, 4, 4, 2, 2, 3, 2, 2, 4, 4, 3, 3,\n",
       "       3, 2, 2, 2, 4, 3, 4, 4, 2, 4, 4, 3, 4, 4, 4, 2, 2, 3, 3, 3, 2, 2,\n",
       "       4, 3, 4, 3, 3, 4, 3, 4, 3, 3, 4, 2, 4, 3, 2, 3, 4, 2, 2, 4, 3, 2,\n",
       "       3, 2, 4, 4, 2, 3, 2, 2, 3, 4, 2, 4, 2, 4, 2, 3, 2, 2, 2, 4, 3, 2,\n",
       "       4, 2, 4, 4, 4, 4, 2, 2, 3, 2, 4, 2, 2, 4, 2, 3, 4, 2, 3, 2, 3, 2,\n",
       "       3, 4, 3, 3, 3, 2, 3, 2, 2, 4, 3, 2, 3, 2, 4, 4, 3, 2, 4, 3, 4, 3,\n",
       "       2, 4, 2, 4, 2, 4, 4, 2, 4, 4, 4, 4, 2, 2, 4, 3, 4, 2, 4],\n",
       "      dtype=int64)"
      ]
     },
     "execution_count": 119,
     "metadata": {},
     "output_type": "execute_result"
    }
   ],
   "source": [
    "# dchecking the predicted values \n",
    "logistic_best_param_pred = logistic_reg_seachCV.predict(X_test)\n",
    "logistic_best_param_pred"
   ]
  },
  {
   "cell_type": "code",
   "execution_count": 120,
   "id": "84bedeaf-1bae-4fbf-bf4b-4d625aeeac9f",
   "metadata": {
    "tags": []
   },
   "outputs": [
    {
     "data": {
      "text/plain": [
       "0.8342857142857143"
      ]
     },
     "execution_count": 120,
     "metadata": {},
     "output_type": "execute_result"
    }
   ],
   "source": [
    "# checking the accuracy score \n",
    "logistic_best_param_acc_score = accuracy_score(y_test, logistic_best_param_pred)\n",
    "logistic_best_param_acc_score"
   ]
  },
  {
   "cell_type": "markdown",
   "id": "08bf0c09-c645-4757-8ee0-6e1cebd7f276",
   "metadata": {},
   "source": [
    "# <span style=\"background-color: #D32D41; padding: 5px;\">4. AdaBoost Classifier Hyper Parameter Tuning"
   ]
  },
  {
   "cell_type": "code",
   "execution_count": 121,
   "id": "00567b7e-4ca1-4b98-8763-3bb270966f87",
   "metadata": {
    "tags": []
   },
   "outputs": [],
   "source": [
    "# importing the necessary libraries\n",
    "from sklearn.ensemble import AdaBoostClassifier\n",
    "from sklearn.model_selection import RandomizedSearchCV"
   ]
  },
  {
   "cell_type": "code",
   "execution_count": 122,
   "id": "059ba907-6083-4845-a8d2-51469e9d7cb5",
   "metadata": {
    "tags": []
   },
   "outputs": [],
   "source": [
    "# Create a base decision tree classifier\n",
    "base_estimator = DecisionTreeClassifier()\n",
    "\n",
    "# Initialize AdaBoostClassifier with the base estimator\n",
    "adaboost_class_hyp_tun = AdaBoostClassifier(base_estimator=base_estimator)\n"
   ]
  },
  {
   "cell_type": "code",
   "execution_count": 123,
   "id": "2d13cd1d-79b2-4c34-93f7-a4766e7a849f",
   "metadata": {
    "tags": []
   },
   "outputs": [],
   "source": [
    "param_grid = {\n",
    "    'n_estimators': [50, 100, 150, 200],       # Number of base estimators\n",
    "    'learning_rate': [0.01, 0.1, 0.2, 0.3],    # Learning rate for weight adjustment\n",
    "    'base_estimator__max_depth': [1, 2, 3],    # Maximum depth of base decision tree\n",
    "}\n"
   ]
  },
  {
   "cell_type": "code",
   "execution_count": 124,
   "id": "45b18910-064f-4128-a808-bed07bbdfd59",
   "metadata": {
    "tags": []
   },
   "outputs": [],
   "source": [
    "# Initialize RandomizedSearchCV for hyperparameter tuning\n",
    "adaboost_searchCV = RandomizedSearchCV(\n",
    "    estimator            =adaboost_class_hyp_tun,      # Base model\n",
    "    param_distributions  =param_grid,# Hyperparameter grid for search\n",
    "    scoring              ='accuracy',    # Scoring metric for evaluation\n",
    "    n_iter               =10,           # Number of random combinations to try\n",
    "    cv                   =10,             # Number of cross-validation folds\n",
    "    verbose              =2,             # Verbosity level for output\n",
    "    random_state         =42,            # Random seed for reproducibility\n",
    "    n_jobs               =-1             # Number of CPU cores to use for parallel processing\n",
    ")"
   ]
  },
  {
   "cell_type": "code",
   "execution_count": 125,
   "id": "56b10a9f-57f6-4c37-9f3f-be2310a5e73a",
   "metadata": {
    "tags": []
   },
   "outputs": [
    {
     "name": "stdout",
     "output_type": "stream",
     "text": [
      "Fitting 10 folds for each of 10 candidates, totalling 100 fits\n"
     ]
    },
    {
     "data": {
      "text/html": [
       "<style>#sk-container-id-17 {color: black;}#sk-container-id-17 pre{padding: 0;}#sk-container-id-17 div.sk-toggleable {background-color: white;}#sk-container-id-17 label.sk-toggleable__label {cursor: pointer;display: block;width: 100%;margin-bottom: 0;padding: 0.3em;box-sizing: border-box;text-align: center;}#sk-container-id-17 label.sk-toggleable__label-arrow:before {content: \"▸\";float: left;margin-right: 0.25em;color: #696969;}#sk-container-id-17 label.sk-toggleable__label-arrow:hover:before {color: black;}#sk-container-id-17 div.sk-estimator:hover label.sk-toggleable__label-arrow:before {color: black;}#sk-container-id-17 div.sk-toggleable__content {max-height: 0;max-width: 0;overflow: hidden;text-align: left;background-color: #f0f8ff;}#sk-container-id-17 div.sk-toggleable__content pre {margin: 0.2em;color: black;border-radius: 0.25em;background-color: #f0f8ff;}#sk-container-id-17 input.sk-toggleable__control:checked~div.sk-toggleable__content {max-height: 200px;max-width: 100%;overflow: auto;}#sk-container-id-17 input.sk-toggleable__control:checked~label.sk-toggleable__label-arrow:before {content: \"▾\";}#sk-container-id-17 div.sk-estimator input.sk-toggleable__control:checked~label.sk-toggleable__label {background-color: #d4ebff;}#sk-container-id-17 div.sk-label input.sk-toggleable__control:checked~label.sk-toggleable__label {background-color: #d4ebff;}#sk-container-id-17 input.sk-hidden--visually {border: 0;clip: rect(1px 1px 1px 1px);clip: rect(1px, 1px, 1px, 1px);height: 1px;margin: -1px;overflow: hidden;padding: 0;position: absolute;width: 1px;}#sk-container-id-17 div.sk-estimator {font-family: monospace;background-color: #f0f8ff;border: 1px dotted black;border-radius: 0.25em;box-sizing: border-box;margin-bottom: 0.5em;}#sk-container-id-17 div.sk-estimator:hover {background-color: #d4ebff;}#sk-container-id-17 div.sk-parallel-item::after {content: \"\";width: 100%;border-bottom: 1px solid gray;flex-grow: 1;}#sk-container-id-17 div.sk-label:hover label.sk-toggleable__label {background-color: #d4ebff;}#sk-container-id-17 div.sk-serial::before {content: \"\";position: absolute;border-left: 1px solid gray;box-sizing: border-box;top: 0;bottom: 0;left: 50%;z-index: 0;}#sk-container-id-17 div.sk-serial {display: flex;flex-direction: column;align-items: center;background-color: white;padding-right: 0.2em;padding-left: 0.2em;position: relative;}#sk-container-id-17 div.sk-item {position: relative;z-index: 1;}#sk-container-id-17 div.sk-parallel {display: flex;align-items: stretch;justify-content: center;background-color: white;position: relative;}#sk-container-id-17 div.sk-item::before, #sk-container-id-17 div.sk-parallel-item::before {content: \"\";position: absolute;border-left: 1px solid gray;box-sizing: border-box;top: 0;bottom: 0;left: 50%;z-index: -1;}#sk-container-id-17 div.sk-parallel-item {display: flex;flex-direction: column;z-index: 1;position: relative;background-color: white;}#sk-container-id-17 div.sk-parallel-item:first-child::after {align-self: flex-end;width: 50%;}#sk-container-id-17 div.sk-parallel-item:last-child::after {align-self: flex-start;width: 50%;}#sk-container-id-17 div.sk-parallel-item:only-child::after {width: 0;}#sk-container-id-17 div.sk-dashed-wrapped {border: 1px dashed gray;margin: 0 0.4em 0.5em 0.4em;box-sizing: border-box;padding-bottom: 0.4em;background-color: white;}#sk-container-id-17 div.sk-label label {font-family: monospace;font-weight: bold;display: inline-block;line-height: 1.2em;}#sk-container-id-17 div.sk-label-container {text-align: center;}#sk-container-id-17 div.sk-container {/* jupyter's `normalize.less` sets `[hidden] { display: none; }` but bootstrap.min.css set `[hidden] { display: none !important; }` so we also need the `!important` here to be able to override the default hidden behavior on the sphinx rendered scikit-learn.org. See: https://github.com/scikit-learn/scikit-learn/issues/21755 */display: inline-block !important;position: relative;}#sk-container-id-17 div.sk-text-repr-fallback {display: none;}</style><div id=\"sk-container-id-17\" class=\"sk-top-container\"><div class=\"sk-text-repr-fallback\"><pre>RandomizedSearchCV(cv=10,\n",
       "                   estimator=AdaBoostClassifier(base_estimator=DecisionTreeClassifier()),\n",
       "                   n_jobs=-1,\n",
       "                   param_distributions={&#x27;base_estimator__max_depth&#x27;: [1, 2, 3],\n",
       "                                        &#x27;learning_rate&#x27;: [0.01, 0.1, 0.2, 0.3],\n",
       "                                        &#x27;n_estimators&#x27;: [50, 100, 150, 200]},\n",
       "                   random_state=42, scoring=&#x27;accuracy&#x27;, verbose=2)</pre><b>In a Jupyter environment, please rerun this cell to show the HTML representation or trust the notebook. <br />On GitHub, the HTML representation is unable to render, please try loading this page with nbviewer.org.</b></div><div class=\"sk-container\" hidden><div class=\"sk-item sk-dashed-wrapped\"><div class=\"sk-label-container\"><div class=\"sk-label sk-toggleable\"><input class=\"sk-toggleable__control sk-hidden--visually\" id=\"sk-estimator-id-21\" type=\"checkbox\" ><label for=\"sk-estimator-id-21\" class=\"sk-toggleable__label sk-toggleable__label-arrow\">RandomizedSearchCV</label><div class=\"sk-toggleable__content\"><pre>RandomizedSearchCV(cv=10,\n",
       "                   estimator=AdaBoostClassifier(base_estimator=DecisionTreeClassifier()),\n",
       "                   n_jobs=-1,\n",
       "                   param_distributions={&#x27;base_estimator__max_depth&#x27;: [1, 2, 3],\n",
       "                                        &#x27;learning_rate&#x27;: [0.01, 0.1, 0.2, 0.3],\n",
       "                                        &#x27;n_estimators&#x27;: [50, 100, 150, 200]},\n",
       "                   random_state=42, scoring=&#x27;accuracy&#x27;, verbose=2)</pre></div></div></div><div class=\"sk-parallel\"><div class=\"sk-parallel-item\"><div class=\"sk-item\"><div class=\"sk-label-container\"><div class=\"sk-label sk-toggleable\"><input class=\"sk-toggleable__control sk-hidden--visually\" id=\"sk-estimator-id-22\" type=\"checkbox\" ><label for=\"sk-estimator-id-22\" class=\"sk-toggleable__label sk-toggleable__label-arrow\">estimator: AdaBoostClassifier</label><div class=\"sk-toggleable__content\"><pre>AdaBoostClassifier(base_estimator=DecisionTreeClassifier())</pre></div></div></div><div class=\"sk-serial\"><div class=\"sk-item sk-dashed-wrapped\"><div class=\"sk-parallel\"><div class=\"sk-parallel-item\"><div class=\"sk-item\"><div class=\"sk-label-container\"><div class=\"sk-label sk-toggleable\"><input class=\"sk-toggleable__control sk-hidden--visually\" id=\"sk-estimator-id-23\" type=\"checkbox\" ><label for=\"sk-estimator-id-23\" class=\"sk-toggleable__label sk-toggleable__label-arrow\">base_estimator: DecisionTreeClassifier</label><div class=\"sk-toggleable__content\"><pre>DecisionTreeClassifier()</pre></div></div></div><div class=\"sk-serial\"><div class=\"sk-item\"><div class=\"sk-estimator sk-toggleable\"><input class=\"sk-toggleable__control sk-hidden--visually\" id=\"sk-estimator-id-24\" type=\"checkbox\" ><label for=\"sk-estimator-id-24\" class=\"sk-toggleable__label sk-toggleable__label-arrow\">DecisionTreeClassifier</label><div class=\"sk-toggleable__content\"><pre>DecisionTreeClassifier()</pre></div></div></div></div></div></div></div></div></div></div></div></div></div></div></div>"
      ],
      "text/plain": [
       "RandomizedSearchCV(cv=10,\n",
       "                   estimator=AdaBoostClassifier(base_estimator=DecisionTreeClassifier()),\n",
       "                   n_jobs=-1,\n",
       "                   param_distributions={'base_estimator__max_depth': [1, 2, 3],\n",
       "                                        'learning_rate': [0.01, 0.1, 0.2, 0.3],\n",
       "                                        'n_estimators': [50, 100, 150, 200]},\n",
       "                   random_state=42, scoring='accuracy', verbose=2)"
      ]
     },
     "execution_count": 125,
     "metadata": {},
     "output_type": "execute_result"
    }
   ],
   "source": [
    "adaboost_searchCV.fit(X_train, y_train)"
   ]
  },
  {
   "cell_type": "code",
   "execution_count": 126,
   "id": "a6e30db9-53c0-4f16-8c17-de1dc35b4bf4",
   "metadata": {
    "tags": []
   },
   "outputs": [
    {
     "data": {
      "text/plain": [
       "{'n_estimators': 200, 'learning_rate': 0.2, 'base_estimator__max_depth': 3}"
      ]
     },
     "execution_count": 126,
     "metadata": {},
     "output_type": "execute_result"
    }
   ],
   "source": [
    "# Get the best hyperparameters\n",
    "adaboost_class_best_param = adaboost_searchCV.best_params_\n",
    "adaboost_class_best_param"
   ]
  },
  {
   "cell_type": "code",
   "execution_count": 127,
   "id": "fd4f74cd-bdec-433f-a8f3-ee4d51c4b1ea",
   "metadata": {
    "tags": []
   },
   "outputs": [
    {
     "data": {
      "text/plain": [
       "0.8628571428571429"
      ]
     },
     "execution_count": 127,
     "metadata": {},
     "output_type": "execute_result"
    }
   ],
   "source": [
    "# Best model accuracy \n",
    "adaboost_class_hyp_score = adaboost_searchCV.score(X_test, y_test)\n",
    "adaboost_class_hyp_score"
   ]
  },
  {
   "cell_type": "markdown",
   "id": "ef96d30f-533f-420e-82da-c7353574a1f9",
   "metadata": {},
   "source": [
    "# <span style=\"background-color: #D32D41; padding: 5px;\">5. Decision Tree Classifier Hyper Parameter Tuning"
   ]
  },
  {
   "cell_type": "code",
   "execution_count": 128,
   "id": "968528e7-21ed-4d79-aeae-cbe43406d44d",
   "metadata": {
    "tags": []
   },
   "outputs": [],
   "source": [
    "from sklearn.tree import DecisionTreeClassifier\n",
    "from sklearn.model_selection import RandomizedSearchCV"
   ]
  },
  {
   "cell_type": "code",
   "execution_count": 129,
   "id": "2725c02a-456b-458c-b9f4-a8c7fbf3770d",
   "metadata": {
    "tags": []
   },
   "outputs": [],
   "source": [
    "dec_tree_classifier_hyp_tuning = DecisionTreeClassifier()"
   ]
  },
  {
   "cell_type": "code",
   "execution_count": 130,
   "id": "a74c2ccd-85b1-4019-bc27-4376ec9f25af",
   "metadata": {
    "tags": []
   },
   "outputs": [],
   "source": [
    "params = {\n",
    "    \"criterion\"        :(\"gini\", \"entropy\"),  #quality of split\n",
    "    \"splitter\"         :(\"best\", \"random\"),   # searches the features for a split\n",
    "    \"max_depth\"        :(list(range(1, 50))), #depth of tree range 1 to 19\n",
    "    \"min_samples_split\":[2, 3, 4],            #the minimum number of samples required to split internal node\n",
    "    \"min_samples_leaf\" :list(range(1, 20)),   #minimum number of samples required to be at a leaf node,we are passing list which is range from 1 to 19\n",
    "    \n",
    "}"
   ]
  },
  {
   "cell_type": "code",
   "execution_count": 131,
   "id": "8855ee41-ecd9-413f-8123-12662983dfa0",
   "metadata": {
    "tags": []
   },
   "outputs": [],
   "source": [
    "des_tree_searchCV = RandomizedSearchCV(estimator=dec_tree_classifier_hyp_tuning, param_distributions=params, scoring=\"f1_micro\", n_iter=100, n_jobs=-1, verbose=2, cv=5, random_state=42)"
   ]
  },
  {
   "cell_type": "code",
   "execution_count": 132,
   "id": "2256f771-1714-40d2-b3c8-ed49998cf34a",
   "metadata": {
    "tags": []
   },
   "outputs": [
    {
     "name": "stdout",
     "output_type": "stream",
     "text": [
      "Fitting 5 folds for each of 100 candidates, totalling 500 fits\n"
     ]
    },
    {
     "data": {
      "text/html": [
       "<style>#sk-container-id-18 {color: black;}#sk-container-id-18 pre{padding: 0;}#sk-container-id-18 div.sk-toggleable {background-color: white;}#sk-container-id-18 label.sk-toggleable__label {cursor: pointer;display: block;width: 100%;margin-bottom: 0;padding: 0.3em;box-sizing: border-box;text-align: center;}#sk-container-id-18 label.sk-toggleable__label-arrow:before {content: \"▸\";float: left;margin-right: 0.25em;color: #696969;}#sk-container-id-18 label.sk-toggleable__label-arrow:hover:before {color: black;}#sk-container-id-18 div.sk-estimator:hover label.sk-toggleable__label-arrow:before {color: black;}#sk-container-id-18 div.sk-toggleable__content {max-height: 0;max-width: 0;overflow: hidden;text-align: left;background-color: #f0f8ff;}#sk-container-id-18 div.sk-toggleable__content pre {margin: 0.2em;color: black;border-radius: 0.25em;background-color: #f0f8ff;}#sk-container-id-18 input.sk-toggleable__control:checked~div.sk-toggleable__content {max-height: 200px;max-width: 100%;overflow: auto;}#sk-container-id-18 input.sk-toggleable__control:checked~label.sk-toggleable__label-arrow:before {content: \"▾\";}#sk-container-id-18 div.sk-estimator input.sk-toggleable__control:checked~label.sk-toggleable__label {background-color: #d4ebff;}#sk-container-id-18 div.sk-label input.sk-toggleable__control:checked~label.sk-toggleable__label {background-color: #d4ebff;}#sk-container-id-18 input.sk-hidden--visually {border: 0;clip: rect(1px 1px 1px 1px);clip: rect(1px, 1px, 1px, 1px);height: 1px;margin: -1px;overflow: hidden;padding: 0;position: absolute;width: 1px;}#sk-container-id-18 div.sk-estimator {font-family: monospace;background-color: #f0f8ff;border: 1px dotted black;border-radius: 0.25em;box-sizing: border-box;margin-bottom: 0.5em;}#sk-container-id-18 div.sk-estimator:hover {background-color: #d4ebff;}#sk-container-id-18 div.sk-parallel-item::after {content: \"\";width: 100%;border-bottom: 1px solid gray;flex-grow: 1;}#sk-container-id-18 div.sk-label:hover label.sk-toggleable__label {background-color: #d4ebff;}#sk-container-id-18 div.sk-serial::before {content: \"\";position: absolute;border-left: 1px solid gray;box-sizing: border-box;top: 0;bottom: 0;left: 50%;z-index: 0;}#sk-container-id-18 div.sk-serial {display: flex;flex-direction: column;align-items: center;background-color: white;padding-right: 0.2em;padding-left: 0.2em;position: relative;}#sk-container-id-18 div.sk-item {position: relative;z-index: 1;}#sk-container-id-18 div.sk-parallel {display: flex;align-items: stretch;justify-content: center;background-color: white;position: relative;}#sk-container-id-18 div.sk-item::before, #sk-container-id-18 div.sk-parallel-item::before {content: \"\";position: absolute;border-left: 1px solid gray;box-sizing: border-box;top: 0;bottom: 0;left: 50%;z-index: -1;}#sk-container-id-18 div.sk-parallel-item {display: flex;flex-direction: column;z-index: 1;position: relative;background-color: white;}#sk-container-id-18 div.sk-parallel-item:first-child::after {align-self: flex-end;width: 50%;}#sk-container-id-18 div.sk-parallel-item:last-child::after {align-self: flex-start;width: 50%;}#sk-container-id-18 div.sk-parallel-item:only-child::after {width: 0;}#sk-container-id-18 div.sk-dashed-wrapped {border: 1px dashed gray;margin: 0 0.4em 0.5em 0.4em;box-sizing: border-box;padding-bottom: 0.4em;background-color: white;}#sk-container-id-18 div.sk-label label {font-family: monospace;font-weight: bold;display: inline-block;line-height: 1.2em;}#sk-container-id-18 div.sk-label-container {text-align: center;}#sk-container-id-18 div.sk-container {/* jupyter's `normalize.less` sets `[hidden] { display: none; }` but bootstrap.min.css set `[hidden] { display: none !important; }` so we also need the `!important` here to be able to override the default hidden behavior on the sphinx rendered scikit-learn.org. See: https://github.com/scikit-learn/scikit-learn/issues/21755 */display: inline-block !important;position: relative;}#sk-container-id-18 div.sk-text-repr-fallback {display: none;}</style><div id=\"sk-container-id-18\" class=\"sk-top-container\"><div class=\"sk-text-repr-fallback\"><pre>RandomizedSearchCV(cv=5, estimator=DecisionTreeClassifier(), n_iter=100,\n",
       "                   n_jobs=-1,\n",
       "                   param_distributions={&#x27;criterion&#x27;: (&#x27;gini&#x27;, &#x27;entropy&#x27;),\n",
       "                                        &#x27;max_depth&#x27;: [1, 2, 3, 4, 5, 6, 7, 8, 9,\n",
       "                                                      10, 11, 12, 13, 14, 15,\n",
       "                                                      16, 17, 18, 19, 20, 21,\n",
       "                                                      22, 23, 24, 25, 26, 27,\n",
       "                                                      28, 29, 30, ...],\n",
       "                                        &#x27;min_samples_leaf&#x27;: [1, 2, 3, 4, 5, 6,\n",
       "                                                             7, 8, 9, 10, 11,\n",
       "                                                             12, 13, 14, 15, 16,\n",
       "                                                             17, 18, 19],\n",
       "                                        &#x27;min_samples_split&#x27;: [2, 3, 4],\n",
       "                                        &#x27;splitter&#x27;: (&#x27;best&#x27;, &#x27;random&#x27;)},\n",
       "                   random_state=42, scoring=&#x27;f1_micro&#x27;, verbose=2)</pre><b>In a Jupyter environment, please rerun this cell to show the HTML representation or trust the notebook. <br />On GitHub, the HTML representation is unable to render, please try loading this page with nbviewer.org.</b></div><div class=\"sk-container\" hidden><div class=\"sk-item sk-dashed-wrapped\"><div class=\"sk-label-container\"><div class=\"sk-label sk-toggleable\"><input class=\"sk-toggleable__control sk-hidden--visually\" id=\"sk-estimator-id-25\" type=\"checkbox\" ><label for=\"sk-estimator-id-25\" class=\"sk-toggleable__label sk-toggleable__label-arrow\">RandomizedSearchCV</label><div class=\"sk-toggleable__content\"><pre>RandomizedSearchCV(cv=5, estimator=DecisionTreeClassifier(), n_iter=100,\n",
       "                   n_jobs=-1,\n",
       "                   param_distributions={&#x27;criterion&#x27;: (&#x27;gini&#x27;, &#x27;entropy&#x27;),\n",
       "                                        &#x27;max_depth&#x27;: [1, 2, 3, 4, 5, 6, 7, 8, 9,\n",
       "                                                      10, 11, 12, 13, 14, 15,\n",
       "                                                      16, 17, 18, 19, 20, 21,\n",
       "                                                      22, 23, 24, 25, 26, 27,\n",
       "                                                      28, 29, 30, ...],\n",
       "                                        &#x27;min_samples_leaf&#x27;: [1, 2, 3, 4, 5, 6,\n",
       "                                                             7, 8, 9, 10, 11,\n",
       "                                                             12, 13, 14, 15, 16,\n",
       "                                                             17, 18, 19],\n",
       "                                        &#x27;min_samples_split&#x27;: [2, 3, 4],\n",
       "                                        &#x27;splitter&#x27;: (&#x27;best&#x27;, &#x27;random&#x27;)},\n",
       "                   random_state=42, scoring=&#x27;f1_micro&#x27;, verbose=2)</pre></div></div></div><div class=\"sk-parallel\"><div class=\"sk-parallel-item\"><div class=\"sk-item\"><div class=\"sk-label-container\"><div class=\"sk-label sk-toggleable\"><input class=\"sk-toggleable__control sk-hidden--visually\" id=\"sk-estimator-id-26\" type=\"checkbox\" ><label for=\"sk-estimator-id-26\" class=\"sk-toggleable__label sk-toggleable__label-arrow\">estimator: DecisionTreeClassifier</label><div class=\"sk-toggleable__content\"><pre>DecisionTreeClassifier()</pre></div></div></div><div class=\"sk-serial\"><div class=\"sk-item\"><div class=\"sk-estimator sk-toggleable\"><input class=\"sk-toggleable__control sk-hidden--visually\" id=\"sk-estimator-id-27\" type=\"checkbox\" ><label for=\"sk-estimator-id-27\" class=\"sk-toggleable__label sk-toggleable__label-arrow\">DecisionTreeClassifier</label><div class=\"sk-toggleable__content\"><pre>DecisionTreeClassifier()</pre></div></div></div></div></div></div></div></div></div></div>"
      ],
      "text/plain": [
       "RandomizedSearchCV(cv=5, estimator=DecisionTreeClassifier(), n_iter=100,\n",
       "                   n_jobs=-1,\n",
       "                   param_distributions={'criterion': ('gini', 'entropy'),\n",
       "                                        'max_depth': [1, 2, 3, 4, 5, 6, 7, 8, 9,\n",
       "                                                      10, 11, 12, 13, 14, 15,\n",
       "                                                      16, 17, 18, 19, 20, 21,\n",
       "                                                      22, 23, 24, 25, 26, 27,\n",
       "                                                      28, 29, 30, ...],\n",
       "                                        'min_samples_leaf': [1, 2, 3, 4, 5, 6,\n",
       "                                                             7, 8, 9, 10, 11,\n",
       "                                                             12, 13, 14, 15, 16,\n",
       "                                                             17, 18, 19],\n",
       "                                        'min_samples_split': [2, 3, 4],\n",
       "                                        'splitter': ('best', 'random')},\n",
       "                   random_state=42, scoring='f1_micro', verbose=2)"
      ]
     },
     "execution_count": 132,
     "metadata": {},
     "output_type": "execute_result"
    }
   ],
   "source": [
    "des_tree_searchCV.fit(X_train, y_train)"
   ]
  },
  {
   "cell_type": "code",
   "execution_count": 133,
   "id": "78983492-9ba8-4971-a557-807cb5f6a43e",
   "metadata": {
    "tags": []
   },
   "outputs": [
    {
     "data": {
      "text/plain": [
       "{'splitter': 'best',\n",
       " 'min_samples_split': 2,\n",
       " 'min_samples_leaf': 1,\n",
       " 'max_depth': 25,\n",
       " 'criterion': 'entropy'}"
      ]
     },
     "execution_count": 133,
     "metadata": {},
     "output_type": "execute_result"
    }
   ],
   "source": [
    "des_tree_searchCV.best_params_"
   ]
  },
  {
   "cell_type": "code",
   "execution_count": 134,
   "id": "a9cb5eb0-d1fa-4827-b558-8fb8c7c736f6",
   "metadata": {
    "tags": []
   },
   "outputs": [
    {
     "data": {
      "text/html": [
       "<style>#sk-container-id-19 {color: black;}#sk-container-id-19 pre{padding: 0;}#sk-container-id-19 div.sk-toggleable {background-color: white;}#sk-container-id-19 label.sk-toggleable__label {cursor: pointer;display: block;width: 100%;margin-bottom: 0;padding: 0.3em;box-sizing: border-box;text-align: center;}#sk-container-id-19 label.sk-toggleable__label-arrow:before {content: \"▸\";float: left;margin-right: 0.25em;color: #696969;}#sk-container-id-19 label.sk-toggleable__label-arrow:hover:before {color: black;}#sk-container-id-19 div.sk-estimator:hover label.sk-toggleable__label-arrow:before {color: black;}#sk-container-id-19 div.sk-toggleable__content {max-height: 0;max-width: 0;overflow: hidden;text-align: left;background-color: #f0f8ff;}#sk-container-id-19 div.sk-toggleable__content pre {margin: 0.2em;color: black;border-radius: 0.25em;background-color: #f0f8ff;}#sk-container-id-19 input.sk-toggleable__control:checked~div.sk-toggleable__content {max-height: 200px;max-width: 100%;overflow: auto;}#sk-container-id-19 input.sk-toggleable__control:checked~label.sk-toggleable__label-arrow:before {content: \"▾\";}#sk-container-id-19 div.sk-estimator input.sk-toggleable__control:checked~label.sk-toggleable__label {background-color: #d4ebff;}#sk-container-id-19 div.sk-label input.sk-toggleable__control:checked~label.sk-toggleable__label {background-color: #d4ebff;}#sk-container-id-19 input.sk-hidden--visually {border: 0;clip: rect(1px 1px 1px 1px);clip: rect(1px, 1px, 1px, 1px);height: 1px;margin: -1px;overflow: hidden;padding: 0;position: absolute;width: 1px;}#sk-container-id-19 div.sk-estimator {font-family: monospace;background-color: #f0f8ff;border: 1px dotted black;border-radius: 0.25em;box-sizing: border-box;margin-bottom: 0.5em;}#sk-container-id-19 div.sk-estimator:hover {background-color: #d4ebff;}#sk-container-id-19 div.sk-parallel-item::after {content: \"\";width: 100%;border-bottom: 1px solid gray;flex-grow: 1;}#sk-container-id-19 div.sk-label:hover label.sk-toggleable__label {background-color: #d4ebff;}#sk-container-id-19 div.sk-serial::before {content: \"\";position: absolute;border-left: 1px solid gray;box-sizing: border-box;top: 0;bottom: 0;left: 50%;z-index: 0;}#sk-container-id-19 div.sk-serial {display: flex;flex-direction: column;align-items: center;background-color: white;padding-right: 0.2em;padding-left: 0.2em;position: relative;}#sk-container-id-19 div.sk-item {position: relative;z-index: 1;}#sk-container-id-19 div.sk-parallel {display: flex;align-items: stretch;justify-content: center;background-color: white;position: relative;}#sk-container-id-19 div.sk-item::before, #sk-container-id-19 div.sk-parallel-item::before {content: \"\";position: absolute;border-left: 1px solid gray;box-sizing: border-box;top: 0;bottom: 0;left: 50%;z-index: -1;}#sk-container-id-19 div.sk-parallel-item {display: flex;flex-direction: column;z-index: 1;position: relative;background-color: white;}#sk-container-id-19 div.sk-parallel-item:first-child::after {align-self: flex-end;width: 50%;}#sk-container-id-19 div.sk-parallel-item:last-child::after {align-self: flex-start;width: 50%;}#sk-container-id-19 div.sk-parallel-item:only-child::after {width: 0;}#sk-container-id-19 div.sk-dashed-wrapped {border: 1px dashed gray;margin: 0 0.4em 0.5em 0.4em;box-sizing: border-box;padding-bottom: 0.4em;background-color: white;}#sk-container-id-19 div.sk-label label {font-family: monospace;font-weight: bold;display: inline-block;line-height: 1.2em;}#sk-container-id-19 div.sk-label-container {text-align: center;}#sk-container-id-19 div.sk-container {/* jupyter's `normalize.less` sets `[hidden] { display: none; }` but bootstrap.min.css set `[hidden] { display: none !important; }` so we also need the `!important` here to be able to override the default hidden behavior on the sphinx rendered scikit-learn.org. See: https://github.com/scikit-learn/scikit-learn/issues/21755 */display: inline-block !important;position: relative;}#sk-container-id-19 div.sk-text-repr-fallback {display: none;}</style><div id=\"sk-container-id-19\" class=\"sk-top-container\"><div class=\"sk-text-repr-fallback\"><pre>DecisionTreeClassifier(criterion=&#x27;entropy&#x27;, max_depth=25)</pre><b>In a Jupyter environment, please rerun this cell to show the HTML representation or trust the notebook. <br />On GitHub, the HTML representation is unable to render, please try loading this page with nbviewer.org.</b></div><div class=\"sk-container\" hidden><div class=\"sk-item\"><div class=\"sk-estimator sk-toggleable\"><input class=\"sk-toggleable__control sk-hidden--visually\" id=\"sk-estimator-id-28\" type=\"checkbox\" checked><label for=\"sk-estimator-id-28\" class=\"sk-toggleable__label sk-toggleable__label-arrow\">DecisionTreeClassifier</label><div class=\"sk-toggleable__content\"><pre>DecisionTreeClassifier(criterion=&#x27;entropy&#x27;, max_depth=25)</pre></div></div></div></div></div>"
      ],
      "text/plain": [
       "DecisionTreeClassifier(criterion='entropy', max_depth=25)"
      ]
     },
     "execution_count": 134,
     "metadata": {},
     "output_type": "execute_result"
    }
   ],
   "source": [
    "des_tree_searchCV.best_estimator_"
   ]
  },
  {
   "cell_type": "code",
   "execution_count": 135,
   "id": "4f3893eb-e852-49fa-b2d1-416b18885e24",
   "metadata": {
    "tags": []
   },
   "outputs": [
    {
     "data": {
      "text/plain": [
       "0.7982850323900444"
      ]
     },
     "execution_count": 135,
     "metadata": {},
     "output_type": "execute_result"
    }
   ],
   "source": [
    "des_tree_searchCV.best_score_"
   ]
  },
  {
   "cell_type": "code",
   "execution_count": 136,
   "id": "dc4452d6-6b92-4606-aced-0d51228ce362",
   "metadata": {
    "tags": []
   },
   "outputs": [],
   "source": [
    "des_tree_class_best_param = DecisionTreeClassifier(splitter =  'random',\n",
    "                                                  min_samples_split = 3,\n",
    "                                                  min_samples_leaf = 1,\n",
    "                                                  max_depth =  21,\n",
    "                                                  criterion =  'entropy')"
   ]
  },
  {
   "cell_type": "code",
   "execution_count": 137,
   "id": "01025f67-0364-4314-ac90-026955dd22fa",
   "metadata": {
    "tags": []
   },
   "outputs": [
    {
     "data": {
      "text/html": [
       "<style>#sk-container-id-20 {color: black;}#sk-container-id-20 pre{padding: 0;}#sk-container-id-20 div.sk-toggleable {background-color: white;}#sk-container-id-20 label.sk-toggleable__label {cursor: pointer;display: block;width: 100%;margin-bottom: 0;padding: 0.3em;box-sizing: border-box;text-align: center;}#sk-container-id-20 label.sk-toggleable__label-arrow:before {content: \"▸\";float: left;margin-right: 0.25em;color: #696969;}#sk-container-id-20 label.sk-toggleable__label-arrow:hover:before {color: black;}#sk-container-id-20 div.sk-estimator:hover label.sk-toggleable__label-arrow:before {color: black;}#sk-container-id-20 div.sk-toggleable__content {max-height: 0;max-width: 0;overflow: hidden;text-align: left;background-color: #f0f8ff;}#sk-container-id-20 div.sk-toggleable__content pre {margin: 0.2em;color: black;border-radius: 0.25em;background-color: #f0f8ff;}#sk-container-id-20 input.sk-toggleable__control:checked~div.sk-toggleable__content {max-height: 200px;max-width: 100%;overflow: auto;}#sk-container-id-20 input.sk-toggleable__control:checked~label.sk-toggleable__label-arrow:before {content: \"▾\";}#sk-container-id-20 div.sk-estimator input.sk-toggleable__control:checked~label.sk-toggleable__label {background-color: #d4ebff;}#sk-container-id-20 div.sk-label input.sk-toggleable__control:checked~label.sk-toggleable__label {background-color: #d4ebff;}#sk-container-id-20 input.sk-hidden--visually {border: 0;clip: rect(1px 1px 1px 1px);clip: rect(1px, 1px, 1px, 1px);height: 1px;margin: -1px;overflow: hidden;padding: 0;position: absolute;width: 1px;}#sk-container-id-20 div.sk-estimator {font-family: monospace;background-color: #f0f8ff;border: 1px dotted black;border-radius: 0.25em;box-sizing: border-box;margin-bottom: 0.5em;}#sk-container-id-20 div.sk-estimator:hover {background-color: #d4ebff;}#sk-container-id-20 div.sk-parallel-item::after {content: \"\";width: 100%;border-bottom: 1px solid gray;flex-grow: 1;}#sk-container-id-20 div.sk-label:hover label.sk-toggleable__label {background-color: #d4ebff;}#sk-container-id-20 div.sk-serial::before {content: \"\";position: absolute;border-left: 1px solid gray;box-sizing: border-box;top: 0;bottom: 0;left: 50%;z-index: 0;}#sk-container-id-20 div.sk-serial {display: flex;flex-direction: column;align-items: center;background-color: white;padding-right: 0.2em;padding-left: 0.2em;position: relative;}#sk-container-id-20 div.sk-item {position: relative;z-index: 1;}#sk-container-id-20 div.sk-parallel {display: flex;align-items: stretch;justify-content: center;background-color: white;position: relative;}#sk-container-id-20 div.sk-item::before, #sk-container-id-20 div.sk-parallel-item::before {content: \"\";position: absolute;border-left: 1px solid gray;box-sizing: border-box;top: 0;bottom: 0;left: 50%;z-index: -1;}#sk-container-id-20 div.sk-parallel-item {display: flex;flex-direction: column;z-index: 1;position: relative;background-color: white;}#sk-container-id-20 div.sk-parallel-item:first-child::after {align-self: flex-end;width: 50%;}#sk-container-id-20 div.sk-parallel-item:last-child::after {align-self: flex-start;width: 50%;}#sk-container-id-20 div.sk-parallel-item:only-child::after {width: 0;}#sk-container-id-20 div.sk-dashed-wrapped {border: 1px dashed gray;margin: 0 0.4em 0.5em 0.4em;box-sizing: border-box;padding-bottom: 0.4em;background-color: white;}#sk-container-id-20 div.sk-label label {font-family: monospace;font-weight: bold;display: inline-block;line-height: 1.2em;}#sk-container-id-20 div.sk-label-container {text-align: center;}#sk-container-id-20 div.sk-container {/* jupyter's `normalize.less` sets `[hidden] { display: none; }` but bootstrap.min.css set `[hidden] { display: none !important; }` so we also need the `!important` here to be able to override the default hidden behavior on the sphinx rendered scikit-learn.org. See: https://github.com/scikit-learn/scikit-learn/issues/21755 */display: inline-block !important;position: relative;}#sk-container-id-20 div.sk-text-repr-fallback {display: none;}</style><div id=\"sk-container-id-20\" class=\"sk-top-container\"><div class=\"sk-text-repr-fallback\"><pre>DecisionTreeClassifier(criterion=&#x27;entropy&#x27;, max_depth=21, min_samples_split=3,\n",
       "                       splitter=&#x27;random&#x27;)</pre><b>In a Jupyter environment, please rerun this cell to show the HTML representation or trust the notebook. <br />On GitHub, the HTML representation is unable to render, please try loading this page with nbviewer.org.</b></div><div class=\"sk-container\" hidden><div class=\"sk-item\"><div class=\"sk-estimator sk-toggleable\"><input class=\"sk-toggleable__control sk-hidden--visually\" id=\"sk-estimator-id-29\" type=\"checkbox\" checked><label for=\"sk-estimator-id-29\" class=\"sk-toggleable__label sk-toggleable__label-arrow\">DecisionTreeClassifier</label><div class=\"sk-toggleable__content\"><pre>DecisionTreeClassifier(criterion=&#x27;entropy&#x27;, max_depth=21, min_samples_split=3,\n",
       "                       splitter=&#x27;random&#x27;)</pre></div></div></div></div></div>"
      ],
      "text/plain": [
       "DecisionTreeClassifier(criterion='entropy', max_depth=21, min_samples_split=3,\n",
       "                       splitter='random')"
      ]
     },
     "execution_count": 137,
     "metadata": {},
     "output_type": "execute_result"
    }
   ],
   "source": [
    "des_tree_class_best_param.fit(X_train, y_train)"
   ]
  },
  {
   "cell_type": "code",
   "execution_count": 138,
   "id": "f1f3f657-3d70-474b-b2e0-7ea7fb5e7102",
   "metadata": {
    "tags": []
   },
   "outputs": [
    {
     "data": {
      "text/plain": [
       "array([4, 2, 2, 4, 4, 4, 2, 2, 2, 4, 2, 3, 4, 4, 4, 3, 3, 2, 2, 2, 2, 4,\n",
       "       4, 3, 4, 3, 3, 2, 4, 2, 4, 3, 3, 2, 2, 3, 4, 2, 3, 2, 4, 2, 4, 3,\n",
       "       4, 3, 3, 2, 3, 2, 3, 2, 4, 3, 3, 4, 3, 3, 4, 3, 4, 3, 2, 4, 3, 4,\n",
       "       3, 4, 3, 3, 2, 4, 2, 2, 2, 4, 3, 2, 3, 4, 3, 2, 4, 2, 4, 3, 4, 3,\n",
       "       4, 2, 3, 2, 4, 3, 2, 2, 3, 4, 3, 4, 2, 2, 2, 4, 4, 2, 2, 4, 2, 3,\n",
       "       4, 2, 3, 4, 3, 3, 4, 4, 2, 2, 4, 2, 2, 3, 3, 4, 2, 3, 2, 4, 2, 2,\n",
       "       2, 3, 2, 4, 2, 4, 3, 4, 2, 4, 3, 3, 2, 4, 4, 3, 2, 4, 4, 4, 2, 4,\n",
       "       2, 2, 3, 2, 4, 3, 3, 3, 4, 4, 2, 2, 4, 4, 3, 4, 4, 4, 2, 3, 2, 4,\n",
       "       3, 2, 4, 2, 4, 3, 4, 3, 2, 3, 3, 2, 2, 2, 3, 3, 4, 3, 2, 2, 3, 3,\n",
       "       2, 2, 2, 4, 4, 4, 2, 3, 3, 4, 2, 3, 3, 2, 4, 2, 4, 3, 2, 2, 2, 3,\n",
       "       3, 4, 2, 3, 3, 4, 2, 2, 4, 4, 3, 2, 4, 3, 3, 2, 2, 4, 4, 2, 2, 3,\n",
       "       2, 2, 4, 3, 2, 4, 4, 3, 4, 4, 2, 2, 3, 2, 3, 3, 2, 4, 3, 3, 3, 3,\n",
       "       2, 3, 2, 2, 4, 3, 3, 4, 4, 4, 3, 4, 4, 2, 2, 2, 2, 3, 3, 4, 2, 4,\n",
       "       3, 3, 4, 3, 4, 2, 2, 2, 2, 2, 4, 3, 2, 4, 3, 4, 2, 2, 2, 2, 3, 3,\n",
       "       2, 4, 4, 4, 4, 4, 2, 2, 3, 4, 4, 2, 4, 3, 2, 2, 2, 4, 3, 4, 2, 3,\n",
       "       4, 2, 2, 2, 2, 2, 3, 3, 2, 4, 3, 2, 2, 4, 2, 2, 3, 2, 4, 3, 4, 4,\n",
       "       3, 3, 2, 2, 3, 4, 3, 4, 4, 3, 2, 2, 4, 4, 2, 4, 4, 3, 2, 3, 2, 3,\n",
       "       4, 2, 4, 4, 2, 3, 4, 4, 4, 2, 3, 4, 3, 2, 2, 2, 4, 2, 4, 4, 3, 3,\n",
       "       3, 2, 3, 2, 2, 4, 4, 4, 3, 4, 4, 3, 4, 3, 4, 2, 2, 4, 2, 3, 2, 2,\n",
       "       4, 2, 3, 3, 2, 3, 3, 4, 3, 3, 4, 2, 4, 3, 4, 4, 4, 2, 2, 2, 3, 2,\n",
       "       2, 3, 4, 4, 2, 3, 3, 2, 4, 4, 2, 4, 2, 4, 2, 2, 2, 2, 2, 4, 3, 2,\n",
       "       4, 2, 3, 4, 2, 4, 2, 2, 3, 2, 4, 2, 2, 4, 3, 3, 2, 2, 3, 2, 3, 3,\n",
       "       4, 4, 2, 3, 3, 2, 4, 2, 2, 4, 2, 2, 3, 2, 3, 4, 4, 2, 4, 4, 4, 3,\n",
       "       3, 4, 2, 4, 4, 3, 4, 2, 4, 4, 2, 4, 2, 2, 4, 2, 4, 2, 4],\n",
       "      dtype=int64)"
      ]
     },
     "execution_count": 138,
     "metadata": {},
     "output_type": "execute_result"
    }
   ],
   "source": [
    "des_tree_class_best_param_pred = des_tree_class_best_param.predict(X_test)\n",
    "des_tree_class_best_param_pred "
   ]
  },
  {
   "cell_type": "code",
   "execution_count": 139,
   "id": "561156e0-5e5f-4080-8ecf-3bbd92ecd371",
   "metadata": {
    "tags": []
   },
   "outputs": [
    {
     "data": {
      "text/plain": [
       "0.7676190476190476"
      ]
     },
     "execution_count": 139,
     "metadata": {},
     "output_type": "execute_result"
    }
   ],
   "source": [
    "des_tree_class_best_param_acc = accuracy_score(y_test, des_tree_class_best_param_pred)\n",
    "des_tree_class_best_param_acc"
   ]
  },
  {
   "cell_type": "code",
   "execution_count": 140,
   "id": "d6c0d751-8b8e-4a30-be9a-998f4e4adaef",
   "metadata": {
    "tags": []
   },
   "outputs": [
    {
     "name": "stdout",
     "output_type": "stream",
     "text": [
      "+----------------------------------------+--------------------+------------------+\n",
      "| Model Name                             |   Testing Accuracy |   Training Score |\n",
      "+========================================+====================+==================+\n",
      "| Logistic Regression                    |           0.822857 |         0.834049 |\n",
      "+----------------------------------------+--------------------+------------------+\n",
      "| Decision Tree Classification           |           0.792381 |         1        |\n",
      "+----------------------------------------+--------------------+------------------+\n",
      "| Extra Tree (Random Forests) Classifier |           0.729524 |         1        |\n",
      "+----------------------------------------+--------------------+------------------+\n",
      "| Random Forest Classification           |           0.944762 |         1        |\n",
      "+----------------------------------------+--------------------+------------------+\n",
      "| Support Vector Machine Classification  |           0.937143 |         0.975203 |\n",
      "+----------------------------------------+--------------------+------------------+\n",
      "| Naive Bayes Classification             |           0.706667 |         0.746781 |\n",
      "+----------------------------------------+--------------------+------------------+\n",
      "| K-Neighbour Classification             |           0.80381  |         0.871245 |\n",
      "+----------------------------------------+--------------------+------------------+\n",
      "| Adaboost Classification                |           0.805714 |         0.824511 |\n",
      "+----------------------------------------+--------------------+------------------+\n",
      "| Gradient Descent Classification        |           0.912381 |         0.987124 |\n",
      "+----------------------------------------+--------------------+------------------+\n",
      "| Stochastic Gradient Descent Classifier |           0.811429 |         0.800191 |\n",
      "+----------------------------------------+--------------------+------------------+\n",
      "| XGBOOST Classifier                     |           0.929524 |         0        |\n",
      "+----------------------------------------+--------------------+------------------+\n"
     ]
    }
   ],
   "source": [
    "# summarising the different model with their respective model accuaracy \n",
    "from tabulate import tabulate\n",
    "my_data = [['Logistic Regression', logistic_reg_acc_Score, logistic_reg_training_score],\n",
    "           [\"Decision Tree Classification\", dec_tree_classifier_acc_score, dec_tree_classifier_training_score],\n",
    "           [\"Extra Tree (Random Forests) Classifier\", extra_tree_classfier_acc_score, extra_tree_classfier_training_score],\n",
    "           [\"Random Forest Classification\", rand_for_class_acc_score, rand_for_class_training_score],\n",
    "           [\"Support Vector Machine Classification\", svm_classifier_acc_score, svm_classifier_training_score],\n",
    "           [\"Naive Bayes Classification\", naive_bayes_classifier_acc_score, naive_bayes_classifier_training_score],\n",
    "           [\"K-Neighbour Classification\", k_neigh_classifier_acc_Score, k_neigh_classifier_training_score],\n",
    "           [\"Adaboost Classification\", adaboost_classifier_acc_score, adaboost_classifier_training_score],\n",
    "           [\"Gradient Descent Classification\", grad_des_classifier_acc_score, grad_des_classifier_training_score],\n",
    "           [\"Stochastic Gradient Descent Classifier\", sgd_classifier_acc_score, sgd_classifier_training_score],\n",
    "           [\"XGBOOST Classifier\", xgb_classifier_acc_score, xgb_classifier_training_score]\n",
    "          ]\n",
    "head = [\"Model Name\", \"Testing Accuracy\",  \"Training Score\"]\n",
    "print(tabulate(my_data, headers=head, tablefmt=\"grid\"))"
   ]
  },
  {
   "cell_type": "code",
   "execution_count": 141,
   "id": "15155cec-7f83-4903-9c4e-15d93e5df5d8",
   "metadata": {
    "tags": []
   },
   "outputs": [
    {
     "name": "stdout",
     "output_type": "stream",
     "text": [
      "+------------------------------+--------------------+\n",
      "| Model Name                   |   Testing Accuracy |\n",
      "+==============================+====================+\n",
      "| Random Forest Classification |           0.91619  |\n",
      "+------------------------------+--------------------+\n",
      "| Decision Tree Classification |           0.767619 |\n",
      "+------------------------------+--------------------+\n",
      "| Logistic Regression          |           0.834286 |\n",
      "+------------------------------+--------------------+\n",
      "| Adaboost Classification      |           0.862857 |\n",
      "+------------------------------+--------------------+\n",
      "| XGBOOST Classifier           |           0.904762 |\n",
      "+------------------------------+--------------------+\n"
     ]
    }
   ],
   "source": [
    "# summarising the different model with their respective model accuaracy \n",
    "from tabulate import tabulate\n",
    "my_data = [['Random Forest Classification', rand_best_para_acc],\n",
    "           [\"Decision Tree Classification\", des_tree_class_best_param_acc],\n",
    "           ['Logistic Regression', logistic_best_param_acc_score],\n",
    "           [\"Adaboost Classification\", adaboost_class_hyp_score],\n",
    "           [\"XGBOOST Classifier\", xgb_class_best_param_acc_score],\n",
    "          ]\n",
    "head = [\"Model Name\", \"Testing Accuracy\"]\n",
    "print(tabulate(my_data, headers=head, tablefmt=\"grid\"))"
   ]
  },
  {
   "cell_type": "markdown",
   "id": "4ede8855-c38b-4d16-8320-266820eddf53",
   "metadata": {},
   "source": [
    "- The problem dataset is classified by three models: xgboost classifier, support vector machine classifier, and random forest classifier.\n",
    "- The average accuracy score of these models is 94%, which indicates a high performance in predicting the values.\n",
    "- However, there is a possibility of overfitting, which means the models may not generalize well to new data.\n",
    "- To address this issue, hyperparameter tuning is applied to each model to optimize their parameters and reduce overfitting.\n",
    "- After hyperparameter tuning, the random forest classifier has the highest accuracy score of 92%, followed by the xgboost classifier with 91%.\n",
    "- The accuracy scores are still satisfactory, but there is room for improvement by exploring other models, such as artificial neural networks (ANN)."
   ]
  },
  {
   "cell_type": "markdown",
   "id": "df75b96f-3fb0-4ebd-9ab9-d16a2d1a74e1",
   "metadata": {},
   "source": [
    "# Artificial Neural Network"
   ]
  },
  {
   "cell_type": "code",
   "execution_count": 142,
   "id": "b0177b1b-ca92-4cc4-b229-886181918fb4",
   "metadata": {
    "tags": []
   },
   "outputs": [],
   "source": [
    "import tensorflow\n",
    "from tensorflow import keras\n",
    "from tensorflow.keras import Sequential\n",
    "from tensorflow.keras.layers import Dense"
   ]
  },
  {
   "cell_type": "code",
   "execution_count": 143,
   "id": "6631afbf-9743-47e6-880a-c6ad7e95580f",
   "metadata": {
    "tags": []
   },
   "outputs": [],
   "source": [
    "# training the model with dense layers using ANN\n",
    "model = Sequential()\n",
    "\n",
    "model.add(Dense(128, activation = 'relu', input_dim = 22))\n",
    "model.add(Dense(64, activation = 'relu',))\n",
    "model.add(Dense(28, activation = 'relu',))\n",
    "model.add(Dense(3, activation='softmax'))"
   ]
  },
  {
   "cell_type": "code",
   "execution_count": 144,
   "id": "23d582d7-d7b9-42bf-a299-4d1d94c9c201",
   "metadata": {
    "tags": []
   },
   "outputs": [
    {
     "name": "stdout",
     "output_type": "stream",
     "text": [
      "Model: \"sequential\"\n",
      "_________________________________________________________________\n",
      " Layer (type)                Output Shape              Param #   \n",
      "=================================================================\n",
      " dense (Dense)               (None, 128)               2944      \n",
      "                                                                 \n",
      " dense_1 (Dense)             (None, 64)                8256      \n",
      "                                                                 \n",
      " dense_2 (Dense)             (None, 28)                1820      \n",
      "                                                                 \n",
      " dense_3 (Dense)             (None, 3)                 87        \n",
      "                                                                 \n",
      "=================================================================\n",
      "Total params: 13,107\n",
      "Trainable params: 13,107\n",
      "Non-trainable params: 0\n",
      "_________________________________________________________________\n"
     ]
    }
   ],
   "source": [
    "model.summary()"
   ]
  },
  {
   "cell_type": "code",
   "execution_count": 145,
   "id": "c9cfea6d-0980-4350-8ba6-4fa51829cd10",
   "metadata": {
    "tags": []
   },
   "outputs": [],
   "source": [
    "model.compile(optimizer='adam', loss='sparse_categorical_crossentropy', metrics=['accuracy'])"
   ]
  },
  {
   "cell_type": "code",
   "execution_count": 146,
   "id": "8bad3235-1cda-4c11-bec0-7c518efbbdf3",
   "metadata": {
    "tags": []
   },
   "outputs": [
    {
     "name": "stdout",
     "output_type": "stream",
     "text": [
      "Epoch 1/50\n",
      "59/59 - 3s - loss: 0.7695 - accuracy: 0.6789 - val_loss: 0.4503 - val_accuracy: 0.8667 - 3s/epoch - 58ms/step\n",
      "Epoch 2/50\n",
      "59/59 - 0s - loss: 0.3772 - accuracy: 0.8649 - val_loss: 0.3598 - val_accuracy: 0.8762 - 181ms/epoch - 3ms/step\n",
      "Epoch 3/50\n",
      "59/59 - 0s - loss: 0.2907 - accuracy: 0.8972 - val_loss: 0.3159 - val_accuracy: 0.8857 - 170ms/epoch - 3ms/step\n",
      "Epoch 4/50\n",
      "59/59 - 0s - loss: 0.2386 - accuracy: 0.9179 - val_loss: 0.3008 - val_accuracy: 0.9095 - 178ms/epoch - 3ms/step\n",
      "Epoch 5/50\n",
      "59/59 - 0s - loss: 0.1875 - accuracy: 0.9406 - val_loss: 0.2772 - val_accuracy: 0.9048 - 173ms/epoch - 3ms/step\n",
      "Epoch 6/50\n",
      "59/59 - 0s - loss: 0.1484 - accuracy: 0.9565 - val_loss: 0.2698 - val_accuracy: 0.8952 - 171ms/epoch - 3ms/step\n",
      "Epoch 7/50\n",
      "59/59 - 0s - loss: 0.1215 - accuracy: 0.9698 - val_loss: 0.2602 - val_accuracy: 0.8952 - 168ms/epoch - 3ms/step\n",
      "Epoch 8/50\n",
      "59/59 - 0s - loss: 0.0988 - accuracy: 0.9746 - val_loss: 0.2593 - val_accuracy: 0.9048 - 173ms/epoch - 3ms/step\n",
      "Epoch 9/50\n",
      "59/59 - 0s - loss: 0.0731 - accuracy: 0.9830 - val_loss: 0.2569 - val_accuracy: 0.9000 - 169ms/epoch - 3ms/step\n",
      "Epoch 10/50\n",
      "59/59 - 0s - loss: 0.0568 - accuracy: 0.9883 - val_loss: 0.2324 - val_accuracy: 0.9190 - 172ms/epoch - 3ms/step\n",
      "Epoch 11/50\n",
      "59/59 - 0s - loss: 0.0426 - accuracy: 0.9910 - val_loss: 0.2442 - val_accuracy: 0.9095 - 169ms/epoch - 3ms/step\n",
      "Epoch 12/50\n",
      "59/59 - 0s - loss: 0.0298 - accuracy: 0.9958 - val_loss: 0.2371 - val_accuracy: 0.9190 - 169ms/epoch - 3ms/step\n",
      "Epoch 13/50\n",
      "59/59 - 0s - loss: 0.0227 - accuracy: 0.9984 - val_loss: 0.2750 - val_accuracy: 0.9095 - 168ms/epoch - 3ms/step\n",
      "Epoch 14/50\n",
      "59/59 - 0s - loss: 0.0176 - accuracy: 0.9989 - val_loss: 0.2484 - val_accuracy: 0.9143 - 166ms/epoch - 3ms/step\n",
      "Epoch 15/50\n",
      "59/59 - 0s - loss: 0.0134 - accuracy: 0.9984 - val_loss: 0.2632 - val_accuracy: 0.9143 - 170ms/epoch - 3ms/step\n",
      "Epoch 16/50\n",
      "59/59 - 0s - loss: 0.0103 - accuracy: 1.0000 - val_loss: 0.2345 - val_accuracy: 0.9190 - 160ms/epoch - 3ms/step\n",
      "Epoch 17/50\n",
      "59/59 - 0s - loss: 0.0069 - accuracy: 1.0000 - val_loss: 0.2573 - val_accuracy: 0.9190 - 182ms/epoch - 3ms/step\n",
      "Epoch 18/50\n",
      "59/59 - 0s - loss: 0.0055 - accuracy: 1.0000 - val_loss: 0.2630 - val_accuracy: 0.9143 - 166ms/epoch - 3ms/step\n",
      "Epoch 19/50\n",
      "59/59 - 0s - loss: 0.0043 - accuracy: 1.0000 - val_loss: 0.2719 - val_accuracy: 0.9190 - 178ms/epoch - 3ms/step\n",
      "Epoch 20/50\n",
      "59/59 - 0s - loss: 0.0036 - accuracy: 1.0000 - val_loss: 0.2625 - val_accuracy: 0.9190 - 170ms/epoch - 3ms/step\n",
      "Epoch 21/50\n",
      "59/59 - 0s - loss: 0.0031 - accuracy: 1.0000 - val_loss: 0.2863 - val_accuracy: 0.9190 - 168ms/epoch - 3ms/step\n",
      "Epoch 22/50\n",
      "59/59 - 0s - loss: 0.0027 - accuracy: 1.0000 - val_loss: 0.2849 - val_accuracy: 0.9143 - 172ms/epoch - 3ms/step\n",
      "Epoch 23/50\n",
      "59/59 - 0s - loss: 0.0022 - accuracy: 1.0000 - val_loss: 0.2903 - val_accuracy: 0.9095 - 170ms/epoch - 3ms/step\n",
      "Epoch 24/50\n",
      "59/59 - 0s - loss: 0.0019 - accuracy: 1.0000 - val_loss: 0.3005 - val_accuracy: 0.9143 - 164ms/epoch - 3ms/step\n",
      "Epoch 25/50\n",
      "59/59 - 0s - loss: 0.0017 - accuracy: 1.0000 - val_loss: 0.3022 - val_accuracy: 0.9143 - 173ms/epoch - 3ms/step\n",
      "Epoch 26/50\n",
      "59/59 - 0s - loss: 0.0015 - accuracy: 1.0000 - val_loss: 0.3014 - val_accuracy: 0.9190 - 170ms/epoch - 3ms/step\n",
      "Epoch 27/50\n",
      "59/59 - 0s - loss: 0.0014 - accuracy: 1.0000 - val_loss: 0.3100 - val_accuracy: 0.9095 - 174ms/epoch - 3ms/step\n",
      "Epoch 28/50\n",
      "59/59 - 0s - loss: 0.0012 - accuracy: 1.0000 - val_loss: 0.3067 - val_accuracy: 0.9238 - 169ms/epoch - 3ms/step\n",
      "Epoch 29/50\n",
      "59/59 - 0s - loss: 0.0011 - accuracy: 1.0000 - val_loss: 0.3085 - val_accuracy: 0.9238 - 167ms/epoch - 3ms/step\n",
      "Epoch 30/50\n",
      "59/59 - 0s - loss: 9.6879e-04 - accuracy: 1.0000 - val_loss: 0.3194 - val_accuracy: 0.9143 - 168ms/epoch - 3ms/step\n",
      "Epoch 31/50\n",
      "59/59 - 0s - loss: 8.7055e-04 - accuracy: 1.0000 - val_loss: 0.3225 - val_accuracy: 0.9143 - 171ms/epoch - 3ms/step\n",
      "Epoch 32/50\n",
      "59/59 - 0s - loss: 7.8510e-04 - accuracy: 1.0000 - val_loss: 0.3263 - val_accuracy: 0.9190 - 170ms/epoch - 3ms/step\n",
      "Epoch 33/50\n",
      "59/59 - 0s - loss: 7.2372e-04 - accuracy: 1.0000 - val_loss: 0.3342 - val_accuracy: 0.9143 - 164ms/epoch - 3ms/step\n",
      "Epoch 34/50\n",
      "59/59 - 0s - loss: 6.6160e-04 - accuracy: 1.0000 - val_loss: 0.3383 - val_accuracy: 0.9095 - 168ms/epoch - 3ms/step\n",
      "Epoch 35/50\n",
      "59/59 - 0s - loss: 6.0769e-04 - accuracy: 1.0000 - val_loss: 0.3411 - val_accuracy: 0.9190 - 167ms/epoch - 3ms/step\n",
      "Epoch 36/50\n",
      "59/59 - 0s - loss: 5.5196e-04 - accuracy: 1.0000 - val_loss: 0.3375 - val_accuracy: 0.9143 - 168ms/epoch - 3ms/step\n",
      "Epoch 37/50\n",
      "59/59 - 0s - loss: 5.0901e-04 - accuracy: 1.0000 - val_loss: 0.3391 - val_accuracy: 0.9190 - 165ms/epoch - 3ms/step\n",
      "Epoch 38/50\n",
      "59/59 - 0s - loss: 4.7222e-04 - accuracy: 1.0000 - val_loss: 0.3445 - val_accuracy: 0.9143 - 175ms/epoch - 3ms/step\n",
      "Epoch 39/50\n",
      "59/59 - 0s - loss: 4.3020e-04 - accuracy: 1.0000 - val_loss: 0.3488 - val_accuracy: 0.9190 - 295ms/epoch - 5ms/step\n",
      "Epoch 40/50\n",
      "59/59 - 0s - loss: 4.0803e-04 - accuracy: 1.0000 - val_loss: 0.3504 - val_accuracy: 0.9190 - 171ms/epoch - 3ms/step\n",
      "Epoch 41/50\n",
      "59/59 - 0s - loss: 3.7226e-04 - accuracy: 1.0000 - val_loss: 0.3534 - val_accuracy: 0.9190 - 174ms/epoch - 3ms/step\n",
      "Epoch 42/50\n",
      "59/59 - 0s - loss: 3.4714e-04 - accuracy: 1.0000 - val_loss: 0.3479 - val_accuracy: 0.9190 - 167ms/epoch - 3ms/step\n",
      "Epoch 43/50\n",
      "59/59 - 0s - loss: 3.2722e-04 - accuracy: 1.0000 - val_loss: 0.3555 - val_accuracy: 0.9190 - 187ms/epoch - 3ms/step\n",
      "Epoch 44/50\n",
      "59/59 - 0s - loss: 3.0085e-04 - accuracy: 1.0000 - val_loss: 0.3682 - val_accuracy: 0.9143 - 174ms/epoch - 3ms/step\n",
      "Epoch 45/50\n",
      "59/59 - 0s - loss: 2.8568e-04 - accuracy: 1.0000 - val_loss: 0.3636 - val_accuracy: 0.9238 - 171ms/epoch - 3ms/step\n",
      "Epoch 46/50\n",
      "59/59 - 0s - loss: 2.6599e-04 - accuracy: 1.0000 - val_loss: 0.3613 - val_accuracy: 0.9238 - 172ms/epoch - 3ms/step\n",
      "Epoch 47/50\n",
      "59/59 - 0s - loss: 2.4778e-04 - accuracy: 1.0000 - val_loss: 0.3686 - val_accuracy: 0.9190 - 169ms/epoch - 3ms/step\n",
      "Epoch 48/50\n",
      "59/59 - 0s - loss: 2.3177e-04 - accuracy: 1.0000 - val_loss: 0.3773 - val_accuracy: 0.9190 - 170ms/epoch - 3ms/step\n",
      "Epoch 49/50\n",
      "59/59 - 0s - loss: 2.1965e-04 - accuracy: 1.0000 - val_loss: 0.3758 - val_accuracy: 0.9238 - 173ms/epoch - 3ms/step\n",
      "Epoch 50/50\n",
      "59/59 - 0s - loss: 2.0558e-04 - accuracy: 1.0000 - val_loss: 0.3768 - val_accuracy: 0.9238 - 172ms/epoch - 3ms/step\n"
     ]
    }
   ],
   "source": [
    "history = model.fit(X_train_xgb, y_train_xgb, epochs=50, batch_size=32, validation_split=0.1, verbose=2)"
   ]
  },
  {
   "cell_type": "code",
   "execution_count": 147,
   "id": "72216391-3bcc-4331-a8fc-b5cdcbe1ebb4",
   "metadata": {
    "tags": []
   },
   "outputs": [
    {
     "name": "stdout",
     "output_type": "stream",
     "text": [
      "17/17 [==============================] - 0s 2ms/step\n"
     ]
    }
   ],
   "source": [
    "y_pred_ann = model.predict(X_test_xgb)"
   ]
  },
  {
   "cell_type": "code",
   "execution_count": 148,
   "id": "df23bdf8-80bb-4e75-8c7f-3d271773c63c",
   "metadata": {
    "tags": []
   },
   "outputs": [],
   "source": [
    "y_pred_labels = np.argmax(y_pred_ann, axis=1)"
   ]
  },
  {
   "cell_type": "code",
   "execution_count": 149,
   "id": "3d6e0907-d822-4db6-aff2-b6d6ce4f2d24",
   "metadata": {
    "tags": []
   },
   "outputs": [
    {
     "data": {
      "text/plain": [
       "0.9485714285714286"
      ]
     },
     "execution_count": 149,
     "metadata": {},
     "output_type": "execute_result"
    }
   ],
   "source": [
    "from sklearn.metrics import accuracy_score\n",
    "accuracy_score(y_test_xgb, y_pred_labels)"
   ]
  },
  {
   "cell_type": "code",
   "execution_count": 150,
   "id": "f8eb5452-88c4-4598-b5fe-2438e9578e54",
   "metadata": {
    "tags": []
   },
   "outputs": [
    {
     "data": {
      "image/png": "[encoded data removed]",
      "text/plain": [
       "<Figure size 640x480 with 1 Axes>"
      ]
     },
     "metadata": {},
     "output_type": "display_data"
    }
   ],
   "source": [
    "import matplotlib.pyplot as plt\n",
    "plt.plot(history.history['loss'], label='Training Loss')\n",
    "plt.plot(history.history['val_loss'], label='Validation Loss')\n",
    "\n",
    "plt.title('Model Loss')\n",
    "plt.xlabel('Epoch')\n",
    "plt.ylabel('Loss')\n",
    "plt.legend()  \n",
    "plt.show()"
   ]
  },
  {
   "cell_type": "code",
   "execution_count": 151,
   "id": "6eb3f1fc-8d5f-4602-9f31-403c1c10ecb1",
   "metadata": {
    "tags": []
   },
   "outputs": [
    {
     "data": {
      "image/png": "[encoded data removed]",
      "text/plain": [
       "<Figure size 640x480 with 1 Axes>"
      ]
     },
     "metadata": {},
     "output_type": "display_data"
    }
   ],
   "source": [
    "plt.plot(history.history['accuracy'], label='Training Accuracy')\n",
    "plt.plot(history.history['val_accuracy'], label='Validation Accuracy')\n",
    "\n",
    "plt.title('Model Accuracy')\n",
    "plt.xlabel('Epoch')\n",
    "plt.ylabel('Accuracy')\n",
    "plt.legend()  # This will use the labels provided in the 'label' argument above\n",
    "plt.show()"
   ]
  },
  {
   "cell_type": "markdown",
   "id": "4e35c897-5865-491b-90b6-b22737aa11cc",
   "metadata": {},
   "source": [
    "- After applying an artificial neural network (ANN) model to the problem statement dataset, we can achieve better accuracies than the other classification models used previously.\n",
    "- With the ANN model, I can achieve up to 95% of accuracy score, which can be considered as suitable for production-grade use case model.\n",
    "- The ANN model is a powerful and flexible tool for solving complex and nonlinear problems in various domains."
   ]
  },
  {
   "cell_type": "code",
   "execution_count": 152,
   "id": "b2e4b41f-9981-40ca-9258-0f974631c991",
   "metadata": {
    "tags": []
   },
   "outputs": [
    {
     "data": {
      "text/plain": [
       "['../../data/random_for_class_hyp.joblib']"
      ]
     },
     "execution_count": 152,
     "metadata": {},
     "output_type": "execute_result"
    }
   ],
   "source": [
    "# saving the random forest classifier model\n",
    "import joblib\n",
    "joblib.dump(rand_for_best_para, '../../data/random_for_class_hyp.joblib')"
   ]
  },
  {
   "cell_type": "code",
   "execution_count": 153,
   "id": "c0af6e76-0f5f-45d2-89c0-f190f650b4d4",
   "metadata": {
    "tags": []
   },
   "outputs": [
    {
     "data": {
      "text/plain": [
       "['../../data/xgb_class_hyp.joblib']"
      ]
     },
     "execution_count": 153,
     "metadata": {},
     "output_type": "execute_result"
    }
   ],
   "source": [
    "joblib.dump(xgb_class_best_param, '../../data/xgb_class_hyp.joblib')"
   ]
  },
  {
   "cell_type": "code",
   "execution_count": 154,
   "id": "013d6e4b-87c4-498e-9370-624a46748c36",
   "metadata": {
    "tags": []
   },
   "outputs": [],
   "source": [
    "import pickle\n",
    "\n",
    "# Assuming rand_for_best_para is your RandomForest model\n",
    "with open('../../data/random_for_class_hyp.pickle', 'wb') as file:\n",
    "    pickle.dump(rand_for_best_para, file)"
   ]
  },
  {
   "cell_type": "code",
   "execution_count": null,
   "id": "e4f68bf3-b722-49e0-b413-bab2cacf6e14",
   "metadata": {},
   "outputs": [],
   "source": []
  }
 ],
 "metadata": {
  "kernelspec": {
   "display_name": "Python 3 (ipykernel)",
   "language": "python",
   "name": "python3"
  },
  "language_info": {
   "codemirror_mode": {
    "name": "ipython",
    "version": 3
   },
   "file_extension": ".py",
   "mimetype": "text/x-python",
   "name": "python",
   "nbconvert_exporter": "python",
   "pygments_lexer": "ipython3",
   "version": "3.10.9"
  }
 },
 "nbformat": 4,
 "nbformat_minor": 5
}
